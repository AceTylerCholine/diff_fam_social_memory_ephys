{
 "cells": [
  {
   "cell_type": "markdown",
   "metadata": {},
   "source": [
    "# soc t-test (social agent vs. empty)"
   ]
  },
  {
   "cell_type": "code",
   "execution_count": 43,
   "metadata": {},
   "outputs": [],
   "source": [
    "import pandas as pd\n",
    "from scipy.stats import ttest_ind\n",
    "from pathlib import Path\n",
    "import glob\n"
   ]
  },
  {
   "cell_type": "code",
   "execution_count": 44,
   "metadata": {},
   "outputs": [],
   "source": [
    "# Set the path to the folder containing your Excel files\n",
    "folder_path = glob.glob(r\"D:\\Sequioa\\anymaze_data\\cage*.csv\")"
   ]
  },
  {
   "cell_type": "code",
   "execution_count": 45,
   "metadata": {},
   "outputs": [
    {
     "data": {
      "text/plain": [
       "['D:\\\\Sequioa\\\\anymaze_data\\\\cage_1_soc_day_1_3.csv',\n",
       " 'D:\\\\Sequioa\\\\anymaze_data\\\\cage_2_soc_day_2_4.csv']"
      ]
     },
     "execution_count": 45,
     "metadata": {},
     "output_type": "execute_result"
    }
   ],
   "source": [
    "folder_path"
   ]
  },
  {
   "cell_type": "code",
   "execution_count": 46,
   "metadata": {},
   "outputs": [
    {
     "data": {
      "text/plain": [
       "Index(['Test', 'Animal', 'Animal notes', 'novel-right_:', 'familiar-left_:',\n",
       "       'Whole-Chamber : time (s)', 'Whole Left Chamber : time (s)',\n",
       "       'Whole Right Chamber : time (s)', 'Segment of test', 'familiar_right',\n",
       "       'novel_left'],\n",
       "      dtype='object')"
      ]
     },
     "execution_count": 46,
     "metadata": {},
     "output_type": "execute_result"
    }
   ],
   "source": [
    "soc.columns"
   ]
  },
  {
   "cell_type": "code",
   "execution_count": 47,
   "metadata": {},
   "outputs": [
    {
     "name": "stdout",
     "output_type": "stream",
     "text": [
      "Social Agent Left : time investigating (s)\n",
      "Empty Cup Right : time investigating (s)\n",
      "Social Agent on the Right : time investigating (s)\n",
      "Empty Cup Left : time investigating (s)\n"
     ]
    }
   ],
   "source": [
    "soc = []\n",
    "# Loop through each file\n",
    "for file in folder_path:\n",
    "    # Read the Excel file\n",
    "    df = pd.read_csv(file)\n",
    "# Loop through each file and rename columns \n",
    "    for columns in df.columns:\n",
    "        if 'time investigating' in columns:\n",
    "            print(columns)\n",
    "            df = df.rename(columns = {columns: \"_\".join(columns.split(\" \")[0:2]).lower()})\n",
    "    soc.append(df)    \n"
   ]
  },
  {
   "cell_type": "code",
   "execution_count": 48,
   "metadata": {},
   "outputs": [],
   "source": [
    "soc = pd.concat(soc) \n",
    "\n"
   ]
  },
  {
   "cell_type": "code",
   "execution_count": 49,
   "metadata": {},
   "outputs": [],
   "source": [
    "# Initialize an empty list to store t-test results\n",
    "t_test_results = [] \n",
    "#Perform t-test comparing columns E and F\n",
    "t_stat, p_value = ttest_ind(soc['social_agent'], soc['empty_cup'])"
   ]
  },
  {
   "cell_type": "code",
   "execution_count": 27,
   "metadata": {},
   "outputs": [
    {
     "data": {
      "text/plain": [
       "(2.198937178763291, 0.03573131085057752)"
      ]
     },
     "execution_count": 27,
     "metadata": {},
     "output_type": "execute_result"
    }
   ],
   "source": [
    "t_stat, p_value"
   ]
  },
  {
   "cell_type": "code",
   "execution_count": 50,
   "metadata": {},
   "outputs": [
    {
     "data": {
      "text/plain": [
       "[]"
      ]
     },
     "execution_count": 50,
     "metadata": {},
     "output_type": "execute_result"
    }
   ],
   "source": [
    "t_test_results"
   ]
  },
  {
   "cell_type": "code",
   "execution_count": 51,
   "metadata": {},
   "outputs": [],
   "source": [
    "# Display the results\n",
    "for result in t_test_results:\n",
    "    print(f\"File: {result['File']}\")\n",
    "    print(f\"T-Statistic: {result['T-Statistic']}\")\n",
    "    print(f\"P-Value: {result['P-Value']}\\n\")"
   ]
  },
  {
   "cell_type": "markdown",
   "metadata": {},
   "source": [
    "# SM t-test (social agent vs. novel)"
   ]
  },
  {
   "cell_type": "code",
   "execution_count": 52,
   "metadata": {},
   "outputs": [],
   "source": [
    "# Set the path to the folder containing your Excel files\n",
    "folder_path = glob.glob(r\"D:\\Sequioa\\anymaze_data\\SM\\cage*.csv\")"
   ]
  },
  {
   "cell_type": "code",
   "execution_count": 53,
   "metadata": {},
   "outputs": [
    {
     "data": {
      "text/plain": [
       "['D:\\\\Sequioa\\\\anymaze_data\\\\SM\\\\cage_1_SM_day_1_3.csv',\n",
       " 'D:\\\\Sequioa\\\\anymaze_data\\\\SM\\\\cage_2_SM_day_2_4.csv']"
      ]
     },
     "execution_count": 53,
     "metadata": {},
     "output_type": "execute_result"
    }
   ],
   "source": [
    "folder_path"
   ]
  },
  {
   "cell_type": "code",
   "execution_count": 58,
   "metadata": {},
   "outputs": [
    {
     "name": "stdout",
     "output_type": "stream",
     "text": [
      "Novel-Right : time investigating (s)\n",
      "Familiar-Left : time investigating (s)\n",
      "Familiar Right : time investigating (s)\n",
      "Novel Left : time investigating (s)\n"
     ]
    }
   ],
   "source": [
    "SM = []\n",
    "# Loop through each file\n",
    "for file in folder_path:\n",
    "    # Read the Excel file\n",
    "    df = pd.read_csv(file)\n",
    "# Loop through each file and rename columns \n",
    "    for columns in df.columns:\n",
    "        if 'time investigating' in columns:\n",
    "            print(columns)\n",
    "            df = df.rename(columns = {columns: \"_agent\".join(columns.split(\"-, \")[0:1]).lower()})\n",
    "    SM.append(df)    \n"
   ]
  },
  {
   "cell_type": "code",
   "execution_count": 61,
   "metadata": {},
   "outputs": [],
   "source": [
    "SM = pd.concat(SM)"
   ]
  },
  {
   "cell_type": "code",
   "execution_count": 62,
   "metadata": {},
   "outputs": [
    {
     "data": {
      "text/plain": [
       "Index(['Test', 'Animal', 'Animal notes',\n",
       "       'novel-right : time investigating (s)',\n",
       "       'familiar-left : time investigating (s)', 'Whole-Chamber : time (s)',\n",
       "       'Whole Left Chamber : time (s)', 'Whole Right Chamber : time (s)',\n",
       "       'Segment of test', 'familiar right : time investigating (s)',\n",
       "       'novel left : time investigating (s)'],\n",
       "      dtype='object')"
      ]
     },
     "execution_count": 62,
     "metadata": {},
     "output_type": "execute_result"
    }
   ],
   "source": [
    "SM.columns"
   ]
  }
 ],
 "metadata": {
  "kernelspec": {
   "display_name": "ephys_analysis",
   "language": "python",
   "name": "python3"
  },
  "language_info": {
   "codemirror_mode": {
    "name": "ipython",
    "version": 3
   },
   "file_extension": ".py",
   "mimetype": "text/x-python",
   "name": "python",
   "nbconvert_exporter": "python",
   "pygments_lexer": "ipython3",
   "version": "3.8.18"
  }
 },
 "nbformat": 4,
 "nbformat_minor": 2
}
