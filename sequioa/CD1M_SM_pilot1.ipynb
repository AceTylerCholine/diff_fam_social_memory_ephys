{
 "cells": [
  {
   "cell_type": "markdown",
   "metadata": {},
   "source": [
    "# socialbility analysis"
   ]
  },
  {
   "cell_type": "markdown",
   "metadata": {},
   "source": [
    "The goal of this notebook is to take in csv output files from the tracking softwear Anymaze and preform analysis of behavioral data. This notebook aims to create a pipeline for analyzing data collected during my project investigating social prefrence (eg socialbility) and novelty prefrence (social memory).\n",
    "\n",
    "write code to run t-test\n",
    "calculate summary stats\n",
    "plot data in a bar graph\n",
    "plot lines for each data point"
   ]
  },
  {
   "cell_type": "code",
   "execution_count": 94,
   "metadata": {},
   "outputs": [],
   "source": [
    "import pandas as pd\n",
    "from scipy.stats import ttest_ind\n",
    "from pathlib import Path\n",
    "import glob\n",
    "import os\n",
    "import matplotlib.pyplot as plt\n",
    "import numpy as np"
   ]
  },
  {
   "cell_type": "code",
   "execution_count": 100,
   "metadata": {},
   "outputs": [],
   "source": [
    "# Set the path to the folder containing your Excel files\n",
    "folder_path = glob.glob(r\"D:\\Sequioa\\anymaze_data\\cage*.csv\")"
   ]
  },
  {
   "cell_type": "code",
   "execution_count": 101,
   "metadata": {},
   "outputs": [
    {
     "data": {
      "text/plain": [
       "['D:\\\\Sequioa\\\\anymaze_data\\\\cage_1_soc_day_1_3.csv',\n",
       " 'D:\\\\Sequioa\\\\anymaze_data\\\\cage_2_soc_day_2_4.csv']"
      ]
     },
     "execution_count": 101,
     "metadata": {},
     "output_type": "execute_result"
    }
   ],
   "source": [
    "folder_path"
   ]
  },
  {
   "cell_type": "code",
   "execution_count": 102,
   "metadata": {},
   "outputs": [
    {
     "name": "stdout",
     "output_type": "stream",
     "text": [
      "Social Agent Left : time investigating (s)\n",
      "Empty Cup Right : time investigating (s)\n",
      "Social Agent on the Right : time investigating (s)\n",
      "Empty Cup Left : time investigating (s)\n"
     ]
    }
   ],
   "source": [
    "soc = []\n",
    "# Loop through each file\n",
    "for file in folder_path:\n",
    "    # Read the Excel file\n",
    "    df = pd.read_csv(file)\n",
    "# Loop through each file and rename columns \n",
    "    for columns in df.columns:\n",
    "        if 'time investigating' in columns:\n",
    "            print(columns)\n",
    "            df = df.rename(columns = {columns: \"_\".join(columns.split(\" \")[0:2]).lower()})\n",
    "    soc.append(df)    \n"
   ]
  },
  {
   "cell_type": "code",
   "execution_count": 104,
   "metadata": {},
   "outputs": [],
   "source": [
    "soc = pd.concat(soc) \n",
    "\n",
    "#soc_cagemate = soc[soc['Animal Notes'] == 'cagemate']\n",
    "#i want a new dataframe that is the old dataframe new_df = old_df[filter]\n",
    "#but i want my old df with a filter old_df[old_df[column_of_interest] == what_youu_want]\n",
    "#filter = old_df[column_of_interest] == what_youu_want"
   ]
  },
  {
   "cell_type": "code",
   "execution_count": 105,
   "metadata": {},
   "outputs": [],
   "source": [
    "# Initialize an empty list to store t-test results\n",
    "t_test_results = [] \n",
    "#Perform t-test comparing columns E and F\n",
    "t_stat, p_value = ttest_ind(soc['social_agent'], soc['empty_cup'])\n",
    "\n",
    "t_test_results.append([t_stat, p_value])"
   ]
  },
  {
   "cell_type": "code",
   "execution_count": 106,
   "metadata": {},
   "outputs": [],
   "source": [
    "# Initialize an empty list to store t-test results\n",
    "caeg_mate_t_test_results = [] \n",
    "#Perform t-test comparing columns E and F\n",
    "t_stat, p_value = ttest_ind(soc['social_agent'], soc['empty_cup'])"
   ]
  },
  {
   "cell_type": "code",
   "execution_count": 107,
   "metadata": {},
   "outputs": [
    {
     "data": {
      "text/plain": [
       "(2.198937178763291, 0.03573131085057752)"
      ]
     },
     "execution_count": 107,
     "metadata": {},
     "output_type": "execute_result"
    }
   ],
   "source": [
    "t_stat, p_value"
   ]
  },
  {
   "cell_type": "code",
   "execution_count": 108,
   "metadata": {},
   "outputs": [
    {
     "data": {
      "text/plain": [
       "[[2.198937178763291, 0.03573131085057752]]"
      ]
     },
     "execution_count": 108,
     "metadata": {},
     "output_type": "execute_result"
    }
   ],
   "source": [
    "t_test_results"
   ]
  },
  {
   "cell_type": "markdown",
   "metadata": {},
   "source": [
    "# Summary Stats"
   ]
  },
  {
   "cell_type": "code",
   "execution_count": 111,
   "metadata": {},
   "outputs": [],
   "source": [
    "# prompt: I need to plot the average of social_agent v empty_cup in a bar graph with SEM\n",
    "\n",
    "# Calculate the average of social_agent and empty_cup\n",
    "avg_social_agent = soc['social_agent'].mean()\n",
    "avg_empty_cup = soc['empty_cup'].mean()\n",
    "\n",
    "# Calculate the standard error of the mean (SEM) for social_agent and empty_cup\n",
    "sem_social_agent = soc['social_agent'].sem()\n",
    "sem_empty_cup = soc['empty_cup'].sem()"
   ]
  },
  {
   "cell_type": "code",
   "execution_count": 112,
   "metadata": {},
   "outputs": [],
   "source": [
    "# Prepare data for bar plot\n",
    "x = np.array([1, 2])\n",
    "y = np.array([avg_social_agent, avg_empty_cup])\n",
    "yerr = np.array([sem_social_agent, sem_empty_cup])\n",
    "labels = ['Social Agent', 'Empty Cup']"
   ]
  },
  {
   "cell_type": "code",
   "execution_count": 124,
   "metadata": {},
   "outputs": [
    {
     "data": {
      "text/plain": [
       "Text(1, 52.3625, '*')"
      ]
     },
     "execution_count": 124,
     "metadata": {},
     "output_type": "execute_result"
    },
    {
     "data": {
      "image/png": "[encoded data removed]",
      "text/plain": [
       "<Figure size 640x480 with 1 Axes>"
      ]
     },
     "metadata": {},
     "output_type": "display_data"
    }
   ],
   "source": [
    "# Create the bar plot\n",
    "plt.bar(x, y, yerr=yerr, align='center', alpha=0.5, ecolor='black', capsize=10)\n",
    "plt.xticks(x, labels)\n",
    "social_agent = soc.loc[:, 'social_agent' ]  # Values from the first column\n",
    "empty_cup = soc.loc[:, 'empty_cup']  # Values from the second column\n",
    "x_values = [1, 2]  # x values for each row\n",
    "\n",
    "# Add significance markers\n",
    "plt.text(x[0], y[0] + 0.05, \"*\", ha='center', va='bottom', color='red', fontsize=30)\n",
    "# Adjust the position (e.g., +0.05) and font size as needed"
   ]
  },
  {
   "cell_type": "code",
   "execution_count": 126,
   "metadata": {},
   "outputs": [
    {
     "ename": "KeyError",
     "evalue": "8",
     "output_type": "error",
     "traceback": [
      "\u001b[1;31m---------------------------------------------------------------------------\u001b[0m",
      "\u001b[1;31mKeyError\u001b[0m                                  Traceback (most recent call last)",
      "File \u001b[1;32mc:\\Users\\sjs93\\anaconda3\\Lib\\site-packages\\pandas\\core\\indexes\\base.py:3790\u001b[0m, in \u001b[0;36mIndex.get_loc\u001b[1;34m(self, key)\u001b[0m\n\u001b[0;32m   3789\u001b[0m \u001b[38;5;28;01mtry\u001b[39;00m:\n\u001b[1;32m-> 3790\u001b[0m     \u001b[38;5;28;01mreturn\u001b[39;00m \u001b[38;5;28mself\u001b[39m\u001b[38;5;241m.\u001b[39m_engine\u001b[38;5;241m.\u001b[39mget_loc(casted_key)\n\u001b[0;32m   3791\u001b[0m \u001b[38;5;28;01mexcept\u001b[39;00m \u001b[38;5;167;01mKeyError\u001b[39;00m \u001b[38;5;28;01mas\u001b[39;00m err:\n",
      "File \u001b[1;32mindex.pyx:152\u001b[0m, in \u001b[0;36mpandas._libs.index.IndexEngine.get_loc\u001b[1;34m()\u001b[0m\n",
      "File \u001b[1;32mindex.pyx:176\u001b[0m, in \u001b[0;36mpandas._libs.index.IndexEngine.get_loc\u001b[1;34m()\u001b[0m\n",
      "File \u001b[1;32mindex.pyx:219\u001b[0m, in \u001b[0;36mpandas._libs.index.IndexEngine._get_loc_duplicates\u001b[1;34m()\u001b[0m\n",
      "File \u001b[1;32mindex.pyx:227\u001b[0m, in \u001b[0;36mpandas._libs.index.IndexEngine._maybe_get_bool_indexer\u001b[1;34m()\u001b[0m\n",
      "File \u001b[1;32mindex.pyx:119\u001b[0m, in \u001b[0;36mpandas._libs.index._unpack_bool_indexer\u001b[1;34m()\u001b[0m\n",
      "\u001b[1;31mKeyError\u001b[0m: 8",
      "\nThe above exception was the direct cause of the following exception:\n",
      "\u001b[1;31mKeyError\u001b[0m                                  Traceback (most recent call last)",
      "Cell \u001b[1;32mIn[126], line 20\u001b[0m\n\u001b[0;32m     10\u001b[0m \u001b[38;5;66;03m# Adjust the position (e.g., +0.05) and font size as needed\u001b[39;00m\n\u001b[0;32m     11\u001b[0m \u001b[38;5;66;03m# Plot each row as a separate line\u001b[39;00m\n\u001b[0;32m     12\u001b[0m \u001b[38;5;66;03m# for i in range(len(combined_df)): Iterate over each index (row) in the combined DataFrame (combined_df) using a for loop.\u001b[39;00m\n\u001b[1;32m   (...)\u001b[0m\n\u001b[0;32m     16\u001b[0m \u001b[38;5;66;03m# Each point is marked with a circular marker ('o').\u001b[39;00m\n\u001b[0;32m     17\u001b[0m \u001b[38;5;66;03m# The label for each line is generated dynamically using the index (i+1) to represent different lines.\u001b[39;00m\n\u001b[0;32m     19\u001b[0m \u001b[38;5;28;01mfor\u001b[39;00m i \u001b[38;5;129;01min\u001b[39;00m \u001b[38;5;28mrange\u001b[39m(\u001b[38;5;28mlen\u001b[39m(soc)):\n\u001b[1;32m---> 20\u001b[0m     plt\u001b[38;5;241m.\u001b[39mplot(x_values, [social_agent[i], empty_cup[i]], marker\u001b[38;5;241m=\u001b[39m\u001b[38;5;124m'\u001b[39m\u001b[38;5;124mo\u001b[39m\u001b[38;5;124m'\u001b[39m, label\u001b[38;5;241m=\u001b[39m\u001b[38;5;124mf\u001b[39m\u001b[38;5;124m'\u001b[39m\u001b[38;5;124mLine \u001b[39m\u001b[38;5;132;01m{\u001b[39;00mi\u001b[38;5;241m+\u001b[39m\u001b[38;5;241m1\u001b[39m\u001b[38;5;132;01m}\u001b[39;00m\u001b[38;5;124m'\u001b[39m)\n\u001b[0;32m     21\u001b[0m plt\u001b[38;5;241m.\u001b[39mylabel(\u001b[38;5;124m'\u001b[39m\u001b[38;5;124mAverage Time Investigating (s)\u001b[39m\u001b[38;5;124m'\u001b[39m)\n\u001b[0;32m     22\u001b[0m plt\u001b[38;5;241m.\u001b[39mtitle(\u001b[38;5;124m'\u001b[39m\u001b[38;5;124mComparison of Social Agent vs. Empty Cup Investigation Time\u001b[39m\u001b[38;5;124m'\u001b[39m)\n",
      "File \u001b[1;32mc:\\Users\\sjs93\\anaconda3\\Lib\\site-packages\\pandas\\core\\series.py:1040\u001b[0m, in \u001b[0;36mSeries.__getitem__\u001b[1;34m(self, key)\u001b[0m\n\u001b[0;32m   1037\u001b[0m     \u001b[38;5;28;01mreturn\u001b[39;00m \u001b[38;5;28mself\u001b[39m\u001b[38;5;241m.\u001b[39m_values[key]\n\u001b[0;32m   1039\u001b[0m \u001b[38;5;28;01melif\u001b[39;00m key_is_scalar:\n\u001b[1;32m-> 1040\u001b[0m     \u001b[38;5;28;01mreturn\u001b[39;00m \u001b[38;5;28mself\u001b[39m\u001b[38;5;241m.\u001b[39m_get_value(key)\n\u001b[0;32m   1042\u001b[0m \u001b[38;5;66;03m# Convert generator to list before going through hashable part\u001b[39;00m\n\u001b[0;32m   1043\u001b[0m \u001b[38;5;66;03m# (We will iterate through the generator there to check for slices)\u001b[39;00m\n\u001b[0;32m   1044\u001b[0m \u001b[38;5;28;01mif\u001b[39;00m is_iterator(key):\n",
      "File \u001b[1;32mc:\\Users\\sjs93\\anaconda3\\Lib\\site-packages\\pandas\\core\\series.py:1156\u001b[0m, in \u001b[0;36mSeries._get_value\u001b[1;34m(self, label, takeable)\u001b[0m\n\u001b[0;32m   1153\u001b[0m     \u001b[38;5;28;01mreturn\u001b[39;00m \u001b[38;5;28mself\u001b[39m\u001b[38;5;241m.\u001b[39m_values[label]\n\u001b[0;32m   1155\u001b[0m \u001b[38;5;66;03m# Similar to Index.get_value, but we do not fall back to positional\u001b[39;00m\n\u001b[1;32m-> 1156\u001b[0m loc \u001b[38;5;241m=\u001b[39m \u001b[38;5;28mself\u001b[39m\u001b[38;5;241m.\u001b[39mindex\u001b[38;5;241m.\u001b[39mget_loc(label)\n\u001b[0;32m   1158\u001b[0m \u001b[38;5;28;01mif\u001b[39;00m is_integer(loc):\n\u001b[0;32m   1159\u001b[0m     \u001b[38;5;28;01mreturn\u001b[39;00m \u001b[38;5;28mself\u001b[39m\u001b[38;5;241m.\u001b[39m_values[loc]\n",
      "File \u001b[1;32mc:\\Users\\sjs93\\anaconda3\\Lib\\site-packages\\pandas\\core\\indexes\\base.py:3797\u001b[0m, in \u001b[0;36mIndex.get_loc\u001b[1;34m(self, key)\u001b[0m\n\u001b[0;32m   3792\u001b[0m     \u001b[38;5;28;01mif\u001b[39;00m \u001b[38;5;28misinstance\u001b[39m(casted_key, \u001b[38;5;28mslice\u001b[39m) \u001b[38;5;129;01mor\u001b[39;00m (\n\u001b[0;32m   3793\u001b[0m         \u001b[38;5;28misinstance\u001b[39m(casted_key, abc\u001b[38;5;241m.\u001b[39mIterable)\n\u001b[0;32m   3794\u001b[0m         \u001b[38;5;129;01mand\u001b[39;00m \u001b[38;5;28many\u001b[39m(\u001b[38;5;28misinstance\u001b[39m(x, \u001b[38;5;28mslice\u001b[39m) \u001b[38;5;28;01mfor\u001b[39;00m x \u001b[38;5;129;01min\u001b[39;00m casted_key)\n\u001b[0;32m   3795\u001b[0m     ):\n\u001b[0;32m   3796\u001b[0m         \u001b[38;5;28;01mraise\u001b[39;00m InvalidIndexError(key)\n\u001b[1;32m-> 3797\u001b[0m     \u001b[38;5;28;01mraise\u001b[39;00m \u001b[38;5;167;01mKeyError\u001b[39;00m(key) \u001b[38;5;28;01mfrom\u001b[39;00m \u001b[38;5;21;01merr\u001b[39;00m\n\u001b[0;32m   3798\u001b[0m \u001b[38;5;28;01mexcept\u001b[39;00m \u001b[38;5;167;01mTypeError\u001b[39;00m:\n\u001b[0;32m   3799\u001b[0m     \u001b[38;5;66;03m# If we have a listlike key, _check_indexing_error will raise\u001b[39;00m\n\u001b[0;32m   3800\u001b[0m     \u001b[38;5;66;03m#  InvalidIndexError. Otherwise we fall through and re-raise\u001b[39;00m\n\u001b[0;32m   3801\u001b[0m     \u001b[38;5;66;03m#  the TypeError.\u001b[39;00m\n\u001b[0;32m   3802\u001b[0m     \u001b[38;5;28mself\u001b[39m\u001b[38;5;241m.\u001b[39m_check_indexing_error(key)\n",
      "\u001b[1;31mKeyError\u001b[0m: 8"
     ]
    },
    {
     "data": {
      "image/png": "[encoded data removed]",
      "text/plain": [
       "<Figure size 640x480 with 1 Axes>"
      ]
     },
     "metadata": {},
     "output_type": "display_data"
    }
   ],
   "source": [
    "# Create the bar plot\n",
    "plt.bar(x, y, yerr=yerr, align='center', alpha=0.5, ecolor='black', capsize=10)\n",
    "plt.xticks(x, labels)\n",
    "social_agent = soc.loc[:, 'social_agent' ]  # Values from the first column\n",
    "empty_cup = soc.loc[:, 'empty_cup']  # Values from the second column\n",
    "x_values = [1, 2]  # x values for each row\n",
    "\n",
    "# Add significance markers\n",
    "plt.text(x[0], y[0] + 0.05, \"*\", ha='center', va='bottom', color='red', fontsize=30)\n",
    "# Adjust the position (e.g., +0.05) and font size as needed\n",
    "\n",
    "\n",
    "# Plot each row as a separate line\n",
    "# for i in range(len(combined_df)): Iterate over each index (row) in the combined DataFrame (combined_df) using a for loop.\n",
    "# The loop iterates over a range of indices from 0 to the length of the DataFrame minus 1.\n",
    "# It allows access to each row of the DataFrame, one at a time, with the variable i representing the index.\n",
    "# plt.plot(x_values, [social_agent[i], empty_cup[i]], marker='o', label=f'Line {i+1}'): Plot a point for each time point (x_values) with corresponding values from the social_agent and empty_cup arrays.\n",
    "# Each point is marked with a circular marker ('o').\n",
    "# The label for each line is generated dynamically using the index (i+1) to represent different lines.\n",
    "\n",
    "for i in range(len(soc)):\n",
    "    plt.plot(x_values, [social_agent[i], empty_cup[i]], marker='o', label=f'Line {i+1}')\n",
    "plt.ylabel('Average Time Investigating (s)')\n",
    "plt.title('Comparison of Social Agent vs. Empty Cup Investigation Time')\n",
    "plt.show()\n"
   ]
  },
  {
   "cell_type": "code",
   "execution_count": 127,
   "metadata": {},
   "outputs": [
    {
     "name": "stdout",
     "output_type": "stream",
     "text": [
      "Cagemate vs. Empty:\n",
      "t-statistic: 0.4833133544720802\n",
      "p-value: 0.6363445456770658\n",
      "\n",
      "Familiar vs. Empty:\n",
      "t-statistic: 2.75991569824763\n",
      "p-value: 0.015343254212607405\n"
     ]
    }
   ],
   "source": [
    "# prompt: now i want to filter my combind_df based on the Animal notes column \n",
    "\n",
    "# Filter the soc based on the Animal notes column\n",
    "cagemates = soc[soc['Animal notes'] == 'Cagemate']\n",
    "familiar = soc[soc['Animal notes'] == 'Familiar']\n",
    "\n",
    "# Perform t-tests comparing cagemate vs. empty and familiar vs. empty\n",
    "t_stat_cagemate, p_value_cagemate = ttest_ind(cagemates['social_agent'], cagemates['empty_cup'])\n",
    "t_stat_familiar, p_value_familiar = ttest_ind(familiar['social_agent'], familiar['empty_cup'])\n",
    "\n",
    "# Print the results\n",
    "print(\"Cagemate vs. Empty:\")\n",
    "print(\"t-statistic:\", t_stat_cagemate)\n",
    "print(\"p-value:\", p_value_cagemate)\n",
    "\n",
    "print(\"\\nFamiliar vs. Empty:\")\n",
    "print(\"t-statistic:\", t_stat_familiar)\n",
    "print(\"p-value:\", p_value_familiar)\n"
   ]
  },
  {
   "cell_type": "code",
   "execution_count": 131,
   "metadata": {},
   "outputs": [
    {
     "name": "stdout",
     "output_type": "stream",
     "text": [
      "Cagemate mean: 40.25\n",
      "Familiar mean: 64.375\n",
      "cagemate sem 9.543902316587875\n",
      "familiar sem 11.9626912583606\n"
     ]
    }
   ],
   "source": [
    "# prompt: i want to calculate the mean of cagemates and familiar\n",
    "\n",
    "# Calculate the mean of cagemates\n",
    "cagemate_mean = cagemates['social_agent'].mean()\n",
    "\n",
    "# Calculate the mean of familiar\n",
    "familiar_mean = familiar['social_agent'].mean()\n",
    "\n",
    "# Print the results\n",
    "print(\"Cagemate mean:\", cagemate_mean)\n",
    "print(\"Familiar mean:\", familiar_mean)\n",
    "\n",
    "cagemate_sem = cagemates['social_agent'].sem()\n",
    "familiar_sem = familiar['social_agent'].sem()\n",
    "\n",
    "print('cagemate sem', cagemate_sem)\n",
    "print('familiar sem', familiar_sem)"
   ]
  },
  {
   "cell_type": "code",
   "execution_count": 133,
   "metadata": {},
   "outputs": [
    {
     "ename": "KeyError",
     "evalue": "8",
     "output_type": "error",
     "traceback": [
      "\u001b[1;31m---------------------------------------------------------------------------\u001b[0m",
      "\u001b[1;31mKeyError\u001b[0m                                  Traceback (most recent call last)",
      "File \u001b[1;32mc:\\Users\\sjs93\\anaconda3\\Lib\\site-packages\\pandas\\core\\indexes\\base.py:3790\u001b[0m, in \u001b[0;36mIndex.get_loc\u001b[1;34m(self, key)\u001b[0m\n\u001b[0;32m   3789\u001b[0m \u001b[38;5;28;01mtry\u001b[39;00m:\n\u001b[1;32m-> 3790\u001b[0m     \u001b[38;5;28;01mreturn\u001b[39;00m \u001b[38;5;28mself\u001b[39m\u001b[38;5;241m.\u001b[39m_engine\u001b[38;5;241m.\u001b[39mget_loc(casted_key)\n\u001b[0;32m   3791\u001b[0m \u001b[38;5;28;01mexcept\u001b[39;00m \u001b[38;5;167;01mKeyError\u001b[39;00m \u001b[38;5;28;01mas\u001b[39;00m err:\n",
      "File \u001b[1;32mindex.pyx:152\u001b[0m, in \u001b[0;36mpandas._libs.index.IndexEngine.get_loc\u001b[1;34m()\u001b[0m\n",
      "File \u001b[1;32mindex.pyx:176\u001b[0m, in \u001b[0;36mpandas._libs.index.IndexEngine.get_loc\u001b[1;34m()\u001b[0m\n",
      "File \u001b[1;32mindex.pyx:219\u001b[0m, in \u001b[0;36mpandas._libs.index.IndexEngine._get_loc_duplicates\u001b[1;34m()\u001b[0m\n",
      "File \u001b[1;32mindex.pyx:227\u001b[0m, in \u001b[0;36mpandas._libs.index.IndexEngine._maybe_get_bool_indexer\u001b[1;34m()\u001b[0m\n",
      "File \u001b[1;32mindex.pyx:119\u001b[0m, in \u001b[0;36mpandas._libs.index._unpack_bool_indexer\u001b[1;34m()\u001b[0m\n",
      "\u001b[1;31mKeyError\u001b[0m: 8",
      "\nThe above exception was the direct cause of the following exception:\n",
      "\u001b[1;31mKeyError\u001b[0m                                  Traceback (most recent call last)",
      "Cell \u001b[1;32mIn[133], line 16\u001b[0m\n\u001b[0;32m     13\u001b[0m plt\u001b[38;5;241m.\u001b[39mtitle(\u001b[38;5;124m'\u001b[39m\u001b[38;5;124mComparison of Cagemate vs. Empty Cup Investigation Time\u001b[39m\u001b[38;5;124m'\u001b[39m)\n\u001b[0;32m     15\u001b[0m \u001b[38;5;28;01mfor\u001b[39;00m i \u001b[38;5;129;01min\u001b[39;00m \u001b[38;5;28mrange\u001b[39m(\u001b[38;5;28mlen\u001b[39m(soc)):\n\u001b[1;32m---> 16\u001b[0m     plt\u001b[38;5;241m.\u001b[39mplot(x_values, [social_agent[i], empty_cup[i]], marker\u001b[38;5;241m=\u001b[39m\u001b[38;5;124m'\u001b[39m\u001b[38;5;124mo\u001b[39m\u001b[38;5;124m'\u001b[39m, label\u001b[38;5;241m=\u001b[39m\u001b[38;5;124mf\u001b[39m\u001b[38;5;124m'\u001b[39m\u001b[38;5;124mLine \u001b[39m\u001b[38;5;132;01m{\u001b[39;00mi\u001b[38;5;241m+\u001b[39m\u001b[38;5;241m1\u001b[39m\u001b[38;5;132;01m}\u001b[39;00m\u001b[38;5;124m'\u001b[39m)\n\u001b[0;32m     17\u001b[0m plt\u001b[38;5;241m.\u001b[39mylabel(\u001b[38;5;124m'\u001b[39m\u001b[38;5;124mAverage Time Investigating (s)\u001b[39m\u001b[38;5;124m'\u001b[39m)\n\u001b[0;32m     18\u001b[0m plt\u001b[38;5;241m.\u001b[39mtitle(\u001b[38;5;124m'\u001b[39m\u001b[38;5;124mComparison of Social Agent vs. Empty Cup Investigation Time\u001b[39m\u001b[38;5;124m'\u001b[39m)\n",
      "File \u001b[1;32mc:\\Users\\sjs93\\anaconda3\\Lib\\site-packages\\pandas\\core\\series.py:1040\u001b[0m, in \u001b[0;36mSeries.__getitem__\u001b[1;34m(self, key)\u001b[0m\n\u001b[0;32m   1037\u001b[0m     \u001b[38;5;28;01mreturn\u001b[39;00m \u001b[38;5;28mself\u001b[39m\u001b[38;5;241m.\u001b[39m_values[key]\n\u001b[0;32m   1039\u001b[0m \u001b[38;5;28;01melif\u001b[39;00m key_is_scalar:\n\u001b[1;32m-> 1040\u001b[0m     \u001b[38;5;28;01mreturn\u001b[39;00m \u001b[38;5;28mself\u001b[39m\u001b[38;5;241m.\u001b[39m_get_value(key)\n\u001b[0;32m   1042\u001b[0m \u001b[38;5;66;03m# Convert generator to list before going through hashable part\u001b[39;00m\n\u001b[0;32m   1043\u001b[0m \u001b[38;5;66;03m# (We will iterate through the generator there to check for slices)\u001b[39;00m\n\u001b[0;32m   1044\u001b[0m \u001b[38;5;28;01mif\u001b[39;00m is_iterator(key):\n",
      "File \u001b[1;32mc:\\Users\\sjs93\\anaconda3\\Lib\\site-packages\\pandas\\core\\series.py:1156\u001b[0m, in \u001b[0;36mSeries._get_value\u001b[1;34m(self, label, takeable)\u001b[0m\n\u001b[0;32m   1153\u001b[0m     \u001b[38;5;28;01mreturn\u001b[39;00m \u001b[38;5;28mself\u001b[39m\u001b[38;5;241m.\u001b[39m_values[label]\n\u001b[0;32m   1155\u001b[0m \u001b[38;5;66;03m# Similar to Index.get_value, but we do not fall back to positional\u001b[39;00m\n\u001b[1;32m-> 1156\u001b[0m loc \u001b[38;5;241m=\u001b[39m \u001b[38;5;28mself\u001b[39m\u001b[38;5;241m.\u001b[39mindex\u001b[38;5;241m.\u001b[39mget_loc(label)\n\u001b[0;32m   1158\u001b[0m \u001b[38;5;28;01mif\u001b[39;00m is_integer(loc):\n\u001b[0;32m   1159\u001b[0m     \u001b[38;5;28;01mreturn\u001b[39;00m \u001b[38;5;28mself\u001b[39m\u001b[38;5;241m.\u001b[39m_values[loc]\n",
      "File \u001b[1;32mc:\\Users\\sjs93\\anaconda3\\Lib\\site-packages\\pandas\\core\\indexes\\base.py:3797\u001b[0m, in \u001b[0;36mIndex.get_loc\u001b[1;34m(self, key)\u001b[0m\n\u001b[0;32m   3792\u001b[0m     \u001b[38;5;28;01mif\u001b[39;00m \u001b[38;5;28misinstance\u001b[39m(casted_key, \u001b[38;5;28mslice\u001b[39m) \u001b[38;5;129;01mor\u001b[39;00m (\n\u001b[0;32m   3793\u001b[0m         \u001b[38;5;28misinstance\u001b[39m(casted_key, abc\u001b[38;5;241m.\u001b[39mIterable)\n\u001b[0;32m   3794\u001b[0m         \u001b[38;5;129;01mand\u001b[39;00m \u001b[38;5;28many\u001b[39m(\u001b[38;5;28misinstance\u001b[39m(x, \u001b[38;5;28mslice\u001b[39m) \u001b[38;5;28;01mfor\u001b[39;00m x \u001b[38;5;129;01min\u001b[39;00m casted_key)\n\u001b[0;32m   3795\u001b[0m     ):\n\u001b[0;32m   3796\u001b[0m         \u001b[38;5;28;01mraise\u001b[39;00m InvalidIndexError(key)\n\u001b[1;32m-> 3797\u001b[0m     \u001b[38;5;28;01mraise\u001b[39;00m \u001b[38;5;167;01mKeyError\u001b[39;00m(key) \u001b[38;5;28;01mfrom\u001b[39;00m \u001b[38;5;21;01merr\u001b[39;00m\n\u001b[0;32m   3798\u001b[0m \u001b[38;5;28;01mexcept\u001b[39;00m \u001b[38;5;167;01mTypeError\u001b[39;00m:\n\u001b[0;32m   3799\u001b[0m     \u001b[38;5;66;03m# If we have a listlike key, _check_indexing_error will raise\u001b[39;00m\n\u001b[0;32m   3800\u001b[0m     \u001b[38;5;66;03m#  InvalidIndexError. Otherwise we fall through and re-raise\u001b[39;00m\n\u001b[0;32m   3801\u001b[0m     \u001b[38;5;66;03m#  the TypeError.\u001b[39;00m\n\u001b[0;32m   3802\u001b[0m     \u001b[38;5;28mself\u001b[39m\u001b[38;5;241m.\u001b[39m_check_indexing_error(key)\n",
      "\u001b[1;31mKeyError\u001b[0m: 8"
     ]
    },
    {
     "data": {
      "image/png": "[encoded data removed]",
      "text/plain": [
       "<Figure size 640x480 with 1 Axes>"
      ]
     },
     "metadata": {},
     "output_type": "display_data"
    }
   ],
   "source": [
    "# Prepare data for bar plot\n",
    "x = np.array([1, 2])\n",
    "y = np.array([cagemate_mean, cagemates['empty_cup'].mean()])\n",
    "yerr = np.array([cagemate_sem, cagemates['empty_cup'].sem()])\n",
    "labels = ['Cagemate', 'Empty Cup']\n",
    "\n",
    "# Create the bar plot\n",
    "plt.bar(x, y, yerr=yerr, align='center', alpha=0.5, ecolor='black', capsize=10)\n",
    "plt.xticks(x, labels)\n",
    "\n",
    "# Add title and labels\n",
    "plt.ylabel('Average Time Investigating (s)')\n",
    "plt.title('Comparison of Cagemate vs. Empty Cup Investigation Time')\n",
    "\n",
    "for i in range(len(soc)):\n",
    "    plt.plot(x_values, [social_agent[i], empty_cup[i]], marker='o', label=f'Line {i+1}')\n",
    "plt.ylabel('Average Time Investigating (s)')\n",
    "plt.title('Comparison of Social Agent vs. Empty Cup Investigation Time')\n",
    "plt.show()\n",
    "# Show the plot\n",
    "plt.show()\n"
   ]
  },
  {
   "cell_type": "code",
   "execution_count": 136,
   "metadata": {},
   "outputs": [
    {
     "ename": "KeyError",
     "evalue": "8",
     "output_type": "error",
     "traceback": [
      "\u001b[1;31m---------------------------------------------------------------------------\u001b[0m",
      "\u001b[1;31mKeyError\u001b[0m                                  Traceback (most recent call last)",
      "File \u001b[1;32mc:\\Users\\sjs93\\anaconda3\\Lib\\site-packages\\pandas\\core\\indexes\\base.py:3790\u001b[0m, in \u001b[0;36mIndex.get_loc\u001b[1;34m(self, key)\u001b[0m\n\u001b[0;32m   3789\u001b[0m \u001b[38;5;28;01mtry\u001b[39;00m:\n\u001b[1;32m-> 3790\u001b[0m     \u001b[38;5;28;01mreturn\u001b[39;00m \u001b[38;5;28mself\u001b[39m\u001b[38;5;241m.\u001b[39m_engine\u001b[38;5;241m.\u001b[39mget_loc(casted_key)\n\u001b[0;32m   3791\u001b[0m \u001b[38;5;28;01mexcept\u001b[39;00m \u001b[38;5;167;01mKeyError\u001b[39;00m \u001b[38;5;28;01mas\u001b[39;00m err:\n",
      "File \u001b[1;32mindex.pyx:152\u001b[0m, in \u001b[0;36mpandas._libs.index.IndexEngine.get_loc\u001b[1;34m()\u001b[0m\n",
      "File \u001b[1;32mindex.pyx:176\u001b[0m, in \u001b[0;36mpandas._libs.index.IndexEngine.get_loc\u001b[1;34m()\u001b[0m\n",
      "File \u001b[1;32mindex.pyx:219\u001b[0m, in \u001b[0;36mpandas._libs.index.IndexEngine._get_loc_duplicates\u001b[1;34m()\u001b[0m\n",
      "File \u001b[1;32mindex.pyx:227\u001b[0m, in \u001b[0;36mpandas._libs.index.IndexEngine._maybe_get_bool_indexer\u001b[1;34m()\u001b[0m\n",
      "File \u001b[1;32mindex.pyx:119\u001b[0m, in \u001b[0;36mpandas._libs.index._unpack_bool_indexer\u001b[1;34m()\u001b[0m\n",
      "\u001b[1;31mKeyError\u001b[0m: 8",
      "\nThe above exception was the direct cause of the following exception:\n",
      "\u001b[1;31mKeyError\u001b[0m                                  Traceback (most recent call last)",
      "Cell \u001b[1;32mIn[136], line 15\u001b[0m\n\u001b[0;32m     13\u001b[0m plt\u001b[38;5;241m.\u001b[39mtitle(\u001b[38;5;124m'\u001b[39m\u001b[38;5;124mComparison of Familiar vs. Empty Cup Investigation Time\u001b[39m\u001b[38;5;124m'\u001b[39m)\n\u001b[0;32m     14\u001b[0m \u001b[38;5;28;01mfor\u001b[39;00m i \u001b[38;5;129;01min\u001b[39;00m \u001b[38;5;28mrange\u001b[39m(\u001b[38;5;28mlen\u001b[39m(soc)):\n\u001b[1;32m---> 15\u001b[0m     plt\u001b[38;5;241m.\u001b[39mplot(x_values, [social_agent[i], empty_cup[i]], marker\u001b[38;5;241m=\u001b[39m\u001b[38;5;124m'\u001b[39m\u001b[38;5;124mo\u001b[39m\u001b[38;5;124m'\u001b[39m, label\u001b[38;5;241m=\u001b[39m\u001b[38;5;124mf\u001b[39m\u001b[38;5;124m'\u001b[39m\u001b[38;5;124mLine \u001b[39m\u001b[38;5;132;01m{\u001b[39;00mi\u001b[38;5;241m+\u001b[39m\u001b[38;5;241m1\u001b[39m\u001b[38;5;132;01m}\u001b[39;00m\u001b[38;5;124m'\u001b[39m)\n\u001b[0;32m     16\u001b[0m plt\u001b[38;5;241m.\u001b[39mylabel(\u001b[38;5;124m'\u001b[39m\u001b[38;5;124mAverage Time Investigating (s)\u001b[39m\u001b[38;5;124m'\u001b[39m)\n\u001b[0;32m     17\u001b[0m plt\u001b[38;5;241m.\u001b[39mtitle(\u001b[38;5;124m'\u001b[39m\u001b[38;5;124mComparison of Social Agent vs. Empty Cup Investigation Time\u001b[39m\u001b[38;5;124m'\u001b[39m)\n",
      "File \u001b[1;32mc:\\Users\\sjs93\\anaconda3\\Lib\\site-packages\\pandas\\core\\series.py:1040\u001b[0m, in \u001b[0;36mSeries.__getitem__\u001b[1;34m(self, key)\u001b[0m\n\u001b[0;32m   1037\u001b[0m     \u001b[38;5;28;01mreturn\u001b[39;00m \u001b[38;5;28mself\u001b[39m\u001b[38;5;241m.\u001b[39m_values[key]\n\u001b[0;32m   1039\u001b[0m \u001b[38;5;28;01melif\u001b[39;00m key_is_scalar:\n\u001b[1;32m-> 1040\u001b[0m     \u001b[38;5;28;01mreturn\u001b[39;00m \u001b[38;5;28mself\u001b[39m\u001b[38;5;241m.\u001b[39m_get_value(key)\n\u001b[0;32m   1042\u001b[0m \u001b[38;5;66;03m# Convert generator to list before going through hashable part\u001b[39;00m\n\u001b[0;32m   1043\u001b[0m \u001b[38;5;66;03m# (We will iterate through the generator there to check for slices)\u001b[39;00m\n\u001b[0;32m   1044\u001b[0m \u001b[38;5;28;01mif\u001b[39;00m is_iterator(key):\n",
      "File \u001b[1;32mc:\\Users\\sjs93\\anaconda3\\Lib\\site-packages\\pandas\\core\\series.py:1156\u001b[0m, in \u001b[0;36mSeries._get_value\u001b[1;34m(self, label, takeable)\u001b[0m\n\u001b[0;32m   1153\u001b[0m     \u001b[38;5;28;01mreturn\u001b[39;00m \u001b[38;5;28mself\u001b[39m\u001b[38;5;241m.\u001b[39m_values[label]\n\u001b[0;32m   1155\u001b[0m \u001b[38;5;66;03m# Similar to Index.get_value, but we do not fall back to positional\u001b[39;00m\n\u001b[1;32m-> 1156\u001b[0m loc \u001b[38;5;241m=\u001b[39m \u001b[38;5;28mself\u001b[39m\u001b[38;5;241m.\u001b[39mindex\u001b[38;5;241m.\u001b[39mget_loc(label)\n\u001b[0;32m   1158\u001b[0m \u001b[38;5;28;01mif\u001b[39;00m is_integer(loc):\n\u001b[0;32m   1159\u001b[0m     \u001b[38;5;28;01mreturn\u001b[39;00m \u001b[38;5;28mself\u001b[39m\u001b[38;5;241m.\u001b[39m_values[loc]\n",
      "File \u001b[1;32mc:\\Users\\sjs93\\anaconda3\\Lib\\site-packages\\pandas\\core\\indexes\\base.py:3797\u001b[0m, in \u001b[0;36mIndex.get_loc\u001b[1;34m(self, key)\u001b[0m\n\u001b[0;32m   3792\u001b[0m     \u001b[38;5;28;01mif\u001b[39;00m \u001b[38;5;28misinstance\u001b[39m(casted_key, \u001b[38;5;28mslice\u001b[39m) \u001b[38;5;129;01mor\u001b[39;00m (\n\u001b[0;32m   3793\u001b[0m         \u001b[38;5;28misinstance\u001b[39m(casted_key, abc\u001b[38;5;241m.\u001b[39mIterable)\n\u001b[0;32m   3794\u001b[0m         \u001b[38;5;129;01mand\u001b[39;00m \u001b[38;5;28many\u001b[39m(\u001b[38;5;28misinstance\u001b[39m(x, \u001b[38;5;28mslice\u001b[39m) \u001b[38;5;28;01mfor\u001b[39;00m x \u001b[38;5;129;01min\u001b[39;00m casted_key)\n\u001b[0;32m   3795\u001b[0m     ):\n\u001b[0;32m   3796\u001b[0m         \u001b[38;5;28;01mraise\u001b[39;00m InvalidIndexError(key)\n\u001b[1;32m-> 3797\u001b[0m     \u001b[38;5;28;01mraise\u001b[39;00m \u001b[38;5;167;01mKeyError\u001b[39;00m(key) \u001b[38;5;28;01mfrom\u001b[39;00m \u001b[38;5;21;01merr\u001b[39;00m\n\u001b[0;32m   3798\u001b[0m \u001b[38;5;28;01mexcept\u001b[39;00m \u001b[38;5;167;01mTypeError\u001b[39;00m:\n\u001b[0;32m   3799\u001b[0m     \u001b[38;5;66;03m# If we have a listlike key, _check_indexing_error will raise\u001b[39;00m\n\u001b[0;32m   3800\u001b[0m     \u001b[38;5;66;03m#  InvalidIndexError. Otherwise we fall through and re-raise\u001b[39;00m\n\u001b[0;32m   3801\u001b[0m     \u001b[38;5;66;03m#  the TypeError.\u001b[39;00m\n\u001b[0;32m   3802\u001b[0m     \u001b[38;5;28mself\u001b[39m\u001b[38;5;241m.\u001b[39m_check_indexing_error(key)\n",
      "\u001b[1;31mKeyError\u001b[0m: 8"
     ]
    },
    {
     "data": {
      "image/png": "[encoded data removed]",
      "text/plain": [
       "<Figure size 640x480 with 1 Axes>"
      ]
     },
     "metadata": {},
     "output_type": "display_data"
    }
   ],
   "source": [
    "# Prepare data for bar plot\n",
    "x = np.array([1, 2])\n",
    "y = np.array([familiar_mean, familiar['empty_cup'].mean()])\n",
    "yerr = np.array([familiar_sem, familiar['empty_cup'].sem()])\n",
    "labels = ['Familiar', 'Empty Cup']\n",
    "\n",
    "# Create the bar plot\n",
    "plt.bar(x, y, yerr=yerr, align='center', alpha=0.5, ecolor='black', capsize=10)\n",
    "plt.xticks(x, labels)\n",
    "\n",
    "# Add title and labels\n",
    "plt.ylabel('Average Time Investigating (s)')\n",
    "plt.title('Comparison of Familiar vs. Empty Cup Investigation Time')\n",
    "for i in range(len(soc)):\n",
    "    plt.plot(x_values, [social_agent[i], empty_cup[i]], marker='o', label=f'Line {i+1}')\n",
    "plt.ylabel('Average Time Investigating (s)')\n",
    "plt.title('Comparison of Social Agent vs. Empty Cup Investigation Time')\n",
    "plt.show()\n",
    "# Show the plot\n",
    "plt.show()\n"
   ]
  },
  {
   "cell_type": "markdown",
   "metadata": {},
   "source": [
    "# Novelty preference analysis"
   ]
  },
  {
   "cell_type": "code",
   "execution_count": 15,
   "metadata": {},
   "outputs": [],
   "source": [
    "# Set the path to the folder containing your Excel files\n",
    "folder_path = glob.glob(r\"D:\\Sequioa\\anymaze_data\\SM\\cage*.csv\")"
   ]
  },
  {
   "cell_type": "code",
   "execution_count": 16,
   "metadata": {},
   "outputs": [
    {
     "data": {
      "text/plain": [
       "['D:\\\\Sequioa\\\\anymaze_data\\\\SM\\\\cage_1_SM_day_1_3.csv',\n",
       " 'D:\\\\Sequioa\\\\anymaze_data\\\\SM\\\\cage_2_SM_day_2_4.csv']"
      ]
     },
     "execution_count": 16,
     "metadata": {},
     "output_type": "execute_result"
    }
   ],
   "source": [
    "folder_path"
   ]
  },
  {
   "cell_type": "code",
   "execution_count": 68,
   "metadata": {},
   "outputs": [
    {
     "data": {
      "text/plain": [
       "Index(['Test', 'Animal', 'Animal notes', 'Segment of test',\n",
       "       'novel-right : time investigating (s)',\n",
       "       'familiar-left : time investigating (s)', 'Whole-Chamber : time (s)',\n",
       "       'Whole Left Chamber : time (s)', 'Whole Right Chamber : time (s)',\n",
       "       'familiar right : time investigating (s)',\n",
       "       'novel left : time investigating (s)', 'Condition'],\n",
       "      dtype='object')"
      ]
     },
     "execution_count": 68,
     "metadata": {},
     "output_type": "execute_result"
    }
   ],
   "source": [
    "sm.columns"
   ]
  },
  {
   "cell_type": "code",
   "execution_count": 69,
   "metadata": {},
   "outputs": [
    {
     "name": "stdout",
     "output_type": "stream",
     "text": [
      "D:\\Sequioa\\anymaze_data\\cage_1_soc_day_1_3.csv\n",
      "Social Agent Left : time investigating (s)\n",
      "Empty Cup Right : time investigating (s)\n",
      "D:\\Sequioa\\anymaze_data\\cage_2_soc_day_2_4.csv\n",
      "Social Agent on the Right : time investigating (s)\n",
      "Empty Cup Left : time investigating (s)\n"
     ]
    },
    {
     "data": {
      "text/html": [
       "<div>\n",
       "<style scoped>\n",
       "    .dataframe tbody tr th:only-of-type {\n",
       "        vertical-align: middle;\n",
       "    }\n",
       "\n",
       "    .dataframe tbody tr th {\n",
       "        vertical-align: top;\n",
       "    }\n",
       "\n",
       "    .dataframe thead th {\n",
       "        text-align: right;\n",
       "    }\n",
       "</style>\n",
       "<table border=\"1\" class=\"dataframe\">\n",
       "  <thead>\n",
       "    <tr style=\"text-align: right;\">\n",
       "      <th></th>\n",
       "      <th>Test</th>\n",
       "      <th>Animal</th>\n",
       "      <th>Animal notes</th>\n",
       "      <th>Segment of test</th>\n",
       "      <th>social agent left : time investigating (s)</th>\n",
       "      <th>empty cup right : time investigating (s)</th>\n",
       "      <th>Whole-Chamber : time (s)</th>\n",
       "      <th>Whole Chamber Social Agent : time (s)</th>\n",
       "      <th>Whole Chamber Empty Cup : time (s)</th>\n",
       "    </tr>\n",
       "  </thead>\n",
       "  <tbody>\n",
       "    <tr>\n",
       "      <th>0</th>\n",
       "      <td>1</td>\n",
       "      <td>1.1.1</td>\n",
       "      <td>Familiar</td>\n",
       "      <td>0 - 300 secs.</td>\n",
       "      <td>68.2</td>\n",
       "      <td>35.9</td>\n",
       "      <td>256.5</td>\n",
       "      <td>107.4</td>\n",
       "      <td>97.8</td>\n",
       "    </tr>\n",
       "    <tr>\n",
       "      <th>1</th>\n",
       "      <td>2</td>\n",
       "      <td>1.2.1</td>\n",
       "      <td>Familiar</td>\n",
       "      <td>0 - 300 secs.</td>\n",
       "      <td>79.4</td>\n",
       "      <td>18.0</td>\n",
       "      <td>240.7</td>\n",
       "      <td>136.5</td>\n",
       "      <td>60.0</td>\n",
       "    </tr>\n",
       "    <tr>\n",
       "      <th>2</th>\n",
       "      <td>3</td>\n",
       "      <td>1.3.1</td>\n",
       "      <td>Cagemate</td>\n",
       "      <td>0 - 300 secs.</td>\n",
       "      <td>23.4</td>\n",
       "      <td>11.5</td>\n",
       "      <td>277.5</td>\n",
       "      <td>115.0</td>\n",
       "      <td>49.5</td>\n",
       "    </tr>\n",
       "    <tr>\n",
       "      <th>3</th>\n",
       "      <td>4</td>\n",
       "      <td>1.1.3</td>\n",
       "      <td>Cagemate</td>\n",
       "      <td>0 - 300 secs.</td>\n",
       "      <td>49.4</td>\n",
       "      <td>50.8</td>\n",
       "      <td>218.3</td>\n",
       "      <td>70.1</td>\n",
       "      <td>111.1</td>\n",
       "    </tr>\n",
       "    <tr>\n",
       "      <th>4</th>\n",
       "      <td>5</td>\n",
       "      <td>1.2.3</td>\n",
       "      <td>Cagemate</td>\n",
       "      <td>0 - 300 secs.</td>\n",
       "      <td>20.3</td>\n",
       "      <td>90.9</td>\n",
       "      <td>166.0</td>\n",
       "      <td>48.0</td>\n",
       "      <td>141.0</td>\n",
       "    </tr>\n",
       "    <tr>\n",
       "      <th>5</th>\n",
       "      <td>6</td>\n",
       "      <td>1.4.3</td>\n",
       "      <td>Familiar</td>\n",
       "      <td>0 - 300 secs.</td>\n",
       "      <td>56.1</td>\n",
       "      <td>48.7</td>\n",
       "      <td>195.2</td>\n",
       "      <td>78.2</td>\n",
       "      <td>106.9</td>\n",
       "    </tr>\n",
       "    <tr>\n",
       "      <th>6</th>\n",
       "      <td>7</td>\n",
       "      <td>1.4.1</td>\n",
       "      <td>Cagemate</td>\n",
       "      <td>0 - 300 secs.</td>\n",
       "      <td>30.7</td>\n",
       "      <td>54.1</td>\n",
       "      <td>237.6</td>\n",
       "      <td>61.9</td>\n",
       "      <td>158.2</td>\n",
       "    </tr>\n",
       "    <tr>\n",
       "      <th>7</th>\n",
       "      <td>8</td>\n",
       "      <td>1.3.3</td>\n",
       "      <td>Familiar</td>\n",
       "      <td>0 - 300 secs.</td>\n",
       "      <td>39.3</td>\n",
       "      <td>51.1</td>\n",
       "      <td>247.3</td>\n",
       "      <td>58.2</td>\n",
       "      <td>127.4</td>\n",
       "    </tr>\n",
       "  </tbody>\n",
       "</table>\n",
       "</div>"
      ],
      "text/plain": [
       "   Test Animal Animal notes Segment of test  \\\n",
       "0     1  1.1.1     Familiar   0 - 300 secs.   \n",
       "1     2  1.2.1     Familiar   0 - 300 secs.   \n",
       "2     3  1.3.1     Cagemate   0 - 300 secs.   \n",
       "3     4  1.1.3     Cagemate   0 - 300 secs.   \n",
       "4     5  1.2.3     Cagemate   0 - 300 secs.   \n",
       "5     6  1.4.3     Familiar   0 - 300 secs.   \n",
       "6     7  1.4.1     Cagemate   0 - 300 secs.   \n",
       "7     8  1.3.3     Familiar   0 - 300 secs.   \n",
       "\n",
       "   social agent left : time investigating (s)  \\\n",
       "0                                        68.2   \n",
       "1                                        79.4   \n",
       "2                                        23.4   \n",
       "3                                        49.4   \n",
       "4                                        20.3   \n",
       "5                                        56.1   \n",
       "6                                        30.7   \n",
       "7                                        39.3   \n",
       "\n",
       "   empty cup right : time investigating (s)  Whole-Chamber : time (s)  \\\n",
       "0                                      35.9                     256.5   \n",
       "1                                      18.0                     240.7   \n",
       "2                                      11.5                     277.5   \n",
       "3                                      50.8                     218.3   \n",
       "4                                      90.9                     166.0   \n",
       "5                                      48.7                     195.2   \n",
       "6                                      54.1                     237.6   \n",
       "7                                      51.1                     247.3   \n",
       "\n",
       "   Whole Chamber Social Agent : time (s)  Whole Chamber Empty Cup : time (s)  \n",
       "0                                  107.4                                97.8  \n",
       "1                                  136.5                                60.0  \n",
       "2                                  115.0                                49.5  \n",
       "3                                   70.1                               111.1  \n",
       "4                                   48.0                               141.0  \n",
       "5                                   78.2                               106.9  \n",
       "6                                   61.9                               158.2  \n",
       "7                                   58.2                               127.4  "
      ]
     },
     "execution_count": 69,
     "metadata": {},
     "output_type": "execute_result"
    }
   ],
   "source": [
    "sm = []\n",
    "# Loop through each file\n",
    "for file in folder_path:\n",
    "    # Read the Excel file\n",
    "    df = pd.read_csv(file)\n",
    "    #print(df)\n",
    "    print(file)\n",
    "# Loop through each file and rename columns \n",
    "    for columns in df.columns:\n",
    "        if 'time investigating' in columns:\n",
    "            print(columns)\n",
    "            df = df.rename(columns = {columns: \"_agent\".join(columns.split(\"-, \")[0:1]).lower()})\n",
    "    sm.append(df)    \n",
    "sm[0]\n"
   ]
  },
  {
   "cell_type": "code",
   "execution_count": 70,
   "metadata": {},
   "outputs": [],
   "source": [
    "sm = pd.concat(SM)"
   ]
  },
  {
   "cell_type": "code",
   "execution_count": 42,
   "metadata": {},
   "outputs": [],
   "source": [
    "sm['Condition'] = [1,2,3,4,5,6,7,8,9,10,11,12,13,14,15,16]"
   ]
  },
  {
   "cell_type": "code",
   "execution_count": 71,
   "metadata": {},
   "outputs": [
    {
     "data": {
      "text/html": [
       "<div>\n",
       "<style scoped>\n",
       "    .dataframe tbody tr th:only-of-type {\n",
       "        vertical-align: middle;\n",
       "    }\n",
       "\n",
       "    .dataframe tbody tr th {\n",
       "        vertical-align: top;\n",
       "    }\n",
       "\n",
       "    .dataframe thead th {\n",
       "        text-align: right;\n",
       "    }\n",
       "</style>\n",
       "<table border=\"1\" class=\"dataframe\">\n",
       "  <thead>\n",
       "    <tr style=\"text-align: right;\">\n",
       "      <th></th>\n",
       "      <th>Test</th>\n",
       "      <th>Animal</th>\n",
       "      <th>Animal notes</th>\n",
       "      <th>Segment of test</th>\n",
       "      <th>novel-right : time investigating (s)</th>\n",
       "      <th>familiar-left : time investigating (s)</th>\n",
       "      <th>Whole-Chamber : time (s)</th>\n",
       "      <th>Whole Left Chamber : time (s)</th>\n",
       "      <th>Whole Right Chamber : time (s)</th>\n",
       "      <th>familiar right : time investigating (s)</th>\n",
       "      <th>novel left : time investigating (s)</th>\n",
       "    </tr>\n",
       "  </thead>\n",
       "  <tbody>\n",
       "    <tr>\n",
       "      <th>0</th>\n",
       "      <td>1</td>\n",
       "      <td>1.1.1</td>\n",
       "      <td>NaN</td>\n",
       "      <td>0 - 300 secs.</td>\n",
       "      <td>66.3</td>\n",
       "      <td>51.2</td>\n",
       "      <td>248.5</td>\n",
       "      <td>83.1</td>\n",
       "      <td>100.6</td>\n",
       "      <td>NaN</td>\n",
       "      <td>NaN</td>\n",
       "    </tr>\n",
       "    <tr>\n",
       "      <th>1</th>\n",
       "      <td>2</td>\n",
       "      <td>1.3.1</td>\n",
       "      <td>NaN</td>\n",
       "      <td>0 - 300 secs.</td>\n",
       "      <td>56.5</td>\n",
       "      <td>28.7</td>\n",
       "      <td>261.8</td>\n",
       "      <td>119.7</td>\n",
       "      <td>104.8</td>\n",
       "      <td>NaN</td>\n",
       "      <td>NaN</td>\n",
       "    </tr>\n",
       "    <tr>\n",
       "      <th>2</th>\n",
       "      <td>3</td>\n",
       "      <td>1.1.3</td>\n",
       "      <td>NaN</td>\n",
       "      <td>0 - 300 secs.</td>\n",
       "      <td>134.9</td>\n",
       "      <td>8.2</td>\n",
       "      <td>256.3</td>\n",
       "      <td>27.8</td>\n",
       "      <td>182.5</td>\n",
       "      <td>NaN</td>\n",
       "      <td>NaN</td>\n",
       "    </tr>\n",
       "    <tr>\n",
       "      <th>3</th>\n",
       "      <td>4</td>\n",
       "      <td>1.2.3</td>\n",
       "      <td>NaN</td>\n",
       "      <td>0 - 300 secs.</td>\n",
       "      <td>80.1</td>\n",
       "      <td>22.9</td>\n",
       "      <td>276.9</td>\n",
       "      <td>55.6</td>\n",
       "      <td>188.2</td>\n",
       "      <td>NaN</td>\n",
       "      <td>NaN</td>\n",
       "    </tr>\n",
       "    <tr>\n",
       "      <th>4</th>\n",
       "      <td>5</td>\n",
       "      <td>1.3.3</td>\n",
       "      <td>NaN</td>\n",
       "      <td>0 - 300 secs.</td>\n",
       "      <td>62.9</td>\n",
       "      <td>13.4</td>\n",
       "      <td>265.3</td>\n",
       "      <td>41.0</td>\n",
       "      <td>173.0</td>\n",
       "      <td>NaN</td>\n",
       "      <td>NaN</td>\n",
       "    </tr>\n",
       "    <tr>\n",
       "      <th>5</th>\n",
       "      <td>6</td>\n",
       "      <td>1.4.1</td>\n",
       "      <td>NaN</td>\n",
       "      <td>0 - 300 secs.</td>\n",
       "      <td>90.4</td>\n",
       "      <td>13.1</td>\n",
       "      <td>265.9</td>\n",
       "      <td>36.7</td>\n",
       "      <td>176.8</td>\n",
       "      <td>NaN</td>\n",
       "      <td>NaN</td>\n",
       "    </tr>\n",
       "    <tr>\n",
       "      <th>6</th>\n",
       "      <td>7</td>\n",
       "      <td>1.2.1</td>\n",
       "      <td>NaN</td>\n",
       "      <td>0 - 300 secs.</td>\n",
       "      <td>40.4</td>\n",
       "      <td>34.4</td>\n",
       "      <td>261.9</td>\n",
       "      <td>83.8</td>\n",
       "      <td>110.1</td>\n",
       "      <td>NaN</td>\n",
       "      <td>NaN</td>\n",
       "    </tr>\n",
       "    <tr>\n",
       "      <th>7</th>\n",
       "      <td>8</td>\n",
       "      <td>1.4.3</td>\n",
       "      <td>NaN</td>\n",
       "      <td>0 - 300 secs.</td>\n",
       "      <td>106.4</td>\n",
       "      <td>22.3</td>\n",
       "      <td>248.4</td>\n",
       "      <td>44.1</td>\n",
       "      <td>151.2</td>\n",
       "      <td>NaN</td>\n",
       "      <td>NaN</td>\n",
       "    </tr>\n",
       "    <tr>\n",
       "      <th>0</th>\n",
       "      <td>1</td>\n",
       "      <td>2.1.2</td>\n",
       "      <td>NaN</td>\n",
       "      <td>0 - 300 secs.</td>\n",
       "      <td>NaN</td>\n",
       "      <td>NaN</td>\n",
       "      <td>265.8</td>\n",
       "      <td>101.5</td>\n",
       "      <td>118.4</td>\n",
       "      <td>22.0</td>\n",
       "      <td>48.1</td>\n",
       "    </tr>\n",
       "    <tr>\n",
       "      <th>1</th>\n",
       "      <td>2</td>\n",
       "      <td>2.4.2</td>\n",
       "      <td>NaN</td>\n",
       "      <td>0 - 300 secs.</td>\n",
       "      <td>NaN</td>\n",
       "      <td>NaN</td>\n",
       "      <td>271.6</td>\n",
       "      <td>67.6</td>\n",
       "      <td>122.4</td>\n",
       "      <td>31.5</td>\n",
       "      <td>24.4</td>\n",
       "    </tr>\n",
       "    <tr>\n",
       "      <th>2</th>\n",
       "      <td>3</td>\n",
       "      <td>2.1.4</td>\n",
       "      <td>NaN</td>\n",
       "      <td>0 - 300 secs.</td>\n",
       "      <td>NaN</td>\n",
       "      <td>NaN</td>\n",
       "      <td>255.3</td>\n",
       "      <td>74.0</td>\n",
       "      <td>103.1</td>\n",
       "      <td>26.2</td>\n",
       "      <td>46.7</td>\n",
       "    </tr>\n",
       "    <tr>\n",
       "      <th>3</th>\n",
       "      <td>4</td>\n",
       "      <td>2.2.4</td>\n",
       "      <td>NaN</td>\n",
       "      <td>0 - 300 secs.</td>\n",
       "      <td>NaN</td>\n",
       "      <td>NaN</td>\n",
       "      <td>283.0</td>\n",
       "      <td>164.0</td>\n",
       "      <td>68.2</td>\n",
       "      <td>18.1</td>\n",
       "      <td>82.3</td>\n",
       "    </tr>\n",
       "    <tr>\n",
       "      <th>4</th>\n",
       "      <td>5</td>\n",
       "      <td>2.3.4</td>\n",
       "      <td>NaN</td>\n",
       "      <td>0 - 300 secs.</td>\n",
       "      <td>NaN</td>\n",
       "      <td>NaN</td>\n",
       "      <td>265.9</td>\n",
       "      <td>92.8</td>\n",
       "      <td>46.0</td>\n",
       "      <td>10.3</td>\n",
       "      <td>56.8</td>\n",
       "    </tr>\n",
       "    <tr>\n",
       "      <th>5</th>\n",
       "      <td>6</td>\n",
       "      <td>2.4.4</td>\n",
       "      <td>NaN</td>\n",
       "      <td>0 - 300 secs.</td>\n",
       "      <td>NaN</td>\n",
       "      <td>NaN</td>\n",
       "      <td>277.3</td>\n",
       "      <td>74.0</td>\n",
       "      <td>97.0</td>\n",
       "      <td>21.2</td>\n",
       "      <td>47.8</td>\n",
       "    </tr>\n",
       "    <tr>\n",
       "      <th>6</th>\n",
       "      <td>7</td>\n",
       "      <td>2.2.2</td>\n",
       "      <td>NaN</td>\n",
       "      <td>0 - 300 secs.</td>\n",
       "      <td>NaN</td>\n",
       "      <td>NaN</td>\n",
       "      <td>265.9</td>\n",
       "      <td>76.9</td>\n",
       "      <td>110.7</td>\n",
       "      <td>59.2</td>\n",
       "      <td>53.5</td>\n",
       "    </tr>\n",
       "    <tr>\n",
       "      <th>7</th>\n",
       "      <td>8</td>\n",
       "      <td>2.3.2</td>\n",
       "      <td>NaN</td>\n",
       "      <td>0 - 300 secs.</td>\n",
       "      <td>NaN</td>\n",
       "      <td>NaN</td>\n",
       "      <td>256.8</td>\n",
       "      <td>74.7</td>\n",
       "      <td>95.6</td>\n",
       "      <td>26.2</td>\n",
       "      <td>22.5</td>\n",
       "    </tr>\n",
       "  </tbody>\n",
       "</table>\n",
       "</div>"
      ],
      "text/plain": [
       "   Test Animal  Animal notes Segment of test  \\\n",
       "0     1  1.1.1           NaN   0 - 300 secs.   \n",
       "1     2  1.3.1           NaN   0 - 300 secs.   \n",
       "2     3  1.1.3           NaN   0 - 300 secs.   \n",
       "3     4  1.2.3           NaN   0 - 300 secs.   \n",
       "4     5  1.3.3           NaN   0 - 300 secs.   \n",
       "5     6  1.4.1           NaN   0 - 300 secs.   \n",
       "6     7  1.2.1           NaN   0 - 300 secs.   \n",
       "7     8  1.4.3           NaN   0 - 300 secs.   \n",
       "0     1  2.1.2           NaN   0 - 300 secs.   \n",
       "1     2  2.4.2           NaN   0 - 300 secs.   \n",
       "2     3  2.1.4           NaN   0 - 300 secs.   \n",
       "3     4  2.2.4           NaN   0 - 300 secs.   \n",
       "4     5  2.3.4           NaN   0 - 300 secs.   \n",
       "5     6  2.4.4           NaN   0 - 300 secs.   \n",
       "6     7  2.2.2           NaN   0 - 300 secs.   \n",
       "7     8  2.3.2           NaN   0 - 300 secs.   \n",
       "\n",
       "   novel-right : time investigating (s)  \\\n",
       "0                                  66.3   \n",
       "1                                  56.5   \n",
       "2                                 134.9   \n",
       "3                                  80.1   \n",
       "4                                  62.9   \n",
       "5                                  90.4   \n",
       "6                                  40.4   \n",
       "7                                 106.4   \n",
       "0                                   NaN   \n",
       "1                                   NaN   \n",
       "2                                   NaN   \n",
       "3                                   NaN   \n",
       "4                                   NaN   \n",
       "5                                   NaN   \n",
       "6                                   NaN   \n",
       "7                                   NaN   \n",
       "\n",
       "   familiar-left : time investigating (s)  Whole-Chamber : time (s)  \\\n",
       "0                                    51.2                     248.5   \n",
       "1                                    28.7                     261.8   \n",
       "2                                     8.2                     256.3   \n",
       "3                                    22.9                     276.9   \n",
       "4                                    13.4                     265.3   \n",
       "5                                    13.1                     265.9   \n",
       "6                                    34.4                     261.9   \n",
       "7                                    22.3                     248.4   \n",
       "0                                     NaN                     265.8   \n",
       "1                                     NaN                     271.6   \n",
       "2                                     NaN                     255.3   \n",
       "3                                     NaN                     283.0   \n",
       "4                                     NaN                     265.9   \n",
       "5                                     NaN                     277.3   \n",
       "6                                     NaN                     265.9   \n",
       "7                                     NaN                     256.8   \n",
       "\n",
       "   Whole Left Chamber : time (s)  Whole Right Chamber : time (s)  \\\n",
       "0                           83.1                           100.6   \n",
       "1                          119.7                           104.8   \n",
       "2                           27.8                           182.5   \n",
       "3                           55.6                           188.2   \n",
       "4                           41.0                           173.0   \n",
       "5                           36.7                           176.8   \n",
       "6                           83.8                           110.1   \n",
       "7                           44.1                           151.2   \n",
       "0                          101.5                           118.4   \n",
       "1                           67.6                           122.4   \n",
       "2                           74.0                           103.1   \n",
       "3                          164.0                            68.2   \n",
       "4                           92.8                            46.0   \n",
       "5                           74.0                            97.0   \n",
       "6                           76.9                           110.7   \n",
       "7                           74.7                            95.6   \n",
       "\n",
       "   familiar right : time investigating (s)  \\\n",
       "0                                      NaN   \n",
       "1                                      NaN   \n",
       "2                                      NaN   \n",
       "3                                      NaN   \n",
       "4                                      NaN   \n",
       "5                                      NaN   \n",
       "6                                      NaN   \n",
       "7                                      NaN   \n",
       "0                                     22.0   \n",
       "1                                     31.5   \n",
       "2                                     26.2   \n",
       "3                                     18.1   \n",
       "4                                     10.3   \n",
       "5                                     21.2   \n",
       "6                                     59.2   \n",
       "7                                     26.2   \n",
       "\n",
       "   novel left : time investigating (s)  \n",
       "0                                  NaN  \n",
       "1                                  NaN  \n",
       "2                                  NaN  \n",
       "3                                  NaN  \n",
       "4                                  NaN  \n",
       "5                                  NaN  \n",
       "6                                  NaN  \n",
       "7                                  NaN  \n",
       "0                                 48.1  \n",
       "1                                 24.4  \n",
       "2                                 46.7  \n",
       "3                                 82.3  \n",
       "4                                 56.8  \n",
       "5                                 47.8  \n",
       "6                                 53.5  \n",
       "7                                 22.5  "
      ]
     },
     "execution_count": 71,
     "metadata": {},
     "output_type": "execute_result"
    }
   ],
   "source": [
    "sm"
   ]
  },
  {
   "cell_type": "code",
   "execution_count": 24,
   "metadata": {},
   "outputs": [],
   "source": [
    "# Initialize an empty list to store t-test results\n",
    "t_test_results = [] \n",
    "#Perform t-test comparing columns E and F\n",
    "t_stat, p_value = ttest_ind(SM['social_agent'], SM['empty_cup'])"
   ]
  },
  {
   "cell_type": "code",
   "execution_count": 31,
   "metadata": {},
   "outputs": [],
   "source": [
    "import pandas as pd\n",
    "\n",
    "# Path to the directory containing the CSV files\n",
    "directory_path = r'D:\\Sequioa\\anymaze_data\\SM'\n",
    "\n"
   ]
  },
  {
   "cell_type": "code",
   "execution_count": 29,
   "metadata": {},
   "outputs": [],
   "source": [
    "# List to store DataFrames read from each CSV file\n",
    "dataframes = []\n",
    "\n",
    "# Loop through each CSV file in the directory\n",
    "for file_name in ['cage_2_SM_day_2_4.csv', 'cage_1_SM_day_1_3.csv']:  # Update with your actual file names\n",
    "    file_path = os.path.join(directory_path, file_name)\n",
    "    \n",
    "    # Read the CSV file and append the DataFrame to the list\n",
    "    df = pd.read_csv(file_path)\n",
    "    dataframes.append(df)\n",
    "\n",
    "# Combine the DataFrames into one DataFrame\n",
    "combined_df = pd.concat(dataframes, ignore_index=True)\n",
    "\n",
    "# Now combined_df contains the combined data from both CSV files\n"
   ]
  },
  {
   "cell_type": "code",
   "execution_count": 30,
   "metadata": {},
   "outputs": [
    {
     "data": {
      "text/plain": [
       "'D:\\\\Sequioa\\\\anymaze_data\\\\SM\\\\cage_1_SM_day_1_3.csv'"
      ]
     },
     "execution_count": 30,
     "metadata": {},
     "output_type": "execute_result"
    }
   ],
   "source": [
    "str(file_name)\n",
    "str(file_path)"
   ]
  },
  {
   "cell_type": "code",
   "execution_count": 46,
   "metadata": {},
   "outputs": [
    {
     "data": {
      "text/plain": [
       "[   Test Animal  Animal notes Segment of test  \\\n",
       " 0     1  2.1.2           NaN   0 - 300 secs.   \n",
       " 1     2  2.4.2           NaN   0 - 300 secs.   \n",
       " 2     3  2.1.4           NaN   0 - 300 secs.   \n",
       " 3     4  2.2.4           NaN   0 - 300 secs.   \n",
       " 4     5  2.3.4           NaN   0 - 300 secs.   \n",
       " 5     6  2.4.4           NaN   0 - 300 secs.   \n",
       " 6     7  2.2.2           NaN   0 - 300 secs.   \n",
       " 7     8  2.3.2           NaN   0 - 300 secs.   \n",
       " \n",
       "    Familiar Right : time investigating (s)  \\\n",
       " 0                                     22.0   \n",
       " 1                                     31.5   \n",
       " 2                                     26.2   \n",
       " 3                                     18.1   \n",
       " 4                                     10.3   \n",
       " 5                                     21.2   \n",
       " 6                                     59.2   \n",
       " 7                                     26.2   \n",
       " \n",
       "    Novel Left : time investigating (s)  Whole-Chamber : time (s)  \\\n",
       " 0                                 48.1                     265.8   \n",
       " 1                                 24.4                     271.6   \n",
       " 2                                 46.7                     255.3   \n",
       " 3                                 82.3                     283.0   \n",
       " 4                                 56.8                     265.9   \n",
       " 5                                 47.8                     277.3   \n",
       " 6                                 53.5                     265.9   \n",
       " 7                                 22.5                     256.8   \n",
       " \n",
       "    Whole Right Chamber : time (s)  Whole Left Chamber : time (s)  \n",
       " 0                           118.4                          101.5  \n",
       " 1                           122.4                           67.6  \n",
       " 2                           103.1                           74.0  \n",
       " 3                            68.2                          164.0  \n",
       " 4                            46.0                           92.8  \n",
       " 5                            97.0                           74.0  \n",
       " 6                           110.7                           76.9  \n",
       " 7                            95.6                           74.7  ,\n",
       "    Test Animal  Animal notes Segment of test  \\\n",
       " 0     1  1.1.1           NaN   0 - 300 secs.   \n",
       " 1     2  1.3.1           NaN   0 - 300 secs.   \n",
       " 2     3  1.1.3           NaN   0 - 300 secs.   \n",
       " 3     4  1.2.3           NaN   0 - 300 secs.   \n",
       " 4     5  1.3.3           NaN   0 - 300 secs.   \n",
       " 5     6  1.4.1           NaN   0 - 300 secs.   \n",
       " 6     7  1.2.1           NaN   0 - 300 secs.   \n",
       " 7     8  1.4.3           NaN   0 - 300 secs.   \n",
       " \n",
       "    Novel-Right : time investigating (s)  \\\n",
       " 0                                  66.3   \n",
       " 1                                  56.5   \n",
       " 2                                 134.9   \n",
       " 3                                  80.1   \n",
       " 4                                  62.9   \n",
       " 5                                  90.4   \n",
       " 6                                  40.4   \n",
       " 7                                 106.4   \n",
       " \n",
       "    Familiar-Left : time investigating (s)  Whole-Chamber : time (s)  \\\n",
       " 0                                    51.2                     248.5   \n",
       " 1                                    28.7                     261.8   \n",
       " 2                                     8.2                     256.3   \n",
       " 3                                    22.9                     276.9   \n",
       " 4                                    13.4                     265.3   \n",
       " 5                                    13.1                     265.9   \n",
       " 6                                    34.4                     261.9   \n",
       " 7                                    22.3                     248.4   \n",
       " \n",
       "    Whole Left Chamber : time (s)  Whole Right Chamber : time (s)  \n",
       " 0                           83.1                           100.6  \n",
       " 1                          119.7                           104.8  \n",
       " 2                           27.8                           182.5  \n",
       " 3                           55.6                           188.2  \n",
       " 4                           41.0                           173.0  \n",
       " 5                           36.7                           176.8  \n",
       " 6                           83.8                           110.1  \n",
       " 7                           44.1                           151.2  ]"
      ]
     },
     "execution_count": 46,
     "metadata": {},
     "output_type": "execute_result"
    }
   ],
   "source": [
    "dataframes"
   ]
  },
  {
   "cell_type": "code",
   "execution_count": 53,
   "metadata": {},
   "outputs": [],
   "source": [
    "import pandas as pd\n",
    "\n",
    "# Path to the directory containing the CSV files\n",
    "directory_path = r'D:\\Sequioa\\anymaze_data\\SM'\n",
    "\n",
    "# List to store DataFrames read from each CSV file\n",
    "dataframes = []\n",
    "\n",
    "# Loop through each CSV file in the directory\n",
    "for file_name in ['cage_2_SM_day_2_4.csv', 'cage_1_SM_day_1_3.csv']:  # Update with your actual file names\n",
    "    file_path = os.path.join(directory_path, file_name)\n",
    "    \n",
    "    # Read the CSV file and append the DataFrame to the list\n",
    "    df = pd.read_csv(file_path)\n",
    "    dataframes.append(df)\n",
    "\n"
   ]
  },
  {
   "cell_type": "code",
   "execution_count": 54,
   "metadata": {},
   "outputs": [
    {
     "data": {
      "text/html": [
       "<div>\n",
       "<style scoped>\n",
       "    .dataframe tbody tr th:only-of-type {\n",
       "        vertical-align: middle;\n",
       "    }\n",
       "\n",
       "    .dataframe tbody tr th {\n",
       "        vertical-align: top;\n",
       "    }\n",
       "\n",
       "    .dataframe thead th {\n",
       "        text-align: right;\n",
       "    }\n",
       "</style>\n",
       "<table border=\"1\" class=\"dataframe\">\n",
       "  <thead>\n",
       "    <tr style=\"text-align: right;\">\n",
       "      <th></th>\n",
       "      <th>Test</th>\n",
       "      <th>Animal</th>\n",
       "      <th>Animal notes</th>\n",
       "      <th>Segment of test</th>\n",
       "      <th>Novel-Right : time investigating (s)</th>\n",
       "      <th>Familiar-Left : time investigating (s)</th>\n",
       "      <th>Whole-Chamber : time (s)</th>\n",
       "      <th>Whole Left Chamber : time (s)</th>\n",
       "      <th>Whole Right Chamber : time (s)</th>\n",
       "    </tr>\n",
       "  </thead>\n",
       "  <tbody>\n",
       "    <tr>\n",
       "      <th>0</th>\n",
       "      <td>1</td>\n",
       "      <td>1.1.1</td>\n",
       "      <td>NaN</td>\n",
       "      <td>0 - 300 secs.</td>\n",
       "      <td>66.3</td>\n",
       "      <td>51.2</td>\n",
       "      <td>248.5</td>\n",
       "      <td>83.1</td>\n",
       "      <td>100.6</td>\n",
       "    </tr>\n",
       "    <tr>\n",
       "      <th>1</th>\n",
       "      <td>2</td>\n",
       "      <td>1.3.1</td>\n",
       "      <td>NaN</td>\n",
       "      <td>0 - 300 secs.</td>\n",
       "      <td>56.5</td>\n",
       "      <td>28.7</td>\n",
       "      <td>261.8</td>\n",
       "      <td>119.7</td>\n",
       "      <td>104.8</td>\n",
       "    </tr>\n",
       "    <tr>\n",
       "      <th>2</th>\n",
       "      <td>3</td>\n",
       "      <td>1.1.3</td>\n",
       "      <td>NaN</td>\n",
       "      <td>0 - 300 secs.</td>\n",
       "      <td>134.9</td>\n",
       "      <td>8.2</td>\n",
       "      <td>256.3</td>\n",
       "      <td>27.8</td>\n",
       "      <td>182.5</td>\n",
       "    </tr>\n",
       "    <tr>\n",
       "      <th>3</th>\n",
       "      <td>4</td>\n",
       "      <td>1.2.3</td>\n",
       "      <td>NaN</td>\n",
       "      <td>0 - 300 secs.</td>\n",
       "      <td>80.1</td>\n",
       "      <td>22.9</td>\n",
       "      <td>276.9</td>\n",
       "      <td>55.6</td>\n",
       "      <td>188.2</td>\n",
       "    </tr>\n",
       "    <tr>\n",
       "      <th>4</th>\n",
       "      <td>5</td>\n",
       "      <td>1.3.3</td>\n",
       "      <td>NaN</td>\n",
       "      <td>0 - 300 secs.</td>\n",
       "      <td>62.9</td>\n",
       "      <td>13.4</td>\n",
       "      <td>265.3</td>\n",
       "      <td>41.0</td>\n",
       "      <td>173.0</td>\n",
       "    </tr>\n",
       "    <tr>\n",
       "      <th>5</th>\n",
       "      <td>6</td>\n",
       "      <td>1.4.1</td>\n",
       "      <td>NaN</td>\n",
       "      <td>0 - 300 secs.</td>\n",
       "      <td>90.4</td>\n",
       "      <td>13.1</td>\n",
       "      <td>265.9</td>\n",
       "      <td>36.7</td>\n",
       "      <td>176.8</td>\n",
       "    </tr>\n",
       "    <tr>\n",
       "      <th>6</th>\n",
       "      <td>7</td>\n",
       "      <td>1.2.1</td>\n",
       "      <td>NaN</td>\n",
       "      <td>0 - 300 secs.</td>\n",
       "      <td>40.4</td>\n",
       "      <td>34.4</td>\n",
       "      <td>261.9</td>\n",
       "      <td>83.8</td>\n",
       "      <td>110.1</td>\n",
       "    </tr>\n",
       "    <tr>\n",
       "      <th>7</th>\n",
       "      <td>8</td>\n",
       "      <td>1.4.3</td>\n",
       "      <td>NaN</td>\n",
       "      <td>0 - 300 secs.</td>\n",
       "      <td>106.4</td>\n",
       "      <td>22.3</td>\n",
       "      <td>248.4</td>\n",
       "      <td>44.1</td>\n",
       "      <td>151.2</td>\n",
       "    </tr>\n",
       "  </tbody>\n",
       "</table>\n",
       "</div>"
      ],
      "text/plain": [
       "   Test Animal  Animal notes Segment of test  \\\n",
       "0     1  1.1.1           NaN   0 - 300 secs.   \n",
       "1     2  1.3.1           NaN   0 - 300 secs.   \n",
       "2     3  1.1.3           NaN   0 - 300 secs.   \n",
       "3     4  1.2.3           NaN   0 - 300 secs.   \n",
       "4     5  1.3.3           NaN   0 - 300 secs.   \n",
       "5     6  1.4.1           NaN   0 - 300 secs.   \n",
       "6     7  1.2.1           NaN   0 - 300 secs.   \n",
       "7     8  1.4.3           NaN   0 - 300 secs.   \n",
       "\n",
       "   Novel-Right : time investigating (s)  \\\n",
       "0                                  66.3   \n",
       "1                                  56.5   \n",
       "2                                 134.9   \n",
       "3                                  80.1   \n",
       "4                                  62.9   \n",
       "5                                  90.4   \n",
       "6                                  40.4   \n",
       "7                                 106.4   \n",
       "\n",
       "   Familiar-Left : time investigating (s)  Whole-Chamber : time (s)  \\\n",
       "0                                    51.2                     248.5   \n",
       "1                                    28.7                     261.8   \n",
       "2                                     8.2                     256.3   \n",
       "3                                    22.9                     276.9   \n",
       "4                                    13.4                     265.3   \n",
       "5                                    13.1                     265.9   \n",
       "6                                    34.4                     261.9   \n",
       "7                                    22.3                     248.4   \n",
       "\n",
       "   Whole Left Chamber : time (s)  Whole Right Chamber : time (s)  \n",
       "0                           83.1                           100.6  \n",
       "1                          119.7                           104.8  \n",
       "2                           27.8                           182.5  \n",
       "3                           55.6                           188.2  \n",
       "4                           41.0                           173.0  \n",
       "5                           36.7                           176.8  \n",
       "6                           83.8                           110.1  \n",
       "7                           44.1                           151.2  "
      ]
     },
     "execution_count": 54,
     "metadata": {},
     "output_type": "execute_result"
    }
   ],
   "source": [
    "df"
   ]
  },
  {
   "cell_type": "code",
   "execution_count": 25,
   "metadata": {},
   "outputs": [
    {
     "ename": "NameError",
     "evalue": "name 'file_name' is not defined",
     "output_type": "error",
     "traceback": [
      "\u001b[1;31m---------------------------------------------------------------------------\u001b[0m",
      "\u001b[1;31mNameError\u001b[0m                                 Traceback (most recent call last)",
      "Cell \u001b[1;32mIn[25], line 12\u001b[0m\n\u001b[0;32m     10\u001b[0m \u001b[38;5;66;03m# Loop through each CSV file in the directory\u001b[39;00m\n\u001b[0;32m     11\u001b[0m \u001b[38;5;28;01mfor\u001b[39;00m file_path \u001b[38;5;129;01min\u001b[39;00m [\u001b[38;5;124m'\u001b[39m\u001b[38;5;124mcage_2_SM_day_2_4.csv\u001b[39m\u001b[38;5;124m'\u001b[39m, \u001b[38;5;124m'\u001b[39m\u001b[38;5;124mcage_1_SM_day_1_3.csv\u001b[39m\u001b[38;5;124m'\u001b[39m]:  \u001b[38;5;66;03m# Update with your actual file names\u001b[39;00m\n\u001b[1;32m---> 12\u001b[0m     file_path \u001b[38;5;241m=\u001b[39m os\u001b[38;5;241m.\u001b[39mpath\u001b[38;5;241m.\u001b[39mjoin(directory_path, file_name)\n\u001b[0;32m     14\u001b[0m     \u001b[38;5;66;03m# Read the CSV file and append the DataFrame to the list\u001b[39;00m\n\u001b[0;32m     15\u001b[0m     df \u001b[38;5;241m=\u001b[39m pd\u001b[38;5;241m.\u001b[39mread_csv(file_path)\n",
      "\u001b[1;31mNameError\u001b[0m: name 'file_name' is not defined"
     ]
    }
   ],
   "source": [
    "import pandas as pd\n",
    "import os\n",
    "\n",
    "# Path to the directory containing the CSV files\n",
    "directory_path = r'D:\\Sequioa\\anymaze_data\\SM'\n",
    "\n",
    "# List to store DataFrames read from each CSV file\n",
    "dataframes = []\n",
    "\n",
    "# Loop through each CSV file in the directory\n",
    "for file_path in ['cage_2_SM_day_2_4.csv', 'cage_1_SM_day_1_3.csv']:  # Update with your actual file names\n",
    "    file_path = os.path.join(directory_path, file_name)\n",
    "    \n",
    "    # Read the CSV file and append the DataFrame to the list\n",
    "    df = pd.read_csv(file_path)\n",
    "    dataframes.append(df)\n",
    "\n",
    "# Concatenate the DataFrames into one DataFrame column-wise\n",
    "combined_df = pd.concat(dataframes, axis=1)\n",
    "\n",
    "# Now combined_df contains the combined data from both CSV files column-wise"
   ]
  },
  {
   "cell_type": "code",
   "execution_count": 68,
   "metadata": {},
   "outputs": [
    {
     "data": {
      "text/plain": [
       "'cage_1_SM_day_1_3.csv'"
      ]
     },
     "execution_count": 68,
     "metadata": {},
     "output_type": "execute_result"
    }
   ],
   "source": [
    "str(df)\n",
    "str(file_name)"
   ]
  }
 ],
 "metadata": {
  "kernelspec": {
   "display_name": "ephys_analysis",
   "language": "python",
   "name": "python3"
  },
  "language_info": {
   "codemirror_mode": {
    "name": "ipython",
    "version": 3
   },
   "file_extension": ".py",
   "mimetype": "text/x-python",
   "name": "python",
   "nbconvert_exporter": "python",
   "pygments_lexer": "ipython3",
   "version": "3.11.5"
  }
 },
 "nbformat": 4,
 "nbformat_minor": 2
}
