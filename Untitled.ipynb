{
 "cells": [
  {
   "cell_type": "code",
   "execution_count": 35,
   "id": "b14e9417-2a7d-4718-933d-ef614e567c8c",
   "metadata": {},
   "outputs": [],
   "source": [
    "import numpy as np\n",
    "import os\n",
    "import csv\n",
    "import sys\n",
    "\n",
    "import matplotlib.pyplot as plt\n",
    "from scipy.signal import convolve\n",
    "from scipy.signal import savgol_filter\n",
    "import math\n",
    "import Spike_analysis as sp\n",
    "import boris_extraction as boris"
   ]
  },
  {
   "cell_type": "raw",
   "id": "48ecc086-57db-4f95-9081-1697cbf9ecfc",
   "metadata": {},
   "source": [
    "##Familiar"
   ]
  },
  {
   "cell_type": "code",
   "execution_count": 36,
   "id": "abca673f-ffe1-4b6e-a3d6-d569cc9046b1",
   "metadata": {},
   "outputs": [
    {
     "ename": "AttributeError",
     "evalue": "module 'Spike_analysis' has no attribute 'get_spike_specs'",
     "output_type": "error",
     "traceback": [
      "\u001b[1;31m---------------------------------------------------------------------------\u001b[0m",
      "\u001b[1;31mAttributeError\u001b[0m                            Traceback (most recent call last)",
      "Cell \u001b[1;32mIn[36], line 2\u001b[0m\n\u001b[0;32m      1\u001b[0m path \u001b[38;5;241m=\u001b[39m \u001b[38;5;124m'\u001b[39m\u001b[38;5;124m./proc_old_backup/20221219_114535_6_1_fam_merged.rec/phy\u001b[39m\u001b[38;5;124m'\u001b[39m\n\u001b[1;32m----> 2\u001b[0m spiketimestamps, labels_dict, spike_dict, spiketrain \u001b[38;5;241m=\u001b[39m \u001b[43msp\u001b[49m\u001b[38;5;241;43m.\u001b[39;49m\u001b[43mget_spike_specs\u001b[49m(path)\n\u001b[0;32m      4\u001b[0m spike_train \u001b[38;5;241m=\u001b[39m get_spiketrain(spiketimestamps, spiketimestamps[\u001b[38;5;241m-\u001b[39m\u001b[38;5;241m1\u001b[39m])\n\u001b[0;32m      6\u001b[0m halftime \u001b[38;5;241m=\u001b[39m math\u001b[38;5;241m.\u001b[39mceil(\u001b[38;5;28mlen\u001b[39m(spike_train) \u001b[38;5;241m/\u001b[39m \u001b[38;5;241m2\u001b[39m)\n",
      "\u001b[1;31mAttributeError\u001b[0m: module 'Spike_analysis' has no attribute 'get_spike_specs'"
     ]
    }
   ],
   "source": [
    "        \n",
    "path = './proc_old_backup/20221219_114535_6_1_fam_merged.rec/phy'\n",
    "spiketimestamps, labels_dict, spike_dict, spiketrain = sp.get_spike_specs(path)\n",
    "\n",
    "spike_train = get_spiketrain(spiketimestamps, spiketimestamps[-1])\n",
    "\n",
    "halftime = math.ceil(len(spike_train) / 2)\n",
    "\n",
    "\n",
    "baseline_spiketrain = spike_train[0:halftime]\n",
    "social_spiketrain = spike_train[halftime:]\n"
   ]
  },
  {
   "cell_type": "code",
   "execution_count": null,
   "id": "2ada9e3d-1745-40ee-a781-2bb0df3abf03",
   "metadata": {},
   "outputs": [],
   "source": [
    "baseline_firing_rate = get_firing_rate(baseline_spiketrain, 10, 250)\n",
    "social_firing_rate = get_firing_rate(social_spiketrain, 10, 250)\n"
   ]
  },
  {
   "cell_type": "code",
   "execution_count": 1,
   "id": "4de74e62-f64a-4ed3-b69f-f590c7341173",
   "metadata": {},
   "outputs": [
    {
     "ename": "NameError",
     "evalue": "name 'spiketrain_dict' is not defined",
     "output_type": "error",
     "traceback": [
      "\u001b[1;31m---------------------------------------------------------------------------\u001b[0m",
      "\u001b[1;31mNameError\u001b[0m                                 Traceback (most recent call last)",
      "Cell \u001b[1;32mIn[1], line 2\u001b[0m\n\u001b[0;32m      1\u001b[0m firing_rates \u001b[38;5;241m=\u001b[39m []\n\u001b[1;32m----> 2\u001b[0m \u001b[38;5;28;01mfor\u001b[39;00m spikes \u001b[38;5;129;01min\u001b[39;00m \u001b[43mspiketrain_dict\u001b[49m\u001b[38;5;241m.\u001b[39mvalues(): \n\u001b[0;32m      3\u001b[0m     spiketrain \u001b[38;5;241m=\u001b[39m get_spiketrain(spikes, \u001b[38;5;28mlen\u001b[39m(spike_train))\n\u001b[0;32m      4\u001b[0m     firing_rate \u001b[38;5;241m=\u001b[39m get_firing_rate(spiketrain, \u001b[38;5;241m10\u001b[39m)\n",
      "\u001b[1;31mNameError\u001b[0m: name 'spiketrain_dict' is not defined"
     ]
    }
   ],
   "source": [
    "  \n",
    "firing_rates = []\n",
    "for spikes in spiketrain_dict.values(): \n",
    "    spiketrain = get_spiketrain(spikes, len(spike_train))\n",
    "    firing_rate = get_firing_rate(spiketrain, 10)\n",
    "    firing_rates.append(firing_rate)\n",
    "\n",
    "\n"
   ]
  },
  {
   "cell_type": "code",
   "execution_count": null,
   "id": "45f23cac-c993-4b53-bc6c-227c17cde4c1",
   "metadata": {},
   "outputs": [],
   "source": [
    "plt.figure(figsize = (25,5))\n",
    "line_width = .5\n",
    "plt.plot(x, clustered_firing_rates[0], linewidth = 1)\n",
    "plt.axvline(x=600, linestyle='--', c = 'r', linewidth = 2)\n",
    "#plt.plot(x, clustered_firing_rates[1], c = 'b', linewidth = line_width)\n",
    "#plt.plot(x, clustered_firing_rates[2], c = 'g', linewidth = line_width)\n",
    "#plt.plot(x, clustered_firing_rates[3], c = 'y', linewidth = line_width)\n",
    "#plt.plot(x, clustered_firing_rates[4], c = 'k', linewidth = line_width)"
   ]
  },
  {
   "cell_type": "code",
   "execution_count": 295,
   "id": "a1fcbd3e-3736-4890-b198-b9b1b28a7f0e",
   "metadata": {},
   "outputs": [
    {
     "data": {
      "image/png": "[encoded data removed]",
      "text/plain": [
       "<Figure size 1200x100 with 1 Axes>"
      ]
     },
     "metadata": {},
     "output_type": "display_data"
    }
   ],
   "source": [
    "# Create the raster plot\n",
    "plt.figure(figsize = (12,1))\n",
    "plt.eventplot(spiketrain_array)\n",
    "plt.xlabel('Time (ms)')\n",
    "plt.ylabel('Neuron')\n",
    "plt.title('Raster Plot')\n",
    "plt.show()"
   ]
  },
  {
   "cell_type": "code",
   "execution_count": null,
   "id": "ccaef310-b014-4230-9ad2-54e95df4068d",
   "metadata": {},
   "outputs": [],
   "source": [
    "snif_firing_rates = []\n",
    "presnif_firing_rates = []\n",
    "for i in range(sniffing_bouts.shape[0]):\n",
    "    sniffing_bout_length = sniffing_bouts[i][1] - sniffing_bouts[i][0]\n",
    "    presnif_start = sniffing_bouts[i][0] - sniffing_bout_length\n",
    "    sniffing_bout_spikes = spike_train[sniffing_bouts[i][0].astype(int):sniffing_bouts[i][1].astype(int)]\n",
    "    presniffing_bout_spikes = spike_train[presnif_start.astype(int):sniffing_bouts[i][0].astype(int)]\n",
    "    snif_firing_rates.append(get_firing_rate(sniffing_bout_spikes,10, 100))\n",
    "    presnif_firing_rates.append(get_firing_rate(presniffing_bout_spikes, 10, 100))\n",
    "    \n",
    "    \n",
    "sniffing_bouts = np.load(os.path.join(path, '.\\cagemate_subject_sniffing.npy'))\n",
    "sniffing_bout_length = sniffing_bouts[0][1] - sniffing_bouts[0][0]\n",
    "presnif_start = sniffing_bouts[0][0] - sniffing_bout_length\n",
    "sniffing_bout_spikes = spike_train[sniffing_bouts[0][0].astype(int):sniffing_bouts[0][1].astype(int)]\n",
    "presniffing_bout_spikes = spike_train[presnif_start.astype(int):sniffing_bouts[0][0].astype(int)]\n",
    "print(len(sniffing_bout_spikes), len(presniffing_bout_spikes))\n",
    "\n",
    "snif_firing_rate = get_firing_rate(sniffing_bout_spikes,10, 100)\n",
    "presnif_firing_rate = get_firing_rate(presniffing_bout_spikes, 10, 100)\n",
    "x = np.array(range(len(snif_firing_rate)))"
   ]
  },
  {
   "cell_type": "code",
   "execution_count": null,
   "id": "7d95e6dc-57f5-468e-8839-46a0993955c6",
   "metadata": {},
   "outputs": [],
   "source": [
    "plt.figure(figsize = (25,5))\n",
    "plt.plot(x, snif_firing_rate, c = 'k', linewidth = line_width)\n",
    "plt.plot(x, presnif_firing_rate, c = 'r', linewidth = line_width)"
   ]
  }
 ],
 "metadata": {
  "kernelspec": {
   "display_name": "Python 3 (ipykernel)",
   "language": "python",
   "name": "python3"
  },
  "language_info": {
   "codemirror_mode": {
    "name": "ipython",
    "version": 3
   },
   "file_extension": ".py",
   "mimetype": "text/x-python",
   "name": "python",
   "nbconvert_exporter": "python",
   "pygments_lexer": "ipython3",
   "version": "3.10.9"
  }
 },
 "nbformat": 4,
 "nbformat_minor": 5
}
