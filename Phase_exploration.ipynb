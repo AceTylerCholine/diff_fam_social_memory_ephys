{
 "cells": [
  {
   "cell_type": "code",
   "execution_count": 5,
   "metadata": {},
   "outputs": [],
   "source": [
    "import pickle\n",
    "import boris_extraction as boris\n",
    "import multirecording_spikeanalysis as spike\n",
    "import pandas as pd\n",
    "import numpy as np"
   ]
  },
  {
   "cell_type": "markdown",
   "metadata": {},
   "source": [
    "phase3_collection = spike.EphysRecordingCollection(\"D:\\\\social_ephys_pilot2_cum\\\\proc\\\\Phase 3\")\n",
    "with open('phase3_collection.pkl','wb') as file:\n",
    "    pickle.dump(phase3_collection, file)\n",
    "\n"
   ]
  },
  {
   "cell_type": "code",
   "execution_count": 3,
   "metadata": {},
   "outputs": [
    {
     "data": {
      "text/plain": [
       "dict_keys(['20230809_103121_1_merged.rec', '20230809_120416_1_merged.rec', '20230809_143303_1_merged.rec', '20230810_101534_1_merged.rec', '20230810_120856_1_merged.rec', '20230810_140909_1_merged.rec', '20230811_101635_1_merged.rec', '20230811_154219_1_merged.rec'])"
      ]
     },
     "execution_count": 3,
     "metadata": {},
     "output_type": "execute_result"
    }
   ],
   "source": [
    "with open('phase3_collection.pkl', 'rb') as file:\n",
    "    phase3_collection = pickle.load(file)\n",
    "phase3_collection.collection.keys()"
   ]
  },
  {
   "cell_type": "code",
   "execution_count": 11,
   "metadata": {},
   "outputs": [
    {
     "data": {
      "text/plain": [
       "1710120.85"
      ]
     },
     "execution_count": 11,
     "metadata": {},
     "output_type": "execute_result"
    }
   ],
   "source": [
    "p3d1_1_1 = phase3_collection.get_by_name('20230809_103121_1_merged.rec')\n",
    "#p3d1_1_2 was only half as long so we will not do ephys data analysis on it \n",
    "p3d1_1_4 = phase3_collection.get_by_name('20230809_143303_1_merged.rec')\n",
    "\n",
    "p3d2_1_1 = phase3_collection.get_by_name('20230810_101534_1_merged.rec')\n",
    "p3d2_1_2 = phase3_collection.get_by_name('20230810_120856_1_merged.rec')\n",
    "p3d2_1_4 = phase3_collection.get_by_name('20230810_140909_1_merged.rec')\n",
    "\n",
    "p3d3_1_1 = phase3_collection.get_by_name('20230811_101635_1_merged.rec')\n",
    "p3d3_1_2 = phase3_collection.get_by_name('20230811_120331_merged.rec')\n",
    "p3d3_1_4 = phase3_collection.get_by_name('20230811_154219_1_merged.rec')\n",
    "\n",
    "\n",
    "p3d1_1_1.subject = '1.1'\n",
    "p3d1_1_4.subject = '1.4'\n",
    "p3d2_1_1.subject = '1.1'\n",
    "p3d2_1_2.subject = '1.2'\n",
    "p3d2_1_4.subject = '1.4'\n",
    "p3d3_1_1.subject = '1.1'\n",
    "p3d3_1_2.subject = '1.2'\n",
    "p3d3_1.4.subject - '1.4'\n"
   ]
  },
  {
   "cell_type": "code",
   "execution_count": 2,
   "metadata": {},
   "outputs": [],
   "source": [
    "p3d1_1_1_df = pd.read_excel(\"D:\\\\social_ephys_pilot2_cum\\\\proc\\\\Phase 3\\\\tester_collection\\\\20230809_103121_1_merged.rec\\\\20230809_103121_1.1_1t1bL_p3d1.xlsx\")\n",
    "\n",
    "p3d1_1_1_df = p3d1_1_1_df[['Total duration', 'Subject','Behavior','Start (s)','Stop (s)']]\n",
    "\n",
    "last10min_p3d1_1_1_df = p3d1_1_1_df[p3d1_1_1_df['Start (s)'] > 1939]\n",
    "first10min_p3d1_1_1_df = p3d1_1_1_df[p3d1_1_1_df['Start (s)'] < 601]\n",
    "familiarization_p3d1_1_1_df = p3d1_1_1_df[(p3d1_1_1_df['Start (s)'] < 1258) & (p3d1_1_1_df['Start (s)'] > 675)]\n",
    "ITI_p3d1_1_1_df = p3d1_1_1_df[(p3d1_1_1_df['Start (s)'] > 1271) & (p3d1_1_1_df['Start (s)'] < 1860)]\n",
    "\n",
    "novel_p3d1_1_1_array = boris.get_behavior_bouts(last10min_p3d1_1_1_df, [1.1], ['sniff cup 1', 'chew cup 1'], min_iti = 2, min_bout = 0.5)\n",
    "fam_p3d1_1_1_array = boris.get_behavior_bouts(last10min_p3d1_1_1_df, [1.1], ['sniff cup 2', 'chew cup 2'], min_iti = 2, min_bout = 0.5)\n",
    "cagemate_p3d1_1_1_array = boris.get_behavior_bouts(last10min_p3d1_1_1_df, [1.1], ['sniff cup 3', 'chew cup 3'], min_iti = 2, min_bout = 0.5)\n",
    "empty_p3d1_1_1_array = boris.get_behavior_bouts(last10min_p3d1_1_1_df, [1.1], ['sniff cup 4', 'chew cup 4'], min_iti = 2, min_bout = 0.5)\n",
    "\n",
    "cup3_p3d1_1_1_array = boris.get_behavior_bouts(first10min_p3d1_1_1_df, [1.1], ['sniff cup 3', 'chew cup 3'], min_iti = 2, min_bout = 0.5)\n",
    "cup4_p3d1_1_1_array = boris.get_behavior_bouts(first10min_p3d1_1_1_df, [1.1], ['sniff cup 4', 'chew cup 4'], min_iti = 2, min_bout = 0.5)\n",
    "cup1_p3d1_1_1_array = boris.get_behavior_bouts(first10min_p3d1_1_1_df, [1.1], ['sniff cup 1', 'chew cup 1'], min_iti = 2, min_bout = 0.5)\n",
    "cup2_p3d1_1_1_array = boris.get_behavior_bouts(first10min_p3d1_1_1_df, [1.1], ['sniff cup 2', 'chew cup 2'], min_iti = 2, min_bout = 0.5)\n",
    "\n",
    "famempty_p3d1_1_1_array = boris.get_behavior_bouts(familiarization_p3d1_1_1_df, [1.1], ['sniff cup 3', 'chew cup 3','sniff cup 1', 'chew cup 1','sniff cup 4', 'chew cup 4'], min_iti = 2, min_bout = 0.5)\n",
    "famfam_p3d1_1_1_array = boris.get_behavior_bouts(familiarization_p3d1_1_1_df, [1.1], ['sniff cup 2', 'chew cup 2'], min_iti = 2, min_bout = 0.5)\n",
    "\n",
    "ITIcup3_p3d1_1_1_array = boris.get_behavior_bouts(ITI_p3d1_1_1_df, [1.1],['sniff cup 3', 'chew cup 3','sniff cup 1', 'chew cup 1','sniff cup 4', 'chew cup 4'], min_iti = 2, min_bout = 0.5)\n",
    "ITIfamcup_p3d1_1_1_array = boris.get_behavior_bouts(ITI_p3d1_1_1_df, [1.1], ['sniff cup 2', 'chew cup 2'], min_iti = 2, min_bout = 0.5)"
   ]
  },
  {
   "cell_type": "code",
   "execution_count": 3,
   "metadata": {},
   "outputs": [],
   "source": [
    "p3d1_1_4_df = pd.read_excel(\"D:\\\\social_ephys_pilot2_cum\\\\proc\\\\Phase 3\\\\tester_collection\\\\20230809_143303_1_merged.rec\\\\20230809_143303_1.4_3t3bL_p3d1.xlsx\")\n",
    "\n",
    "p3d1_1_4_df = p3d1_1_4_df[['Total duration', 'Subject','Behavior','Start (s)','Stop (s)']]\n",
    "last10min_p3d1_1_4_df = p3d1_1_4_df[p3d1_1_4_df['Start (s)'] > 1920]\n",
    "first10min_p3d1_1_4_df = p3d1_1_4_df[p3d1_1_4_df['Start (s)'] < 602]\n",
    "familiarization_p3d1_1_4_df = p3d1_1_4_df[(p3d1_1_4_df['Start (s)'] < 1234) & (p3d1_1_4_df['Start (s)'] > 629)]\n",
    "ITI_p3d1_1_4_df = p3d1_1_4_df[(p3d1_1_4_df['Start (s)'] > 1260) & (p3d1_1_4_df['Start (s)'] < 1856)]\n",
    "novel_p3d1_1_4_array = boris.get_behavior_bouts(last10min_p3d1_1_4_df, [1.4], ['sniff cup 3', 'chew cup 3'], min_iti = 2, min_bout = 0.5)\n",
    "fam_p3d1_1_4_array = boris.get_behavior_bouts(last10min_p3d1_1_4_df, [1.4], ['sniff cup 2', 'chew cup 2'], min_iti = 2, min_bout = 0.5)\n",
    "cagemate_p3d1_1_4_array = boris.get_behavior_bouts(last10min_p3d1_1_4_df, [1.4], ['sniff cup 1', 'chew cup 1'], min_iti = 2, min_bout = 0.5)\n",
    "empty_p3d1_1_4_array = boris.get_behavior_bouts(last10min_p3d1_1_4_df, [1.4], ['sniff cup 4', 'chew cup 4'], min_iti = 2, min_bout = 0.5)\n",
    "cup3_p3d1_1_4_array = boris.get_behavior_bouts(first10min_p3d1_1_4_df, [1.4], ['sniff cup 3', 'chew cup 3'], min_iti = 2, min_bout = 0.5)\n",
    "cup4_p3d1_1_4_array = boris.get_behavior_bouts(first10min_p3d1_1_4_df, [1.4], ['sniff cup 4', 'chew cup 4'], min_iti = 2, min_bout = 0.5)\n",
    "cup1_p3d1_1_4_array = boris.get_behavior_bouts(first10min_p3d1_1_4_df, [1.4], ['sniff cup 1', 'chew cup 1'], min_iti = 2, min_bout = 0.5)\n",
    "cup2_p3d1_1_4_array = boris.get_behavior_bouts(first10min_p3d1_1_4_df, [1.4], ['sniff cup 2', 'chew cup 2'], min_iti = 2, min_bout = 0.5)\n",
    "famcup3_p3d1_1_4_array = boris.get_behavior_bouts(familiarization_p3d1_1_4_df, [1.4], ['sniff cup 3', 'chew cup 3','sniff cup 1', 'chew cup 1','sniff cup 4', 'chew cup 4'], min_iti = 2, min_bout = 0.5)\n",
    "famfam_p3d1_1_4_array = boris.get_behavior_bouts(familiarization_p3d1_1_4_df, [1.4], ['sniff cup 2', 'chew cup 2'], min_iti = 2, min_bout = 0.5)\n",
    "ITIcup3_p3d1_1_4_array = boris.get_behavior_bouts(ITI_p3d1_1_4_df, [1.4], ['sniff cup 3', 'chew cup 3','sniff cup 1', 'chew cup 1','sniff cup 4', 'chew cup 4'], min_iti = 2, min_bout = 0.5)\n",
    "ITIfamcup_p3d1_1_4_array = boris.get_behavior_bouts(ITI_p3d1_1_4_df, [1.4], ['sniff cup 2', 'chew cup 2'], min_iti = 2, min_bout = 0.5)"
   ]
  },
  {
   "cell_type": "code",
   "execution_count": 4,
   "metadata": {},
   "outputs": [],
   "source": [
    "p3d2_1_1_df = pd.read_excel(\"D:\\\\social_ephys_pilot2_cum\\\\proc\\\\Phase 3\\\\tester_collection\\\\20230810_101534_1_merged.rec\\\\20230810_101534_1.1_p3d2.xlsx\")\n",
    "\n",
    "p3d2_1_1_df = p3d2_1_1_df[['Total duration', 'Subject','Behavior','Start (s)','Stop (s)']]\n",
    "last10min_p3d2_1_1_df = p3d2_1_1_df[p3d2_1_1_df['Start (s)'] > 1926]\n",
    "first10min_p3d2_1_1_df = p3d2_1_1_df[p3d2_1_1_df['Start (s)'] < 600]\n",
    "familiarization_p3d2_1_1_df = p3d2_1_1_df[(p3d2_1_1_df['Start (s)'] < 1216) & (p3d2_1_1_df['Start (s)'] > 612)]\n",
    "ITI_p3d2_1_1_df = p3d2_1_1_df[(p3d2_1_1_df['Start (s)'] > 1222) & (p3d2_1_1_df['Start (s)'] < 1821)]\n",
    "\n",
    "novel_p3d2_1_1_array = boris.get_behavior_bouts(last10min_p3d2_1_1_df, [1.1], ['sniff cup 2', 'chew cup 2'], min_iti = 2, min_bout = 0.5)\n",
    "fam_p3d2_1_1_array = boris.get_behavior_bouts(last10min_p3d2_1_1_df, [1.1], ['sniff cup 3', 'chew cup 3'], min_iti = 2, min_bout = 0.5)\n",
    "cagemate_p3d2_1_1_array = boris.get_behavior_bouts(last10min_p3d2_1_1_df, [1.1], ['sniff cup 4', 'chew cup 4'], min_iti = 2, min_bout = 0.5)\n",
    "empty_p3d2_1_1_array = boris.get_behavior_bouts(last10min_p3d2_1_1_df, [1.1], ['sniff cup 1', 'chew cup 1'], min_iti = 2, min_bout = 0.5)\n",
    "\n",
    "cup3_p3d2_1_1_array = boris.get_behavior_bouts(first10min_p3d2_1_1_df, [1.1], ['sniff cup 3', 'chew cup 3'], min_iti = 2, min_bout = 0.5)\n",
    "cup4_p3d2_1_1_array = boris.get_behavior_bouts(first10min_p3d2_1_1_df, [1.1], ['sniff cup 4', 'chew cup 4'], min_iti = 2, min_bout = 0.5)\n",
    "cup1_p3d2_1_1_array = boris.get_behavior_bouts(first10min_p3d2_1_1_df, [1.1], ['sniff cup 1', 'chew cup 1'], min_iti = 2, min_bout = 0.5)\n",
    "cup2_p3d2_1_1_array = boris.get_behavior_bouts(first10min_p3d2_1_1_df, [1.1], ['sniff cup 2', 'chew cup 2'], min_iti = 2, min_bout = 0.5)\n",
    "\n",
    "famcup3_p3d2_1_1_array = boris.get_behavior_bouts(familiarization_p3d2_1_1_df, [1.1], ['sniff cup 4', 'chew cup 4', 'sniff cup 1', 'chew cup 1','sniff cup 2', 'chew cup 2'], min_iti = 2, min_bout = 0.5)\n",
    "famfam_p3d2_1_1_array = boris.get_behavior_bouts(familiarization_p3d2_1_1_df, [1.1], ['sniff cup 3', 'chew cup 3'], min_iti = 2, min_bout = 0.5)\n",
    "\n",
    "ITIcup3_p3d2_1_1_array = boris.get_behavior_bouts(ITI_p3d2_1_1_df, [1.1], ['sniff cup 4', 'chew cup 4', 'sniff cup 1', 'chew cup 1','sniff cup 2', 'chew cup 2'], min_iti = 2, min_bout = 0.5)\n",
    "ITIfamcup_p3d2_1_1_array = boris.get_behavior_bouts(ITI_p3d2_1_1_df, [1.1], ['sniff cup 3', 'chew cup 3'], min_iti = 2, min_bout = 0.5)"
   ]
  },
  {
   "cell_type": "code",
   "execution_count": 7,
   "metadata": {},
   "outputs": [],
   "source": [
    "p3d2_1_2_df = pd.read_excel(\"D:\\\\social_ephys_pilot2_cum\\\\proc\\\\Phase 3\\\\tester_collection\\\\20230810_120856_1_merged.rec\\\\20230810_120856_1.2_p3d2.xlsx\")\n",
    "\n",
    "p3d2_1_2_df = p3d2_1_2_df[['Total duration', 'Subject','Behavior','Start (s)','Stop (s)']]\n",
    "last10min_p3d2_1_2_df = p3d2_1_2_df[p3d2_1_2_df['Start (s)'] > 2049]\n",
    "first10min_p3d2_1_2_df = p3d2_1_2_df[p3d2_1_2_df['Start (s)'] < 723]\n",
    "familiarization_p3d2_1_2_df = p3d2_1_2_df[(p3d2_1_2_df['Start (s)'] < 1351) & (p3d2_1_2_df['Start (s)'] > 734)]\n",
    "ITI_p3d2_1_2_df = p3d2_1_2_df[(p3d2_1_2_df['Start (s)'] > 1373) & (p3d2_1_2_df['Start (s)'] < 1950)]\n",
    "\n",
    "novel_p3d2_1_2_array = boris.get_behavior_bouts(last10min_p3d2_1_2_df, [1.2], ['sniff cup 3', 'chew cup 3'], min_iti = 2, min_bout = 0.5)\n",
    "fam_p3d2_1_2_array = boris.get_behavior_bouts(last10min_p3d2_1_2_df, [1.2], ['sniff cup 4', 'chew cup 4'], min_iti = 2, min_bout = 0.5)\n",
    "cagemate_p3d2_1_2_array = boris.get_behavior_bouts(last10min_p3d2_1_2_df, [1.2], ['sniff cup 1', 'chew cup 1'], min_iti = 2, min_bout = 0.5)\n",
    "empty_p3d2_1_2_array = boris.get_behavior_bouts(last10min_p3d2_1_2_df, [1.2], ['sniff cup 2', 'chew cup 2'], min_iti = 2, min_bout = 0.5)\n",
    "\n",
    "cup3_p3d2_1_2_array = boris.get_behavior_bouts(first10min_p3d2_1_2_df, [1.2], ['sniff cup 3', 'chew cup 3'], min_iti = 2, min_bout = 0.5)\n",
    "cup4_p3d2_1_2_array = boris.get_behavior_bouts(first10min_p3d2_1_2_df, [1.2], ['sniff cup 4', 'chew cup 4'], min_iti = 2, min_bout = 0.5)\n",
    "cup1_p3d2_1_2_array = boris.get_behavior_bouts(first10min_p3d2_1_2_df, [1.2], ['sniff cup 1', 'chew cup 1'], min_iti = 2, min_bout = 0.5)\n",
    "cup2_p3d2_1_2_array = boris.get_behavior_bouts(first10min_p3d2_1_2_df, [1.2], ['sniff cup 2', 'chew cup 2'], min_iti = 2, min_bout = 0.5)\n",
    "\n",
    "famcup3_p3d2_1_2_array = boris.get_behavior_bouts(familiarization_p3d2_1_2_df, [1.2], ['sniff cup 3', 'chew cup 3', 'sniff cup 1', 'chew cup 1','sniff cup 2', 'chew cup 2'], min_iti = 2, min_bout = 0.5)\n",
    "famfam_p3d2_1_2_array = boris.get_behavior_bouts(familiarization_p3d2_1_2_df, [1.2], ['sniff cup 4', 'chew cup 4'], min_iti = 2, min_bout = 0.5)\n",
    "\n",
    "ITIcup3_p3d2_1_2_array = boris.get_behavior_bouts(ITI_p3d2_1_2_df, [1.2], ['sniff cup 3', 'chew cup 3', 'sniff cup 1', 'chew cup 1','sniff cup 2', 'chew cup 2'], min_iti = 2, min_bout = 0.5)\n",
    "ITIfamcup_p3d2_1_2_array = boris.get_behavior_bouts(ITI_p3d2_1_2_df, [1.2], ['sniff cup 4', 'chew cup 4'], min_iti = 2, min_bout = 0.5)\n"
   ]
  },
  {
   "cell_type": "code",
   "execution_count": 6,
   "metadata": {},
   "outputs": [],
   "source": [
    "p3d2_1_4_df = pd.read_excel(\"D:\\\\social_ephys_pilot2_cum\\\\proc\\\\Phase 3\\\\tester_collection\\\\20230810_140909_1_merged.rec\\\\20230810_140909_1.4_p3d2.xlsx\")\n",
    "\n",
    "p3d2_1_4_df = p3d2_1_4_df[['Total duration', 'Subject','Behavior','Start (s)','Stop (s)']]\n",
    "last10min_p3d2_1_4_df = p3d2_1_4_df[p3d2_1_4_df['Start (s)'] > 1912]\n",
    "first10min_p3d2_1_4_df = p3d2_1_4_df[p3d2_1_4_df['Start (s)'] < 621]\n",
    "familiarization_p3d2_1_4_df = p3d2_1_4_df[(p3d2_1_4_df['Start (s)'] < 1221) & (p3d2_1_4_df['Start (s)'] > 635)]\n",
    "ITI_p3d2_1_4_df = p3d2_1_4_df[(p3d2_1_4_df['Start (s)'] > 1234) & (p3d2_1_4_df['Start (s)'] < 1836)]\n",
    "\n",
    "novel_p3d2_1_4_array = boris.get_behavior_bouts(last10min_p3d2_1_4_df, [1.4], ['sniff cup 4', 'chew cup 4'], min_iti = 2, min_bout = 0.5)\n",
    "fam_p3d2_1_4_array = boris.get_behavior_bouts(last10min_p3d2_1_4_df, [1.4], ['sniff cup 3', 'chew cup 3'], min_iti = 2, min_bout = 0.5)\n",
    "cagemate_p3d2_1_4_array = boris.get_behavior_bouts(last10min_p3d2_1_4_df, [1.4], ['sniff cup 2', 'chew cup 2'], min_iti = 2, min_bout = 0.5)\n",
    "empty_p3d2_1_4_array = boris.get_behavior_bouts(last10min_p3d2_1_4_df, [1.4], ['sniff cup 1', 'chew cup 1'], min_iti = 2, min_bout = 0.5)\n",
    "\n",
    "cup3_p3d2_1_4_array = boris.get_behavior_bouts(first10min_p3d2_1_4_df, [1.4], ['sniff cup 3', 'chew cup 3'], min_iti = 2, min_bout = 0.5)\n",
    "cup4_p3d2_1_4_array = boris.get_behavior_bouts(first10min_p3d2_1_4_df, [1.4], ['sniff cup 4', 'chew cup 4'], min_iti = 2, min_bout = 0.5)\n",
    "cup1_p3d2_1_4_array = boris.get_behavior_bouts(first10min_p3d2_1_4_df, [1.4], ['sniff cup 1', 'chew cup 1'], min_iti = 2, min_bout = 0.5)\n",
    "cup2_p3d2_1_4_array = boris.get_behavior_bouts(first10min_p3d2_1_4_df, [1.4], ['sniff cup 2', 'chew cup 2'], min_iti = 2, min_bout = 0.5)\n",
    "\n",
    "famcup3_p3d2_1_4_array = boris.get_behavior_bouts(familiarization_p3d2_1_4_df, [1.4], ['sniff cup 4', 'chew cup 4', 'sniff cup 1', 'chew cup 1','sniff cup 2', 'chew cup 2'], min_iti = 2, min_bout = 0.5)\n",
    "famfam_p3d2_1_4_array = boris.get_behavior_bouts(familiarization_p3d2_1_4_df, [1.4], ['sniff cup 3', 'chew cup 3'], min_iti = 2, min_bout = 0.5)\n",
    "\n",
    "ITIcup3_p3d2_1_4_array = boris.get_behavior_bouts(ITI_p3d2_1_4_df, [1.4], ['sniff cup 4', 'chew cup 4', 'sniff cup 1', 'chew cup 1','sniff cup 2', 'chew cup 2'], min_iti = 2, min_bout = 0.5)\n",
    "ITIfamcup_p3d2_1_4_array = boris.get_behavior_bouts(ITI_p3d2_1_4_df, [1.4], ['sniff cup 3', 'chew cup 3'], min_iti = 2, min_bout = 0.5)"
   ]
  },
  {
   "cell_type": "code",
   "execution_count": 5,
   "metadata": {},
   "outputs": [],
   "source": [
    "p3d3_1_1_df = pd.read_excel(\"D:\\\\social_ephys_pilot2_cum\\\\proc\\\\Phase 3\\\\tester_collection\\\\20230811_101635_1_merged.rec\\\\1.1_p3d3.xlsx\")\n",
    "\n",
    "p3d3_1_1_df = p3d3_1_1_df[['Total duration', 'Subject','Behavior','Start (s)','Stop (s)']]\n",
    "last10min_1_1_df = p3d3_1_1_df[p3d3_1_1_df['Start (s)'] > 1903]\n",
    "first10min_1_1_df = p3d3_1_1_df[p3d3_1_1_df['Start (s)'] < 601]\n",
    "familiarization_1_1_df = p3d3_1_1_df[(p3d3_1_1_df['Start (s)'] < 1208) & (p3d3_1_1_df['Start (s)'] > 608)]\n",
    "ITI_1_1_df = p3d3_1_1_df[(p3d3_1_1_df['Start (s)'] > 1221) & (p3d3_1_1_df['Start (s)'] < 1809)]\n",
    "novel_1_1_array = boris.get_behavior_bouts(last10min_1_1_df, [1.1], ['sniff cup 3', 'chew cup 3'], min_iti = 2, min_bout = 0.5)\n",
    "fam_1_1_array = boris.get_behavior_bouts(last10min_1_1_df, [1.1], ['sniff cup 4', 'chew cup 4'], min_iti = 2, min_bout = 0.5)\n",
    "cagemate_1_1_array = boris.get_behavior_bouts(last10min_1_1_df, [1.1], ['sniff cup 1', 'chew cup 1'], min_iti = 2, min_bout = 0.5)\n",
    "empty_1_1_array = boris.get_behavior_bouts(last10min_1_1_df, [1.1], ['sniff cup 2', 'chew cup 2'], min_iti = 2, min_bout = 0.5)\n",
    "cup3_1_1_array = boris.get_behavior_bouts(first10min_1_1_df, [1.1], ['sniff cup 3', 'chew cup 3'], min_iti = 2, min_bout = 0.5)\n",
    "cup4_1_1_array = boris.get_behavior_bouts(first10min_1_1_df, [1.1], ['sniff cup 4', 'chew cup 4'], min_iti = 2, min_bout = 0.5)\n",
    "cup1_1_1_array = boris.get_behavior_bouts(first10min_1_1_df, [1.1], ['sniff cup 1', 'chew cup 1'], min_iti = 2, min_bout = 0.5)\n",
    "cup2_1_1_array = boris.get_behavior_bouts(first10min_1_1_df, [1.1], ['sniff cup 2', 'chew cup 2'], min_iti = 2, min_bout = 0.5)\n",
    "famcup3_1_1_array = boris.get_behavior_bouts(familiarization_1_1_df, [1.1], ['sniff cup 3', 'chew cup 3', 'sniff cup 1', 'chew cup 1','sniff cup 2', 'chew cup 2'], min_iti = 2, min_bout = 0.5)\n",
    "famfam_1_1_array = boris.get_behavior_bouts(familiarization_1_1_df, [1.1], ['sniff cup 4', 'chew cup 4'], min_iti = 2, min_bout = 0.5)\n",
    "ITIcup3_1_1_array = boris.get_behavior_bouts(ITI_1_1_df, [1.1], ['sniff cup 3', 'chew cup 3', 'sniff cup 1', 'chew cup 1','sniff cup 2', 'chew cup 2'], min_iti = 2, min_bout = 0.5)\n",
    "ITIfamcup_1_1_array = boris.get_behavior_bouts(ITI_1_1_df, [1.1], ['sniff cup 4', 'chew cup 4'], min_iti = 2, min_bout = 0.5)"
   ]
  },
  {
   "cell_type": "code",
   "execution_count": 20,
   "metadata": {},
   "outputs": [],
   "source": [
    "# 2572320.85 ms is the length of the recording of p3d3_1_2 \n",
    "# media duration of second vid is 862200 ms\n",
    "# diff in ms: 1710120.85\n",
    "#this is the constant i add to every value in the array\n",
    "\n",
    "p3d3_1_2_df1 = pd.read_excel(\"D:\\\\social_ephys_pilot2_cum\\\\proc\\\\Phase 3\\\\20230811_120331_merged.rec\\\\20230811_120331_1.2_p3d3_1.xlsx\")\n",
    "p3d3_1_2_df1 = p3d3_1_2_df1[['Total duration', 'Subject','Behavior','Start (s)','Stop (s)']]\n",
    "first10min_1_2_df = p3d3_1_2_df1[p3d3_1_2_df1['Start (s)'] < 611]\n",
    "familiarization_1_2_df = p3d3_1_2_df1[(p3d3_1_2_df1['Start (s)'] < 1230) & (p3d3_1_2_df1['Start (s)'] > 628)]\n",
    "ITI_1_2_df1 = p3d3_1_2_df1[(p3d3_1_2_df1['Start (s)'] > 1244)]\n",
    "\n",
    "cup3_p3d3_1_2_array = boris.get_behavior_bouts(first10min_1_2_df, [1.2], ['sniff cup 3', 'chew cup 3'], min_iti = 2, min_bout = 0.5)\n",
    "cup4_p3d3_1_2_array = boris.get_behavior_bouts(first10min_1_2_df, [1.2], ['sniff cup 4', 'chew cup 4'], min_iti = 2, min_bout = 0.5)\n",
    "cup1_p3d3_1_2_array = boris.get_behavior_bouts(first10min_1_2_df, [1.2], ['sniff cup 1', 'chew cup 1'], min_iti = 2, min_bout = 0.5)\n",
    "cup2_p3d3_1_2_array = boris.get_behavior_bouts(first10min_1_2_df, [1.2], ['sniff cup 2', 'chew cup 2'], min_iti = 2, min_bout = 0.5)\n",
    "\n",
    "famcup3_p3d3_1_2_array = boris.get_behavior_bouts(familiarization_1_2_df, [1.2], ['sniff cup 3', 'chew cup 3', 'sniff cup 4', 'chew cup 4','sniff cup 2', 'chew cup 2'], min_iti = 2, min_bout = 0.5)\n",
    "famfam_p3d3_1_2_array = boris.get_behavior_bouts(familiarization_1_2_df, [1.2], ['sniff cup 1', 'chew cup 1'], min_iti = 2, min_bout = 0.5)\n",
    "ITIcup3_p3d3_1_2_array1 = boris.get_behavior_bouts(ITI_1_2_df1, [1.2], ['sniff cup 3', 'chew cup 3', 'sniff cup 4', 'chew cup 4','sniff cup 2', 'chew cup 2'], min_iti = 2, min_bout = 0.5)\n",
    "ITIfamcup_p3d3_1_2_array1 = boris.get_behavior_bouts(ITI_1_2_df1, [1.2], ['sniff cup 1', 'chew cup 1'], min_iti = 2, min_bout = 0.5)\n",
    "\n",
    "p3d3_1_2_df2 = pd.read_excel(\"D:\\\\social_ephys_pilot2_cum\\proc\\Phase 3\\\\20230811_120331_merged.rec\\\\20230811_120331_1.2_p3d3_2.xlsx\")\n",
    "p3d3_1_2_df2 = p3d3_1_2_df2[['Total duration', 'Subject','Behavior','Start (s)','Stop (s)']]\n",
    "last10min_1_2_df = p3d3_1_2_df2[p3d3_1_2_df2['Start (s)'] > 2419]\n",
    "ITI_1_2_df2 = p3d3_1_2_df2[(p3d3_1_2_df2['Start (s)'] < 1214)]\n",
    "\n",
    "ITIcup3_p3d3_1_2_array2 = boris.get_behavior_bouts(ITI_1_2_df2, [1.2], ['sniff cup 3', 'chew cup 3', 'sniff cup 4', 'chew cup 4','sniff cup 2', 'chew cup 2'], min_iti = 2, min_bout = 0.5)\n",
    "ITIfamcup_p3d3_1_2_array2 = boris.get_behavior_bouts(ITI_1_2_df2, [1.2], ['sniff cup 1', 'chew cup 1'], min_iti = 2, min_bout = 0.5)\n",
    "\n",
    "novel_p3d3_1_2_array = boris.get_behavior_bouts(last10min_1_2_df, [1.2], ['sniff cup 4', 'chew cup 4'], min_iti = 2, min_bout = 0.5)\n",
    "fam_p3d3_1_2_array = boris.get_behavior_bouts(last10min_1_2_df, [1.2], ['sniff cup 1', 'chew cup 1'], min_iti = 2, min_bout = 0.5)\n",
    "cagemate_p3d3_1_2_array = boris.get_behavior_bouts(last10min_1_2_df, [1.2], ['sniff cup 2', 'chew cup 2'], min_iti = 2, min_bout = 0.5)\n",
    "empty_p3d3_1_2_array = boris.get_behavior_bouts(last10min_1_2_df, [1.2], ['sniff cup 3', 'chew cup 3'], min_iti = 2, min_bout = 0.5)\n",
    "\n",
    "ITIcup3_p3d3_1_2_array2 = ITIcup3_p3d3_1_2_array2 + 1710120.85\n",
    "ITIfamcup_p3d3_1_2_array2 = ITIfamcup_p3d3_1_2_array2 + 1710120.85\n",
    "\n",
    "novel_p3d3_1_2_array = novel_p3d3_1_2_array + 1710120.85\n",
    "fam_p3d3_1_2_array = fam_p3d3_1_2_array + 1710120.85\n",
    "cagemate_p3d3_1_2_array = cagemate_p3d3_1_2_array + 1710120.85\n",
    "empty_p3d3_1_2_array = empty_p3d3_1_2_array + 1710120.85\n",
    "\n",
    "ITIcup3_p3d3_1_2_array = np.concatenate([ITIcup3_p3d3_1_2_array1, ITIcup3_p3d3_1_2_array2])\n",
    "ITIfamcup_p3d3_1_2_array = np.concatenate([ITIfamcup_p3d3_1_2_array1, ITIfamcup_p3d3_1_2_array2])\n",
    "\n"
   ]
  },
  {
   "cell_type": "code",
   "execution_count": null,
   "metadata": {},
   "outputs": [],
   "source": [
    "p3d3_1_4_df = pd.read_excel(\"D:\\\\social_ephys_pilot2_cum\\\\proc\\\\Phase 3\\\\20230811_154219_1_merged.rec\\\\20230811_154219_1.4_3t3bL_p3d3.xlsx\")\n",
    "\n",
    "p3d3_1_4_df = p3d3_1_4_df[['Total duration', 'Subject','Behavior','Start (s)','Stop (s)']]\n",
    "last10min_p3d3_1_4_df = p3d3_1_4_df[p3d3_1_4_df['Start (s)'] > 1912]\n",
    "first10min_p3d3_1_4_df = p3d3_1_4_df[p3d3_1_4_df['Start (s)'] < 621]\n",
    "familiarization_p3d3_1_4_df = p3d3_1_4_df[(p3d3_1_4_df['Start (s)'] < 1221) & (p3d3_1_4_df['Start (s)'] > 635)]\n",
    "ITI_p3d3_1_4_df = p3d3_1_4_df[(p3d3_1_4_df['Start (s)'] > 1234) & (p3d3_1_4_df['Start (s)'] < 1836)]\n",
    "\n",
    "novel_p3d3_1_4_array = boris.get_behavior_bouts(last10min_p3d3_1_4_df, [1.4], ['sniff cup 4', 'chew cup 4'], min_iti = 2, min_bout = 0.5)\n",
    "fam_p3d3_1_4_array = boris.get_behavior_bouts(last10min_p3d3_1_4_df, [1.4], ['sniff cup 3', 'chew cup 3'], min_iti = 2, min_bout = 0.5)\n",
    "cagemate_p3d3_1_4_array = boris.get_behavior_bouts(last10min_p3d3_1_4_df, [1.4], ['sniff cup 2', 'chew cup 2'], min_iti = 2, min_bout = 0.5)\n",
    "empty_p3d3_1_4_array = boris.get_behavior_bouts(last10min_p3d3_1_4_df, [1.4], ['sniff cup 1', 'chew cup 1'], min_iti = 2, min_bout = 0.5)\n",
    "\n",
    "cup3_p3d3_1_4_array = boris.get_behavior_bouts(first10min_p3d3_1_4_df, [1.4], ['sniff cup 3', 'chew cup 3'], min_iti = 2, min_bout = 0.5)\n",
    "cup4_p3d3_1_4_array = boris.get_behavior_bouts(first10min_p3d3_1_4_df, [1.4], ['sniff cup 4', 'chew cup 4'], min_iti = 2, min_bout = 0.5)\n",
    "cup1_p3d3_1_4_array = boris.get_behavior_bouts(first10min_p3d3_1_4_df, [1.4], ['sniff cup 1', 'chew cup 1'], min_iti = 2, min_bout = 0.5)\n",
    "cup2_p3d3_1_4_array = boris.get_behavior_bouts(first10min_p3d3_1_4_df, [1.4], ['sniff cup 2', 'chew cup 2'], min_iti = 2, min_bout = 0.5)\n",
    "\n",
    "famcup3_p3d3_1_4_array = boris.get_behavior_bouts(familiarization_p3d3_1_4_df, [1.4], ['sniff cup 4', 'chew cup 4', 'sniff cup 1', 'chew cup 1','sniff cup 2', 'chew cup 2'], min_iti = 2, min_bout = 0.5)\n",
    "famfam_p3d3_1_4_array = boris.get_behavior_bouts(familiarization_p3d3_1_4_df, [1.4], ['sniff cup 3', 'chew cup 3'], min_iti = 2, min_bout = 0.5)\n",
    "\n",
    "ITIcup3_p3d3_1_4_array = boris.get_behavior_bouts(ITI_p3d3_1_4_df, [1.4], ['sniff cup 4', 'chew cup 4', 'sniff cup 1', 'chew cup 1','sniff cup 2', 'chew cup 2'], min_iti = 2, min_bout = 0.5)\n",
    "ITIfamcup_p3d3_1_4_array = boris.get_behavior_bouts(ITI_p3d3_1_4_df, [1.4], ['sniff cup 3', 'chew cup 3'], min_iti = 2, min_bout = 0.5)"
   ]
  },
  {
   "cell_type": "code",
   "execution_count": 8,
   "metadata": {},
   "outputs": [],
   "source": [
    "\n",
    "events_p3d1_1_1 = {'cup 1': cup1_p3d1_1_1_array, 'cup 2': cup2_p3d1_1_1_array,\n",
    "                   'cup 3': cup3_p3d1_1_1_array,'cup 4': cup4_p3d1_1_1_array,\n",
    "                   'empty cup': famempty_p3d1_1_1_array, 'first fam': famfam_p3d1_1_1_array,\n",
    "                   'empty ITI cup': ITIcup3_p3d1_1_1_array, 'ITI fam cup': ITIfamcup_p3d1_1_1_array,\n",
    "                   'cagemate': cagemate_p3d1_1_1_array, 'empty': empty_p3d1_1_1_array,\n",
    "                   'novel': novel_p3d1_1_1_array, 'familiar': fam_p3d1_1_1_array}\n",
    "events_p3d1_1_4 = {'cup 1': cup1_p3d1_1_4_array, 'cup 2': cup2_p3d1_1_4_array,\n",
    "                   'cup 3': cup3_p3d1_1_4_array,'cup 4': cup4_p3d1_1_4_array,\n",
    "                   'empty cup': famcup3_p3d1_1_4_array, 'first fam': famfam_p3d1_1_4_array,\n",
    "                   'empty ITI cup': ITIcup3_p3d1_1_4_array, 'ITI fam cup': ITIfamcup_p3d1_1_4_array,\n",
    "                   'cagemate': cagemate_p3d1_1_4_array, 'empty': empty_p3d1_1_4_array,\n",
    "                   'novel': novel_p3d1_1_4_array, 'familiar': fam_p3d1_1_4_array}\n",
    "\n",
    "events_p3d2_1_1 = {'cup 1': cup1_p3d2_1_1_array, 'cup 2': cup2_p3d2_1_1_array,\n",
    "                   'cup 3': cup3_p3d2_1_1_array,'cup 4': cup4_p3d2_1_1_array,\n",
    "                   'empty cup': famcup3_p3d2_1_1_array, 'first fam': famfam_p3d2_1_1_array,\n",
    "                   'empty ITI cup': ITIcup3_p3d2_1_1_array, 'ITI fam cup': ITIfamcup_p3d2_1_1_array,\n",
    "                   'cagemate': cagemate_p3d2_1_1_array, 'empty': empty_p3d2_1_1_array,\n",
    "                   'novel': novel_p3d2_1_1_array, 'familiar': fam_p3d2_1_1_array}\n",
    "events_p3d2_1_2 = {'cup 1': cup1_p3d2_1_2_array, 'cup 2': cup2_p3d2_1_2_array,\n",
    "                   'cup 3': cup3_p3d2_1_2_array,'cup 4': cup4_p3d2_1_2_array,\n",
    "                   'empty cup': famcup3_p3d2_1_2_array, 'first fam': famfam_p3d2_1_2_array,\n",
    "                   'empty ITI cup': ITIcup3_p3d2_1_2_array, 'ITI fam cup': ITIfamcup_p3d2_1_2_array,\n",
    "                   'cagemate': cagemate_p3d2_1_2_array, 'empty': empty_p3d2_1_2_array,\n",
    "                   'novel': novel_p3d2_1_2_array, 'familiar': fam_p3d2_1_2_array}\n",
    "events_p3d2_1_4 = {'cup 1': cup1_p3d2_1_4_array, 'cup 2': cup2_p3d2_1_4_array,\n",
    "                   'cup 3': cup3_p3d2_1_4_array,'cup 4': cup4_p3d2_1_4_array,\n",
    "                   'empty cup': famcup3_p3d2_1_4_array, 'first fam': famfam_p3d2_1_4_array,\n",
    "                   'empty ITI cup': ITIcup3_p3d2_1_4_array, 'ITI fam cup': ITIfamcup_p3d2_1_4_array,\n",
    "                   'cagemate': cagemate_p3d2_1_4_array, 'empty': empty_p3d2_1_4_array,\n",
    "                   'novel': novel_p3d2_1_4_array, 'familiar': fam_p3d2_1_4_array}\n",
    "\n",
    "events_p3d3_1_1 = { 'cup 1':cup1_1_1_array, 'cup 2':cup2_1_1_array, \n",
    "                   'cup 3':cup3_1_1_array, 'cup 4': cup4_1_1_array, \n",
    "                   'empty cup':famcup3_1_1_array, 'first fam': famfam_1_1_array,  \n",
    "                   'empty ITI cup': ITIcup3_1_1_array, 'ITI fam cup':ITIfamcup_1_1_array, \n",
    "                   'cagemate':cagemate_1_1_array,'empty':empty_1_1_array,\n",
    "                   'novel':novel_1_1_array,'familiar':fam_1_1_array}\n",
    "events_p3d3_1_2 = {'cup 1': cup1_p3d3_1_2_array, 'cup 2': cup2_p3d3_1_2_array,\n",
    "                   'cup 3': cup3_p3d3_1_2_array,'cup 4': cup4_p3d3_1_2_array,\n",
    "                   'empty cup': famcup3_p3d3_1_2_array, 'first fam': famfam_p3d3_1_2_array,\n",
    "                   'empty ITI cup': ITIcup3_p3d3_1_2_array, 'ITI fam cup': ITIfamcup_p3d3_1_2_array,\n",
    "                   'cagemate': cagemate_p3d3_1_2_array, 'empty': empty_p3d3_1_2_array,\n",
    "                   'novel': novel_p3d3_1_2_array, 'familiar': fam_p3d3_1_2_array}\n",
    "events_p3d3_1_4 = {'cup 1': cup1_p3d3_1_4_array, 'cup 2': cup2_p3d3_1_4_array,\n",
    "                   'cup 3': cup3_p3d3_1_4_array,'cup 4': cup4_p3d3_1_4_array,\n",
    "                   'empty cup': famcup3_p3d3_1_4_array, 'first fam': famfam_p3d3_1_4_array,\n",
    "                   'empty ITI cup': ITIcup3_p3d3_1_4_array, 'ITI fam cup': ITIfamcup_p3d3_1_4_array,\n",
    "                   'cagemate': cagemate_p3d3_1_4_array, 'empty': empty_p3d3_1_4_array,\n",
    "                   'novel': novel_p3d3_1_4_array, 'familiar': fam_p3d3_1_4_array}\n"
   ]
  },
  {
   "cell_type": "code",
   "execution_count": null,
   "metadata": {},
   "outputs": [],
   "source": [
    "p3d1_1_4.event_dict = events_p3d1_1_4\n",
    "p3d1_1_1.event_dict = events_p3d1_1_1\n",
    "p3d3_1_1.event_dict = events_p3d3_1_1\n",
    "p3d2_1_1.event_dict = events_p3d2_1_1\n",
    "p3d2_1_2.event_dict = events_p3d2_1_2\n",
    "p3d2_1_4.event_dict = events_p3d2_1_4\n"
   ]
  },
  {
   "cell_type": "code",
   "execution_count": 4,
   "metadata": {},
   "outputs": [
    {
     "name": "stdout",
     "output_type": "stream",
     "text": [
      "These recordings are missing event dictionaries: ['20230809_103121_1_merged.rec', '20230809_120416_1_merged.rec', '20230809_143303_1_merged.rec', '20230810_101534_1_merged.rec', '20230810_120856_1_merged.rec', '20230810_140909_1_merged.rec', '20230811_101635_1_merged.rec', '20230811_120331_merged.rec', '20230811_154219_1_merged.rec']\n",
      "These recordings are missing subjects: ['20230809_103121_1_merged.rec', '20230809_120416_1_merged.rec', '20230809_143303_1_merged.rec', '20230810_101534_1_merged.rec', '20230810_120856_1_merged.rec', '20230810_140909_1_merged.rec', '20230811_101635_1_merged.rec', '20230811_120331_merged.rec', '20230811_154219_1_merged.rec']\n"
     ]
    }
   ],
   "source": [
    "phase3_analysis = spike.SpikeAnalysis_MultiRecording(phase3_collection, 100, 100, 0.5)"
   ]
  },
  {
   "cell_type": "code",
   "execution_count": null,
   "metadata": {},
   "outputs": [],
   "source": []
  }
 ],
 "metadata": {
  "kernelspec": {
   "display_name": "ephys_analysis",
   "language": "python",
   "name": "python3"
  },
  "language_info": {
   "codemirror_mode": {
    "name": "ipython",
    "version": 3
   },
   "file_extension": ".py",
   "mimetype": "text/x-python",
   "name": "python",
   "nbconvert_exporter": "python",
   "pygments_lexer": "ipython3",
   "version": "3.10.9"
  },
  "orig_nbformat": 4
 },
 "nbformat": 4,
 "nbformat_minor": 2
}
