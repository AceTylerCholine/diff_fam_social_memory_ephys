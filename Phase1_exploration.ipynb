{
 "cells": [
  {
   "cell_type": "code",
   "execution_count": 1,
   "metadata": {},
   "outputs": [],
   "source": [
    "import pickle\n",
    "import boris_extraction as boris\n",
    "import multirecording_spikeanalysis as spike\n",
    "import pandas as pd\n",
    "import numpy as np\n",
    "import os"
   ]
  },
  {
   "cell_type": "code",
   "execution_count": 249,
   "metadata": {},
   "outputs": [],
   "source": [
    "\n",
    "def p2_create_array(boris_df, times, order, min_iti, min_bout, baseline = True):\n",
    "    familiarization_df = boris_df[(boris_df['Start (s)'] < times[0])]\n",
    "    baseline_df = boris_df[(boris_df['Start (s)'] > times[1]) & (boris_df['Start (s)'] < times[2])]\n",
    "    if order[0] == 'familiar':\n",
    "        recall_df = boris_df[(boris_df['Start (s)'] > times[3]) & (boris_df['Start (s)'] < times[4])]\n",
    "    if order[0] == 'cagemate':\n",
    "        cagemate_df = boris_df[(boris_df['Start (s)'] > times[3]) & (boris_df['Start (s)'] < times[4])]\n",
    "    if order[0] == 'novel':\n",
    "        novel_df = boris_df[(boris_df['Start (s)'] > times[3]) & (boris_df['Start (s)'] < times[4])]\n",
    "    if order[1] == 'familiar':\n",
    "        recall_df = boris_df[(boris_df['Start (s)'] > times[5]) & (boris_df['Start (s)'] < times[6])]\n",
    "    if order[1] == 'cagemate':\n",
    "        cagemate_df = boris_df[(boris_df['Start (s)'] > times[5]) & (boris_df['Start (s)'] < times[6])]\n",
    "    if order[1] == 'novel':\n",
    "        novel_df = boris_df[(boris_df['Start (s)'] > times[5]) & (boris_df['Start (s)'] < times[6])]\n",
    "    if order[2] == 'familiar':\n",
    "        recall_df = boris_df[boris_df['Start (s)'] > times[7]]\n",
    "    if order[2] == 'novel':\n",
    "        novel_df = boris_df[boris_df['Start (s)'] > times[7]]\n",
    "    if order[2] == 'cagemate':\n",
    "        cagemate_df = boris_df[boris_df['Start (s)'] > times[7]]\n",
    "    \n",
    "\n",
    "    acquisition_array = boris.get_behavior_bouts(familiarization_df, ['subject'], ['face sniffing', 'anogential sniffing'], min_iti, min_bout)\n",
    "    recall_array = boris.get_behavior_bouts(recall_df, ['subject'], ['face sniffing', 'anogential sniffing'], min_iti, min_bout)\n",
    "    cagemate_array = boris.get_behavior_bouts(cagemate_df, ['subject'], ['face sniffing', 'anogential sniffing'], min_iti, min_bout)\n",
    "    novel_array = boris.get_behavior_bouts(novel_df, ['subject'], ['face sniffing', 'anogential sniffing'], min_iti, min_bout)\n",
    "    if baseline:\n",
    "        baseline_array = acquisition_array + 60000\n",
    "        return [acquisition_array, recall_array, cagemate_array, novel_array, baseline_array]\n",
    "    else:\n",
    "        return [acquisition_array, recall_array, cagemate_array, novel_array]\n",
    "\n",
    "def p2_make_assignment(recording, subject, event_arrays, baseline= True):\n",
    "    if baseline:\n",
    "        event_dict = {'acquisition': event_arrays[0], 'recall':event_arrays[1], 'cagemate':event_arrays[2], 'novel': event_arrays[3], 'baseline':event_arrays[4]}\n",
    "    else:\n",
    "        event_dict = {'acquisition': event_arrays[0], 'recall':event_arrays[1], 'cagemate':event_arrays[2], 'novel': event_arrays[3]}\n",
    "    recording.event_dict = event_dict\n",
    "    recording.subject = subject\n",
    "\n",
    "def p2_camera_crash(boris_df1, boris_df2, times1, times2, order, media_duration, last_timestamp, min_iti, min_bout, baseline = True):\n",
    "    array_1 = p2_create_array(boris_df1, times1, order, min_iti, min_bout, baseline)\n",
    "    array_2 = p2_create_array(boris_df2, times2, order, min_iti, min_bout, baseline)\n",
    "    diff = (last_timestamp / 20000 * 1000) - (media_duration)\n",
    "    final_arrays = []\n",
    "    for i in range(len(array_1)):\n",
    "        array_2[i] = array_2[i] + diff\n",
    "        new_array = np.concatenate([array_1[i], array_2[i]])\n",
    "        final_arrays.append(new_array)\n",
    "    return final_arrays\n",
    "    \n",
    "       \n",
    "      \n",
    "   "
   ]
  },
  {
   "cell_type": "markdown",
   "metadata": {},
   "source": [
    "phase2_collection = spike.EphysRecordingCollection(\"D:\\\\social_ephys_pilot2_cum\\\\proc\\\\Phase 2\")\n",
    "with open('phase2_collection.pkl','wb') as file:\n",
    "    pickle.dump(phase2_collection, file)"
   ]
  },
  {
   "cell_type": "code",
   "execution_count": 250,
   "metadata": {},
   "outputs": [
    {
     "data": {
      "text/plain": [
       "dict_keys(['20230803_101331_1_merged.rec', '20230803_121318_1_merged.rec', '20230803_141047_1_merged.rec', '20230804_121600_1_merged.rec', '20230804_141009_1_merged.rec', '20230817_100823_1_merged.rec', '20230817_113746_1_merged.rec', '20230818_115728_1_merged.rec', '20230818_133620_1_merged.rec'])"
      ]
     },
     "execution_count": 250,
     "metadata": {},
     "output_type": "execute_result"
    }
   ],
   "source": [
    "with open('phase2_collection.pkl', 'rb') as file:\n",
    "    phase2_collection = pickle.load(file)\n",
    "phase2_collection.collection.keys()"
   ]
  },
  {
   "cell_type": "code",
   "execution_count": 251,
   "metadata": {},
   "outputs": [],
   "source": [
    "phase2_collection.collection.keys()\n",
    "FCN_1_1 = phase2_collection.get_by_name('20230803_101331_1_merged.rec')\n",
    "CNF_1_1 = phase2_collection.get_by_name('20230817_100823_1_merged.rec')\n",
    "NFC_1_1 = phase2_collection.get_by_name('20230818_115728_1_merged.rec')\n",
    "\n",
    "NFC_1_2 = phase2_collection.get_by_name('20230804_141009_1_merged.rec')\n",
    "FCN_1_2 = phase2_collection.get_by_name('20230817_113746_1_merged.rec')\n",
    "CNF_1_2 = phase2_collection.get_by_name('20230803_141047_1_merged.rec')\n",
    "                                        \n",
    "FCN_1_4 = phase2_collection.get_by_name('20230804_121600_1_merged.rec')\n",
    "NFC_1_4 = phase2_collection.get_by_name('20230803_121318_1_merged.rec')\n",
    "CNF_1_4 = phase2_collection.get_by_name('20230818_133620_1_merged.rec')\n"
   ]
  },
  {
   "cell_type": "code",
   "execution_count": 252,
   "metadata": {},
   "outputs": [],
   "source": [
    "#ONE VIDEO\n",
    "#20230817_100823_1.1_CNF\n",
    "CNF_1_1_boris_df = pd.read_excel(\"D:\\\\social_ephys_pilot2_cum\\\\proc\\\\Phase 2\\\\20230817_100823_1_merged.rec\\\\20230817_100823_1.1_CNF.xlsx\")\n",
    "times_CNF_1_1 = [630, 633, 1226, 1228, 1526, 1531, 1828, 1832]\n",
    "order_CNF_1_1 = ['cagemate', 'novel', 'familiar']\n",
    "\n",
    "CNF_1_1_arrays = p2_create_array(CNF_1_1_boris_df, times_CNF_1_1, order_CNF_1_1, 2, 0.5)\n",
    "p2_make_assignment(CNF_1_1, '1.1', CNF_1_1_arrays)\n",
    "\n",
    "#TWO VIDEOS\n",
    "#20230803_101331_1_FCN_1\n",
    "FCN_1_1_1_boris_df = pd.read_excel(\"D:\\\\social_ephys_pilot2_cum\\\\proc\\\\Phase 2\\\\20230803_101331_1_merged.rec\\\\20230803 101331 1.1.xlsx\")\n",
    "FCN_1_1_2_boris_df = pd.read_excel(\"D:\\\\social_ephys_pilot2_cum\\\\proc\\Phase 2\\\\20230803_101331_1_merged.rec\\\\20230803 101331 1.2.xlsx\")\n",
    "times_FCN_1_1_1 = [599, 603, 821, 0, 0, 0, 0, 0]\n",
    "times_FCN_1_1_2 = [0, 0, 374, 377, 671, 677, 970, 976]\n",
    "order_FCN_1_1 = ['familiar', 'cagemate', 'novel']\n",
    "FCN_1_1_media_duration = 1290.567 * 1000\n",
    "FCN_1_1_last_timestamp = FCN_1_1.timestamps_var[-1]\n",
    "\n",
    "FCN_1_1_arrays = p2_camera_crash(FCN_1_1_1_boris_df, FCN_1_1_2_boris_df, times_FCN_1_1_1, times_FCN_1_1_2, order_FCN_1_1, FCN_1_1_media_duration, FCN_1_1_last_timestamp, 2, 0.5)\n",
    "p2_make_assignment(FCN_1_1, '1.1', FCN_1_1_arrays)\n",
    "\n",
    "#20230818_115728_1.1_NFC\n",
    "NFC_1_1_1_boris_df = pd.read_excel(\"D:\\\\social_ephys_pilot2_cum\\\\proc\\\\Phase 2\\\\20230818_115728_1_merged.rec\\\\20230818 115728 1.1.xlsx\")\n",
    "NFC_1_1_2_boris_df = pd.read_excel(\"D:\\\\social_ephys_pilot2_cum\\\\proc\\\\Phase 2\\\\20230818_115728_1_merged.rec\\\\20230818 115728 1.2.xlsx\")\n",
    "times_NFC_1_1_1 = [111, 0, 0, 0, 0, 0, 0, 0, 0]\n",
    "times_NFC_1_1_2 = [527, 533, 1147, 1151, 1446, 1454, 1754, 1762]\n",
    "order_NFC_1_1 = ['novel', 'familiar', 'cagemate']\n",
    "NFC_1_1_media_duration = 2059.6 * 1000\n",
    "NFC_1_1_last_timestamp = NFC_1_1.timestamps_var[-1]\n",
    "\n",
    "NFC_1_1_arrays = p2_camera_crash(NFC_1_1_1_boris_df, NFC_1_1_2_boris_df, times_NFC_1_1_1, times_NFC_1_1_2, order_NFC_1_1, NFC_1_1_media_duration, NFC_1_1_last_timestamp, 2, 0.5)\n",
    "p2_make_assignment(NFC_1_1, '1.1', NFC_1_1_arrays)\n",
    "\n",
    "\n",
    "#20230704_141009_1.2_NFC8\n",
    "NFC_1_2_boris_df = pd.read_excel(\"D:\\\\social_ephys_pilot2_cum\\\\proc\\\\Phase 2\\\\20230804_141009_1_merged.rec\\\\20230804_141009_1.2_2t2bL_NFC.xlsx\")\n",
    "times_NFC_1_2 = [600, 606, 1199, 1202, 1500, 1508, 1800, 1806]\n",
    "order_NFC_1_2 = ['novel', 'familiar', 'cagemate']\n",
    "\n",
    "NFC_1_2_arrays = p2_create_array(NFC_1_2_boris_df, times_NFC_1_2, order_NFC_1_2, 2, 0.5)\n",
    "p2_make_assignment(NFC_1_2, '1.2', NFC_1_2_arrays)\n",
    "\n",
    "\n",
    "#20230817_113746_1.2_FCN\n",
    "FCN_1_2_boris_df = pd.read_excel(\"D:\\\\social_ephys_pilot2_cum\\\\proc\\\\Phase 2\\\\20230817_113746_1_merged.rec\\\\20230817_113746_1.2_2t2bL_FCN.xlsx\")\n",
    "times_FCN_1_2 = [599, 604, 1200, 1203, 1499, 1506, 1811, 1817]\n",
    "order_FCN_1_2 = ['familiar', 'cagemate', 'novel']\n",
    "\n",
    "FCN_1_2_arrays = p2_create_array(FCN_1_2_boris_df, times_FCN_1_2, order_FCN_1_2, 2, 0.5)\n",
    "p2_make_assignment(FCN_1_2, '1.2', FCN_1_2_arrays)\n",
    "\n",
    "#20230803_141047_1.2_CNF\n",
    "CNF_1_2_boris_df = pd.read_excel(\"D:\\\\social_ephys_pilot2_cum\\\\proc\\\\Phase 2\\\\20230803_141047_1_merged.rec\\\\20230803 _ 141047 _1.2 2t2bL CNF .xlsx\")\n",
    "times_CNF_1_2 = [600, 605, 1200, 1203, 1500, 1506, 1800, 1806]\n",
    "order_CNF_1_2 = ['cagemate', 'novel', 'familiar']\n",
    "\n",
    "CNF_1_2_arrays = p2_create_array(CNF_1_2_boris_df, times_CNF_1_2, order_CNF_1_2, 2, 0.5)\n",
    "p2_make_assignment(CNF_1_2, '1.2', CNF_1_2_arrays)\n",
    "\n",
    "#20230804_121600_1.4_FCN\n",
    "FCN_1_4_boris_df = pd.read_excel(\"D:\\\\social_ephys_pilot2_cum\\\\proc\\\\Phase 2\\\\20230804_121600_1_merged.rec\\\\20230804_121600_1.4_3t3bL_FCN.xlsx\")\n",
    "times_FCN_1_4 = [600, 607, 1203, 1206, 1499, 1505, 1799, 1807]\n",
    "order_FCN_1_4 = ['familiar', 'cagemate', 'novel']\n",
    "\n",
    "FCN_1_4_arrays = p2_create_array(FCN_1_4_boris_df, times_FCN_1_4, order_FCN_1_4, 2, 0.5)\n",
    "p2_make_assignment(FCN_1_4, '1.4', FCN_1_4_arrays)\n",
    "\n",
    "#20230818_133620_1.4_CNF\n",
    "CNF_1_4_boris_df = pd.read_excel(\"D:\\\\social_ephys_pilot2_cum\\\\proc\\\\Phase 2\\\\20230818_133620_1_merged.rec\\\\20230818_133620_1.4_3t3bL_CNF.xlsx\")\n",
    "times_CNF_1_4 = [599, 605, 1158, 1202, 1497, 1503, 1800, 1806]\n",
    "order_CNF_1_4 = ['cagemate', 'familiar', 'novel']\n",
    "\n",
    "CNF_1_4_arrays = p2_create_array(CNF_1_4_boris_df, times_CNF_1_4, order_CNF_1_4, 2, 0.5)\n",
    "p2_make_assignment(CNF_1_4, '1.4', CNF_1_4_arrays)\n",
    "\n",
    "\n",
    "#20230803_121318_1.4_NFC\n",
    "NFC_1_4_1_boris_df = pd.read_excel(\"D:\\\\social_ephys_pilot2_cum\\\\proc\\\\Phase 2\\\\20230803_121318_1_merged.rec\\\\20230803 121318 1.1.xlsx\")\n",
    "NFC_1_4_2_boris_df = pd.read_excel(\"D:\\\\social_ephys_pilot2_cum\\\\proc\\\\Phase 2\\\\20230803_121318_1_merged.rec\\\\20230803 121318 1.2.xlsx\")\n",
    "times_NFC_1_4_1 = [599, 604, 1021, 0, 0, 0, 0, 0]\n",
    "times_NFC_1_4_2 =  [0, 0, 50, 53, 347, 354, 650, 656]\n",
    "order_NFC_1_4 = ['novel', 'familiar', 'cagemate']\n",
    "NFC_1_4_media_duration = 951.633 * 1000\n",
    "NFC_1_4_last_timestamp = NFC_1_4.timestamps_var[-1]\n",
    "\n",
    "NFC_1_4_arrays = p2_camera_crash(NFC_1_4_1_boris_df, NFC_1_4_2_boris_df, times_NFC_1_4_1, times_NFC_1_4_2, order_NFC_1_4, NFC_1_4_media_duration, NFC_1_4_last_timestamp, 2, 0.5)\n",
    "p2_make_assignment(NFC_1_4, '1.4', NFC_1_4_arrays)\n",
    "\n",
    "\n"
   ]
  },
  {
   "cell_type": "code",
   "execution_count": 253,
   "metadata": {},
   "outputs": [
    {
     "name": "stdout",
     "output_type": "stream",
     "text": [
      "All set to analyze\n"
     ]
    }
   ],
   "source": [
    "phase2_analysis = spike.SpikeAnalysis_MultiRecording(phase2_collection, 100, 50, 0.5)\n"
   ]
  },
  {
   "cell_type": "code",
   "execution_count": 275,
   "metadata": {},
   "outputs": [
    {
     "data": {
      "image/png": "[encoded data removed]",
      "text/plain": [
       "<Figure size 640x480 with 1 Axes>"
      ]
     },
     "metadata": {},
     "output_type": "display_data"
    }
   ],
   "source": [
    "phase2_analysis.PCA_trajectories(3, 2, d = 3, events = ['acquisition', 'recall', 'novel', 'cagemate'])"
   ]
  },
  {
   "cell_type": "code",
   "execution_count": 279,
   "metadata": {},
   "outputs": [
    {
     "data": {
      "image/png": "[encoded data removed]",
      "text/plain": [
       "<Figure size 640x480 with 1 Axes>"
      ]
     },
     "metadata": {},
     "output_type": "display_data"
    }
   ],
   "source": [
    "phase2_analysis.PCA_trajectories(3, 2, d = 3, azim=10, elev=80)"
   ]
  },
  {
   "cell_type": "code",
   "execution_count": 278,
   "metadata": {},
   "outputs": [
    {
     "data": {
      "image/png": "[encoded data removed]",
      "text/plain": [
       "<Figure size 640x480 with 1 Axes>"
      ]
     },
     "metadata": {},
     "output_type": "display_data"
    }
   ],
   "source": [
    "phase2_analysis.PCA_trajectories(3, 2)"
   ]
  },
  {
   "cell_type": "code",
   "execution_count": 257,
   "metadata": {},
   "outputs": [],
   "source": [
    "for event in ['acquisition', 'recall', 'novel', 'cagemate']:    \n",
    "    phase2_analysis.wilcox_event_v_event_collection(event, 'baseline', 3, 2, plot = False, save = True)\n",
    "\n"
   ]
  },
  {
   "cell_type": "code",
   "execution_count": 9,
   "metadata": {},
   "outputs": [
    {
     "name": "stderr",
     "output_type": "stream",
     "text": [
      "c:\\Users\\megha\\anaconda3\\envs\\ephys_analysis\\lib\\site-packages\\scipy\\stats\\_morestats.py:3428: UserWarning: Sample size too small for normal approximation.\n",
      "  warnings.warn(\"Sample size too small for normal approximation.\")\n",
      "c:\\Users\\megha\\anaconda3\\envs\\ephys_analysis\\lib\\site-packages\\scipy\\stats\\_morestats.py:3428: UserWarning: Sample size too small for normal approximation.\n",
      "  warnings.warn(\"Sample size too small for normal approximation.\")\n",
      "c:\\Users\\megha\\anaconda3\\envs\\ephys_analysis\\lib\\site-packages\\scipy\\stats\\_morestats.py:3428: UserWarning: Sample size too small for normal approximation.\n",
      "  warnings.warn(\"Sample size too small for normal approximation.\")\n",
      "c:\\Users\\megha\\anaconda3\\envs\\ephys_analysis\\lib\\site-packages\\scipy\\stats\\_morestats.py:3428: UserWarning: Sample size too small for normal approximation.\n",
      "  warnings.warn(\"Sample size too small for normal approximation.\")\n",
      "c:\\Users\\megha\\anaconda3\\envs\\ephys_analysis\\lib\\site-packages\\scipy\\stats\\_morestats.py:3428: UserWarning: Sample size too small for normal approximation.\n",
      "  warnings.warn(\"Sample size too small for normal approximation.\")\n",
      "c:\\Users\\megha\\anaconda3\\envs\\ephys_analysis\\lib\\site-packages\\scipy\\stats\\_morestats.py:3428: UserWarning: Sample size too small for normal approximation.\n",
      "  warnings.warn(\"Sample size too small for normal approximation.\")\n",
      "c:\\Users\\megha\\anaconda3\\envs\\ephys_analysis\\lib\\site-packages\\scipy\\stats\\_morestats.py:3428: UserWarning: Sample size too small for normal approximation.\n",
      "  warnings.warn(\"Sample size too small for normal approximation.\")\n",
      "c:\\Users\\megha\\anaconda3\\envs\\ephys_analysis\\lib\\site-packages\\scipy\\stats\\_morestats.py:3428: UserWarning: Sample size too small for normal approximation.\n",
      "  warnings.warn(\"Sample size too small for normal approximation.\")\n"
     ]
    },
    {
     "data": {
      "text/plain": [
       "(0.6706495098039216, 0.4270494022114163, [[11, 204], [16, 199]])"
      ]
     },
     "execution_count": 9,
     "metadata": {},
     "output_type": "execute_result"
    }
   ],
   "source": [
    "phase2_analysis.fishers_exact_wilcox('novel', 'cagemate', 5, 2, save = True)"
   ]
  },
  {
   "cell_type": "code",
   "execution_count": 10,
   "metadata": {},
   "outputs": [
    {
     "data": {
      "text/plain": [
       "(1.593688362919132, 0.2768895587963544, [[20, 195], [13, 202]])"
      ]
     },
     "execution_count": 10,
     "metadata": {},
     "output_type": "execute_result"
    }
   ],
   "source": [
    "phase2_analysis.fishers_exact_wilcox('novel', 'cagemate', 3, 2, save = True)\n"
   ]
  },
  {
   "cell_type": "code",
   "execution_count": 11,
   "metadata": {},
   "outputs": [
    {
     "name": "stderr",
     "output_type": "stream",
     "text": [
      "c:\\Users\\megha\\anaconda3\\envs\\ephys_analysis\\lib\\site-packages\\scipy\\stats\\_morestats.py:3428: UserWarning: Sample size too small for normal approximation.\n",
      "  warnings.warn(\"Sample size too small for normal approximation.\")\n",
      "c:\\Users\\megha\\anaconda3\\envs\\ephys_analysis\\lib\\site-packages\\scipy\\stats\\_morestats.py:3428: UserWarning: Sample size too small for normal approximation.\n",
      "  warnings.warn(\"Sample size too small for normal approximation.\")\n",
      "c:\\Users\\megha\\anaconda3\\envs\\ephys_analysis\\lib\\site-packages\\scipy\\stats\\_morestats.py:3428: UserWarning: Sample size too small for normal approximation.\n",
      "  warnings.warn(\"Sample size too small for normal approximation.\")\n",
      "c:\\Users\\megha\\anaconda3\\envs\\ephys_analysis\\lib\\site-packages\\scipy\\stats\\_morestats.py:3428: UserWarning: Sample size too small for normal approximation.\n",
      "  warnings.warn(\"Sample size too small for normal approximation.\")\n",
      "c:\\Users\\megha\\anaconda3\\envs\\ephys_analysis\\lib\\site-packages\\scipy\\stats\\_morestats.py:3428: UserWarning: Sample size too small for normal approximation.\n",
      "  warnings.warn(\"Sample size too small for normal approximation.\")\n",
      "c:\\Users\\megha\\anaconda3\\envs\\ephys_analysis\\lib\\site-packages\\scipy\\stats\\_morestats.py:3428: UserWarning: Sample size too small for normal approximation.\n",
      "  warnings.warn(\"Sample size too small for normal approximation.\")\n"
     ]
    },
    {
     "data": {
      "text/plain": [
       "(0.5156818575636805, 0.057715781437909675, [[16, 199], [29, 186]])"
      ]
     },
     "execution_count": 11,
     "metadata": {},
     "output_type": "execute_result"
    }
   ],
   "source": [
    "phase2_analysis.fishers_exact_wilcox('recall', 'acquisition', 5, 2, save = True)"
   ]
  },
  {
   "cell_type": "code",
   "execution_count": 12,
   "metadata": {},
   "outputs": [
    {
     "name": "stderr",
     "output_type": "stream",
     "text": [
      "c:\\Users\\megha\\anaconda3\\envs\\ephys_analysis\\lib\\site-packages\\scipy\\stats\\_morestats.py:3428: UserWarning: Sample size too small for normal approximation.\n",
      "  warnings.warn(\"Sample size too small for normal approximation.\")\n",
      "c:\\Users\\megha\\anaconda3\\envs\\ephys_analysis\\lib\\site-packages\\scipy\\stats\\_morestats.py:3428: UserWarning: Sample size too small for normal approximation.\n",
      "  warnings.warn(\"Sample size too small for normal approximation.\")\n",
      "c:\\Users\\megha\\anaconda3\\envs\\ephys_analysis\\lib\\site-packages\\scipy\\stats\\_morestats.py:3428: UserWarning: Sample size too small for normal approximation.\n",
      "  warnings.warn(\"Sample size too small for normal approximation.\")\n",
      "c:\\Users\\megha\\anaconda3\\envs\\ephys_analysis\\lib\\site-packages\\scipy\\stats\\_morestats.py:3428: UserWarning: Sample size too small for normal approximation.\n",
      "  warnings.warn(\"Sample size too small for normal approximation.\")\n",
      "c:\\Users\\megha\\anaconda3\\envs\\ephys_analysis\\lib\\site-packages\\scipy\\stats\\_morestats.py:3428: UserWarning: Sample size too small for normal approximation.\n",
      "  warnings.warn(\"Sample size too small for normal approximation.\")\n",
      "c:\\Users\\megha\\anaconda3\\envs\\ephys_analysis\\lib\\site-packages\\scipy\\stats\\_morestats.py:3428: UserWarning: Sample size too small for normal approximation.\n",
      "  warnings.warn(\"Sample size too small for normal approximation.\")\n",
      "c:\\Users\\megha\\anaconda3\\envs\\ephys_analysis\\lib\\site-packages\\scipy\\stats\\_morestats.py:3428: UserWarning: Sample size too small for normal approximation.\n",
      "  warnings.warn(\"Sample size too small for normal approximation.\")\n"
     ]
    },
    {
     "data": {
      "text/plain": [
       "(0.4663541092112521, 0.014291537472534355, [[19, 196], [37, 178]])"
      ]
     },
     "execution_count": 12,
     "metadata": {},
     "output_type": "execute_result"
    }
   ],
   "source": [
    "phase2_analysis.fishers_exact_wilcox('recall', 'acquisition', 2, 2, save = True)"
   ]
  },
  {
   "cell_type": "code",
   "execution_count": 13,
   "metadata": {},
   "outputs": [
    {
     "name": "stderr",
     "output_type": "stream",
     "text": [
      "c:\\Users\\megha\\anaconda3\\envs\\ephys_analysis\\lib\\site-packages\\scipy\\stats\\_morestats.py:3428: UserWarning: Sample size too small for normal approximation.\n",
      "  warnings.warn(\"Sample size too small for normal approximation.\")\n",
      "c:\\Users\\megha\\anaconda3\\envs\\ephys_analysis\\lib\\site-packages\\scipy\\stats\\_morestats.py:3428: UserWarning: Sample size too small for normal approximation.\n",
      "  warnings.warn(\"Sample size too small for normal approximation.\")\n",
      "c:\\Users\\megha\\anaconda3\\envs\\ephys_analysis\\lib\\site-packages\\scipy\\stats\\_morestats.py:3428: UserWarning: Sample size too small for normal approximation.\n",
      "  warnings.warn(\"Sample size too small for normal approximation.\")\n",
      "c:\\Users\\megha\\anaconda3\\envs\\ephys_analysis\\lib\\site-packages\\scipy\\stats\\_morestats.py:3428: UserWarning: Sample size too small for normal approximation.\n",
      "  warnings.warn(\"Sample size too small for normal approximation.\")\n",
      "c:\\Users\\megha\\anaconda3\\envs\\ephys_analysis\\lib\\site-packages\\scipy\\stats\\_morestats.py:3428: UserWarning: Sample size too small for normal approximation.\n",
      "  warnings.warn(\"Sample size too small for normal approximation.\")\n",
      "c:\\Users\\megha\\anaconda3\\envs\\ephys_analysis\\lib\\site-packages\\scipy\\stats\\_morestats.py:3428: UserWarning: Sample size too small for normal approximation.\n",
      "  warnings.warn(\"Sample size too small for normal approximation.\")\n"
     ]
    },
    {
     "data": {
      "text/plain": [
       "(0.4934164934164934, 0.022244289085416858, [[20, 195], [37, 178]])"
      ]
     },
     "execution_count": 13,
     "metadata": {},
     "output_type": "execute_result"
    }
   ],
   "source": [
    "phase2_analysis.fishers_exact_wilcox('novel', 'acquisition', 2, 2, save = True)"
   ]
  },
  {
   "cell_type": "code",
   "execution_count": 14,
   "metadata": {},
   "outputs": [
    {
     "name": "stderr",
     "output_type": "stream",
     "text": [
      "c:\\Users\\megha\\anaconda3\\envs\\ephys_analysis\\lib\\site-packages\\scipy\\stats\\_morestats.py:3428: UserWarning: Sample size too small for normal approximation.\n",
      "  warnings.warn(\"Sample size too small for normal approximation.\")\n",
      "c:\\Users\\megha\\anaconda3\\envs\\ephys_analysis\\lib\\site-packages\\scipy\\stats\\_morestats.py:3428: UserWarning: Sample size too small for normal approximation.\n",
      "  warnings.warn(\"Sample size too small for normal approximation.\")\n",
      "c:\\Users\\megha\\anaconda3\\envs\\ephys_analysis\\lib\\site-packages\\scipy\\stats\\_morestats.py:3428: UserWarning: Sample size too small for normal approximation.\n",
      "  warnings.warn(\"Sample size too small for normal approximation.\")\n",
      "c:\\Users\\megha\\anaconda3\\envs\\ephys_analysis\\lib\\site-packages\\scipy\\stats\\_morestats.py:3428: UserWarning: Sample size too small for normal approximation.\n",
      "  warnings.warn(\"Sample size too small for normal approximation.\")\n",
      "c:\\Users\\megha\\anaconda3\\envs\\ephys_analysis\\lib\\site-packages\\scipy\\stats\\_morestats.py:3428: UserWarning: Sample size too small for normal approximation.\n",
      "  warnings.warn(\"Sample size too small for normal approximation.\")\n",
      "c:\\Users\\megha\\anaconda3\\envs\\ephys_analysis\\lib\\site-packages\\scipy\\stats\\_morestats.py:3428: UserWarning: Sample size too small for normal approximation.\n",
      "  warnings.warn(\"Sample size too small for normal approximation.\")\n"
     ]
    },
    {
     "data": {
      "text/plain": [
       "(0.345841784989858, 0.004257165706374724, [[11, 204], [29, 186]])"
      ]
     },
     "execution_count": 14,
     "metadata": {},
     "output_type": "execute_result"
    }
   ],
   "source": [
    "phase2_analysis.fishers_exact_wilcox('novel', 'acquisition', 5, 2, save = True)"
   ]
  },
  {
   "cell_type": "code",
   "execution_count": 15,
   "metadata": {},
   "outputs": [
    {
     "name": "stderr",
     "output_type": "stream",
     "text": [
      "c:\\Users\\megha\\anaconda3\\envs\\ephys_analysis\\lib\\site-packages\\scipy\\stats\\_morestats.py:3428: UserWarning: Sample size too small for normal approximation.\n",
      "  warnings.warn(\"Sample size too small for normal approximation.\")\n",
      "c:\\Users\\megha\\anaconda3\\envs\\ephys_analysis\\lib\\site-packages\\scipy\\stats\\_morestats.py:3428: UserWarning: Sample size too small for normal approximation.\n",
      "  warnings.warn(\"Sample size too small for normal approximation.\")\n",
      "c:\\Users\\megha\\anaconda3\\envs\\ephys_analysis\\lib\\site-packages\\scipy\\stats\\_morestats.py:3428: UserWarning: Sample size too small for normal approximation.\n",
      "  warnings.warn(\"Sample size too small for normal approximation.\")\n",
      "c:\\Users\\megha\\anaconda3\\envs\\ephys_analysis\\lib\\site-packages\\scipy\\stats\\_morestats.py:3428: UserWarning: Sample size too small for normal approximation.\n",
      "  warnings.warn(\"Sample size too small for normal approximation.\")\n",
      "c:\\Users\\megha\\anaconda3\\envs\\ephys_analysis\\lib\\site-packages\\scipy\\stats\\_morestats.py:3428: UserWarning: Sample size too small for normal approximation.\n",
      "  warnings.warn(\"Sample size too small for normal approximation.\")\n",
      "c:\\Users\\megha\\anaconda3\\envs\\ephys_analysis\\lib\\site-packages\\scipy\\stats\\_morestats.py:3428: UserWarning: Sample size too small for normal approximation.\n",
      "  warnings.warn(\"Sample size too small for normal approximation.\")\n",
      "c:\\Users\\megha\\anaconda3\\envs\\ephys_analysis\\lib\\site-packages\\scipy\\stats\\_morestats.py:3428: UserWarning: Sample size too small for normal approximation.\n",
      "  warnings.warn(\"Sample size too small for normal approximation.\")\n",
      "c:\\Users\\megha\\anaconda3\\envs\\ephys_analysis\\lib\\site-packages\\scipy\\stats\\_morestats.py:3428: UserWarning: Sample size too small for normal approximation.\n",
      "  warnings.warn(\"Sample size too small for normal approximation.\")\n",
      "c:\\Users\\megha\\anaconda3\\envs\\ephys_analysis\\lib\\site-packages\\scipy\\stats\\_morestats.py:3428: UserWarning: Sample size too small for normal approximation.\n",
      "  warnings.warn(\"Sample size too small for normal approximation.\")\n"
     ]
    },
    {
     "data": {
      "text/plain": [
       "(1.797773654916512, 0.18438248862508305, [[19, 196], [11, 204]])"
      ]
     },
     "execution_count": 15,
     "metadata": {},
     "output_type": "execute_result"
    }
   ],
   "source": [
    "phase2_analysis.fishers_exact_wilcox('recall', 'cagemate', 2, 2, save = True)"
   ]
  },
  {
   "cell_type": "code",
   "execution_count": 16,
   "metadata": {},
   "outputs": [
    {
     "name": "stderr",
     "output_type": "stream",
     "text": [
      "c:\\Users\\megha\\anaconda3\\envs\\ephys_analysis\\lib\\site-packages\\scipy\\stats\\_morestats.py:3428: UserWarning: Sample size too small for normal approximation.\n",
      "  warnings.warn(\"Sample size too small for normal approximation.\")\n",
      "c:\\Users\\megha\\anaconda3\\envs\\ephys_analysis\\lib\\site-packages\\scipy\\stats\\_morestats.py:3428: UserWarning: Sample size too small for normal approximation.\n",
      "  warnings.warn(\"Sample size too small for normal approximation.\")\n",
      "c:\\Users\\megha\\anaconda3\\envs\\ephys_analysis\\lib\\site-packages\\scipy\\stats\\_morestats.py:3428: UserWarning: Sample size too small for normal approximation.\n",
      "  warnings.warn(\"Sample size too small for normal approximation.\")\n",
      "c:\\Users\\megha\\anaconda3\\envs\\ephys_analysis\\lib\\site-packages\\scipy\\stats\\_morestats.py:3428: UserWarning: Sample size too small for normal approximation.\n",
      "  warnings.warn(\"Sample size too small for normal approximation.\")\n",
      "c:\\Users\\megha\\anaconda3\\envs\\ephys_analysis\\lib\\site-packages\\scipy\\stats\\_morestats.py:3428: UserWarning: Sample size too small for normal approximation.\n",
      "  warnings.warn(\"Sample size too small for normal approximation.\")\n",
      "c:\\Users\\megha\\anaconda3\\envs\\ephys_analysis\\lib\\site-packages\\scipy\\stats\\_morestats.py:3428: UserWarning: Sample size too small for normal approximation.\n",
      "  warnings.warn(\"Sample size too small for normal approximation.\")\n",
      "c:\\Users\\megha\\anaconda3\\envs\\ephys_analysis\\lib\\site-packages\\scipy\\stats\\_morestats.py:3428: UserWarning: Sample size too small for normal approximation.\n",
      "  warnings.warn(\"Sample size too small for normal approximation.\")\n",
      "c:\\Users\\megha\\anaconda3\\envs\\ephys_analysis\\lib\\site-packages\\scipy\\stats\\_morestats.py:3428: UserWarning: Sample size too small for normal approximation.\n",
      "  warnings.warn(\"Sample size too small for normal approximation.\")\n"
     ]
    },
    {
     "data": {
      "text/plain": [
       "(1.0, 1.0, [[16, 199], [16, 199]])"
      ]
     },
     "execution_count": 16,
     "metadata": {},
     "output_type": "execute_result"
    }
   ],
   "source": [
    "phase2_analysis.fishers_exact_wilcox('recall', 'cagemate', 5, 2, save = True)"
   ]
  },
  {
   "cell_type": "code",
   "execution_count": 17,
   "metadata": {},
   "outputs": [
    {
     "data": {
      "text/plain": [
       "(1.593688362919132, 0.2768895587963544, [[20, 195], [13, 202]])"
      ]
     },
     "execution_count": 17,
     "metadata": {},
     "output_type": "execute_result"
    }
   ],
   "source": [
    "phase2_analysis.fishers_exact_wilcox('recall', 'cagemate', 3, 2, save= True)"
   ]
  },
  {
   "cell_type": "code",
   "execution_count": 260,
   "metadata": {},
   "outputs": [
    {
     "name": "stdout",
     "output_type": "stream",
     "text": [
      "[[1.25278333 1.2811    ]\n",
      " [1.28111667 1.41221667]\n",
      " [1.45721667 1.56388333]\n",
      " [2.16111667 2.17278333]\n",
      " [2.40166667 2.42333333]\n",
      " [2.96778333 3.03945   ]\n",
      " [3.74221667 3.75611667]]\n",
      "[[1.265      1.28221667]\n",
      " [1.31555    1.32388333]\n",
      " [1.48611667 1.55666667]\n",
      " [1.63445    1.72666667]\n",
      " [1.75555    1.76388333]\n",
      " [1.84555    1.86778333]\n",
      " [2.23333333 2.24388333]\n",
      " [3.56666667 3.58166667]\n",
      " [3.61278333 3.62445   ]\n",
      " [6.11666667 6.2       ]\n",
      " [6.35778333 6.37611667]\n",
      " [6.53721667 6.56778333]\n",
      " [9.33111667 9.34221667]]\n",
      "[[ 1.12753333  1.1734    ]\n",
      " [ 1.17341667  1.27278333]\n",
      " [ 1.305       1.32778333]\n",
      " [ 1.50111667  1.52055   ]\n",
      " [ 1.575       1.74778333]\n",
      " [ 2.34        2.36666667]\n",
      " [ 2.41666667  2.46221667]\n",
      " [ 2.56555     2.80445   ]\n",
      " [ 2.91611667  2.96111667]\n",
      " [ 3.02888333  3.11778333]\n",
      " [ 3.25945     3.27221667]\n",
      " [ 3.445       3.51333333]\n",
      " [ 3.98221667  4.02833333]\n",
      " [ 4.05278333  4.10833333]\n",
      " [ 4.18778333  4.365     ]\n",
      " [ 4.51721667  4.57166667]\n",
      " [ 4.67221667  4.735     ]\n",
      " [ 5.48333333  5.49943333]\n",
      " [ 5.49945     5.52555   ]\n",
      " [ 5.64278333  5.68      ]\n",
      " [ 5.71721667  5.74611667]\n",
      " [ 5.90221667  5.91888333]\n",
      " [ 6.32333333  6.33721667]\n",
      " [ 7.04555     7.09945   ]\n",
      " [ 7.14888333  7.175     ]\n",
      " [ 7.625       7.65      ]\n",
      " [ 8.52888333  8.56665   ]\n",
      " [ 8.56666667  8.59221667]\n",
      " [ 9.37666667  9.43388333]\n",
      " [ 9.57833333  9.65778333]\n",
      " [ 9.66945     9.73888333]\n",
      " [ 9.83888333  9.85888333]\n",
      " [10.17166667 10.20055   ]\n",
      " [10.23555    10.28778333]\n",
      " [10.44221667 10.46055   ]\n",
      " [10.47333333 10.55055   ]\n",
      " [10.57945    10.60111667]\n",
      " [10.71945    10.75778333]]\n",
      "[[ 1.255       1.29833333]\n",
      " [ 3.82221667  3.83278333]\n",
      " [ 4.05278333  4.06111667]\n",
      " [ 4.72333333  4.73221667]\n",
      " [ 6.23945     6.24945   ]\n",
      " [ 8.22278333  8.23221667]\n",
      " [ 8.59388333  8.65166667]\n",
      " [ 8.69111667  8.69945   ]\n",
      " [10.08333333 10.09166667]\n",
      " [10.605      10.61333333]\n",
      " [10.75778333 10.77      ]]\n",
      "[[1.185      1.20055   ]\n",
      " [1.26221667 1.275     ]\n",
      " [1.34666667 1.36      ]\n",
      " [1.40055    1.41666667]\n",
      " [1.42666667 1.44445   ]\n",
      " [1.62888333 1.65111667]\n",
      " [1.885      1.96221667]\n",
      " [2.03278333 2.15555   ]\n",
      " [2.26778333 2.28055   ]\n",
      " [2.63       2.64111667]\n",
      " [4.04778333 4.1       ]\n",
      " [4.16611667 4.29888333]\n",
      " [4.37       4.38721667]\n",
      " [4.58388333 4.595     ]\n",
      " [4.755      4.79888333]\n",
      " [5.80666667 5.81721667]\n",
      " [6.63388333 6.64666667]\n",
      " [6.68666667 6.69888333]\n",
      " [6.93       6.94888333]\n",
      " [7.70445    7.71555   ]\n",
      " [8.47166667 8.48721667]\n",
      " [8.55555    8.56888333]\n",
      " [9.21055    9.25945   ]\n",
      " [9.47778333 9.50833333]]\n",
      "[[ 1.07111667  1.09498333]\n",
      " [ 1.095       1.19278333]\n",
      " [ 1.23166667  1.3       ]\n",
      " [ 1.34221667  1.4722    ]\n",
      " [ 1.47221667  1.51776667]\n",
      " [ 1.51778333  1.71721667]\n",
      " [ 1.63555     1.7061    ]\n",
      " [ 1.95555     2.00443333]\n",
      " [ 2.00445     2.04778333]\n",
      " [ 2.08888333  2.26555   ]\n",
      " [ 2.32721667  2.43831667]\n",
      " [ 2.43833333  2.44778333]\n",
      " [ 2.53833333  2.55721667]\n",
      " [ 2.60333333  2.70165   ]\n",
      " [ 2.70166667  2.78388333]\n",
      " [ 2.90611667  2.92278333]\n",
      " [ 2.97278333  3.2       ]\n",
      " [ 3.25445     3.30831667]\n",
      " [ 3.30833333  3.34055   ]\n",
      " [ 3.51945     3.59386667]\n",
      " [ 3.59388333  3.62388333]\n",
      " [ 3.66278333  3.70666667]\n",
      " [ 3.68666667  3.6961    ]\n",
      " [ 3.87166667  3.88278333]\n",
      " [ 4.49333333  4.605     ]\n",
      " [ 4.62778333  4.66721667]\n",
      " [ 4.91833333  4.94721667]\n",
      " [ 5.01166667  5.09611667]\n",
      " [ 5.03888333  5.06886667]\n",
      " [ 5.135       5.16445   ]\n",
      " [ 5.21611667  5.25386667]\n",
      " [ 5.25388333  5.30055   ]\n",
      " [ 5.30888333  5.33553333]\n",
      " [ 5.33555     5.42945   ]\n",
      " [ 5.45666667  5.48776667]\n",
      " [ 5.48778333  5.56166667]\n",
      " [ 5.61111667  5.63888333]\n",
      " [ 5.73111667  5.74055   ]\n",
      " [ 5.78945     5.81111667]\n",
      " [ 5.89555     5.91      ]\n",
      " [ 5.96666667  6.02      ]\n",
      " [ 6.08221667  6.13611667]\n",
      " [ 6.175       6.22776667]\n",
      " [ 6.22778333  6.29778333]\n",
      " [ 6.37945     6.46221667]\n",
      " [ 6.77945     6.85778333]\n",
      " [ 6.81166667  6.83331667]\n",
      " [ 6.92278333  6.99778333]\n",
      " [ 7.14111667  7.15055   ]\n",
      " [ 7.43055     7.50555   ]\n",
      " [ 7.57388333  7.62666667]\n",
      " [ 7.72888333  7.87388333]\n",
      " [ 7.92945     7.94221667]\n",
      " [ 8.06        8.06943333]\n",
      " [ 8.06945     8.11888333]\n",
      " [ 8.14166667  8.19278333]\n",
      " [ 8.45055     8.48388333]\n",
      " [ 8.70555     8.76278333]\n",
      " [ 8.825       8.96611667]\n",
      " [ 9.62611667  9.64278333]\n",
      " [ 9.92778333  9.97278333]\n",
      " [ 9.97945    10.0222    ]\n",
      " [10.02221667 10.11721667]\n",
      " [10.20888333 10.21833333]\n",
      " [10.98333333 11.02553333]\n",
      " [11.02555    11.03555   ]]\n",
      "[[ 1.15111667  1.22388333]\n",
      " [ 1.23055     1.25778333]\n",
      " [ 1.29833333  1.35053333]\n",
      " [ 1.35055     1.4172    ]\n",
      " [ 1.41721667  1.48445   ]\n",
      " [ 1.53221667  1.585     ]\n",
      " [ 1.64721667  1.74278333]\n",
      " [ 1.89555     1.92945   ]\n",
      " [ 1.97888333  2.09611667]\n",
      " [ 2.10945     2.13055   ]\n",
      " [ 2.20666667  2.21666667]\n",
      " [ 2.65166667  2.68888333]\n",
      " [ 3.35        3.38333333]\n",
      " [ 3.62666667  3.63778333]\n",
      " [ 4.26888333  4.31111667]\n",
      " [ 5.48721667  5.53611667]\n",
      " [ 5.97111667  5.98445   ]\n",
      " [ 6.11333333  6.12388333]\n",
      " [ 6.22445     6.23721667]\n",
      " [ 6.33778333  6.34888333]\n",
      " [ 6.41111667  6.435     ]\n",
      " [ 7.56278333  7.57778333]\n",
      " [ 8.005       8.03      ]\n",
      " [ 8.46333333  8.51778333]\n",
      " [ 8.71721667  8.76333333]\n",
      " [ 9.52778333  9.53888333]\n",
      " [ 9.63778333  9.65611667]\n",
      " [10.00888333 10.0211    ]\n",
      " [10.02111667 10.03111667]\n",
      " [10.16111667 10.17833333]]\n",
      "[[ 1.19        1.23386667]\n",
      " [ 1.23388333  1.28111667]\n",
      " [ 1.28611667  1.32776667]\n",
      " [ 1.32778333  1.33778333]\n",
      " [ 1.91166667  1.94945   ]\n",
      " [ 2.03166667  2.06053333]\n",
      " [ 2.35445     2.38333333]\n",
      " [ 4.23717333  4.25717333]\n",
      " [ 4.81384     4.87327333]\n",
      " [ 4.87329     4.90162333]\n",
      " [ 4.98329     5.05104   ]\n",
      " [ 5.19217333  5.22939   ]\n",
      " [ 6.05050667  6.07939   ]\n",
      " [10.13329    10.28105667]\n",
      " [10.34272333 10.44717333]\n",
      " [12.08605667 12.15717333]]\n",
      "[[ 1.46333333  1.47443333]\n",
      " [ 1.47445     1.525     ]\n",
      " [ 1.525       1.65833333]\n",
      " [ 1.69333333  1.73831667]\n",
      " [ 1.73833333  1.78945   ]\n",
      " [ 2.00278333  2.01721667]\n",
      " [ 2.60445     2.62778333]\n",
      " [ 3.11445     3.15166667]\n",
      " [ 3.25833333  3.27      ]\n",
      " [ 4.95555     4.96778333]\n",
      " [ 7.02278333  7.04      ]\n",
      " [ 7.12445     7.16721667]\n",
      " [ 8.32333333  8.33833333]\n",
      " [ 8.39611667  8.405     ]\n",
      " [10.63111667 10.64445   ]\n",
      " [10.93833333 10.97388333]]\n"
     ]
    }
   ],
   "source": [
    "for recording in phase2_collection.collection.values():\n",
    "    print(recording.event_dict['baseline']/1000/60)"
   ]
  },
  {
   "cell_type": "code",
   "execution_count": 261,
   "metadata": {},
   "outputs": [],
   "source": [
    "event_info = {}\n",
    "for recording_name, recording in phase2_collection.collection.items():\n",
    "    for event, events in recording.event_dict.items():\n",
    "        no_events = events.shape[0]\n",
    "        sniff_length = 0\n",
    "        for sniff in events:\n",
    "            sniff_length_temp = sniff[1] - sniff[0]\n",
    "            sniff_length = sniff_length +sniff_length_temp\n",
    "        total_sniff_time = sniff_length/1000\n",
    "        avg_event = sniff_length/no_events/1000\n",
    "        if (recording_name + recording.subject) in event_info.keys():\n",
    "            dict_event = event_info[recording_name + recording.subject]\n",
    "            dict_event[event] =  {'no_events': no_events, 'avg event': avg_event, 'total time': total_sniff_time}\n",
    "            event_info[recording_name + recording.subject] =  dict_event\n",
    "        else:\n",
    "            event_info[recording_name + recording.subject] = {event: {'no_events': no_events, 'avg event': avg_event,'total time': total_sniff_time }}\n"
   ]
  },
  {
   "cell_type": "code",
   "execution_count": 262,
   "metadata": {},
   "outputs": [],
   "source": [
    "event_overview = pd.concat({k: pd.DataFrame(v) for k, v in event_info.items()}, axis=0)\n",
    "event_overview = event_overview.reset_index()\n",
    "event_overview['order'] = ['FCN', 'FCN', 'FCN', 'NFC', 'NFC', 'NFC', 'CNF', 'CNF','CNF', \n",
    "                           'FCN', 'FCN', 'FCN', 'NFC', 'NFC','NFC', 'CNF', 'CNF', 'CNF',\n",
    "                            'FCN','FCN', 'FCN', 'NFC', 'NFC','NFC', 'CNF', 'CNF', 'CNF' ]\n"
   ]
  },
  {
   "cell_type": "code",
   "execution_count": 263,
   "metadata": {},
   "outputs": [],
   "source": [
    "no_events = event_overview[event_overview['level_1'] == 'no_events']\n",
    "no_events\n",
    "\n",
    "FCN_df = event_overview[event_overview['order'] == 'FCN']\n",
    "CNF_df = event_overview[event_overview['order'] == 'CNF']\n",
    "NFC_df = event_overview[event_overview['order'] == 'NFC']"
   ]
  },
  {
   "cell_type": "code",
   "execution_count": 264,
   "metadata": {},
   "outputs": [
    {
     "data": {
      "text/plain": [
       "{'acquisition': 66.58255555555553,\n",
       " 'recall': 29.52844444444442,\n",
       " 'novel': 35.17255555555555,\n",
       " 'cagemate': 29.90433333333336}"
      ]
     },
     "execution_count": 264,
     "metadata": {},
     "output_type": "execute_result"
    }
   ],
   "source": [
    "event_total_time = event_overview[event_overview['level_1'] == 'total time']\n",
    "event_total_time_averages = {}\n",
    "for event in ['acquisition', 'recall', 'novel', 'cagemate']:\n",
    "    avg_event = event_total_time[event].mean()\n",
    "    event_total_time_averages[event] = avg_event\n",
    "event_total_time_averages"
   ]
  },
  {
   "cell_type": "code",
   "execution_count": 266,
   "metadata": {},
   "outputs": [
    {
     "data": {
      "text/plain": [
       "Text(0, 0.5, 'Total sniff (s)')"
      ]
     },
     "execution_count": 266,
     "metadata": {},
     "output_type": "execute_result"
    },
    {
     "data": {
      "image/png": "[encoded data removed]",
      "text/plain": [
       "<Figure size 640x480 with 1 Axes>"
      ]
     },
     "metadata": {},
     "output_type": "display_data"
    }
   ],
   "source": [
    "import matplotlib.pyplot as plt\n",
    "colors = ['#A8778f', '#Bb005d','#01e852','#6401e8']\n",
    "plt.bar(event_total_time_averages.keys(), event_total_time_averages.values(), color = colors)\n",
    "plt.xticks(rotation=45)\n",
    "plt.ylabel('Total sniff (s)')\n"
   ]
  },
  {
   "cell_type": "code",
   "execution_count": 267,
   "metadata": {},
   "outputs": [
    {
     "data": {
      "text/plain": [
       "{'acquisition': 32.82133333333328,\n",
       " 'recall': 19.777333333333335,\n",
       " 'novel': 33.821666666666665,\n",
       " 'cagemate': 20.497333333333334}"
      ]
     },
     "execution_count": 267,
     "metadata": {},
     "output_type": "execute_result"
    }
   ],
   "source": [
    "FCN_event_total_time = FCN_df[FCN_df['level_1'] == 'total time']\n",
    "FCN_event_total_time_averages = {}\n",
    "for event in ['acquisition', 'recall', 'novel', 'cagemate']:\n",
    "    avg_event = FCN_event_total_time[event].mean()\n",
    "    FCN_event_total_time_averages[event] = avg_event\n",
    "FCN_event_total_time_averages"
   ]
  },
  {
   "cell_type": "code",
   "execution_count": 268,
   "metadata": {},
   "outputs": [
    {
     "data": {
      "text/plain": [
       "{'acquisition': 39.108,\n",
       " 'recall': 17.57766666666667,\n",
       " 'novel': 23.921000000000003,\n",
       " 'cagemate': 25.830666666666744}"
      ]
     },
     "execution_count": 268,
     "metadata": {},
     "output_type": "execute_result"
    }
   ],
   "source": [
    "NFC_event_total_time = NFC_df[NFC_df['level_1'] == 'total time']\n",
    "NFC_event_total_time_averages = {}\n",
    "for event in ['acquisition', 'recall', 'novel', 'cagemate']:\n",
    "    avg_event = NFC_event_total_time[event].mean()\n",
    "    NFC_event_total_time_averages[event] = avg_event\n",
    "NFC_event_total_time_averages"
   ]
  },
  {
   "cell_type": "code",
   "execution_count": 269,
   "metadata": {},
   "outputs": [
    {
     "data": {
      "text/plain": [
       "{'acquisition': 127.81833333333331,\n",
       " 'recall': 51.230333333333256,\n",
       " 'novel': 47.775000000000006,\n",
       " 'cagemate': 43.385}"
      ]
     },
     "execution_count": 269,
     "metadata": {},
     "output_type": "execute_result"
    }
   ],
   "source": [
    "CNF_event_total_time = CNF_df[CNF_df['level_1'] == 'total time']\n",
    "CNF_event_total_time_averages = {}\n",
    "for event in ['acquisition', 'recall', 'novel', 'cagemate']:\n",
    "    avg_event = CNF_event_total_time[event].mean()\n",
    "    CNF_event_total_time_averages[event] = avg_event\n",
    "CNF_event_total_time_averages"
   ]
  },
  {
   "cell_type": "code",
   "execution_count": 26,
   "metadata": {},
   "outputs": [
    {
     "data": {
      "text/html": [
       "<div>\n",
       "<style scoped>\n",
       "    .dataframe tbody tr th:only-of-type {\n",
       "        vertical-align: middle;\n",
       "    }\n",
       "\n",
       "    .dataframe tbody tr th {\n",
       "        vertical-align: top;\n",
       "    }\n",
       "\n",
       "    .dataframe thead th {\n",
       "        text-align: right;\n",
       "    }\n",
       "</style>\n",
       "<table border=\"1\" class=\"dataframe\">\n",
       "  <thead>\n",
       "    <tr style=\"text-align: right;\">\n",
       "      <th></th>\n",
       "      <th>level_0</th>\n",
       "      <th>level_1</th>\n",
       "      <th>acquisition</th>\n",
       "      <th>recall</th>\n",
       "      <th>cagemate</th>\n",
       "      <th>novel</th>\n",
       "      <th>order</th>\n",
       "    </tr>\n",
       "  </thead>\n",
       "  <tbody>\n",
       "    <tr>\n",
       "      <th>6</th>\n",
       "      <td>20230803_141047_1_merged.rec1.2</td>\n",
       "      <td>no_events</td>\n",
       "      <td>39.000000</td>\n",
       "      <td>14.000000</td>\n",
       "      <td>15.000000</td>\n",
       "      <td>10.000000</td>\n",
       "      <td>CNF</td>\n",
       "    </tr>\n",
       "    <tr>\n",
       "      <th>7</th>\n",
       "      <td>20230803_141047_1_merged.rec1.2</td>\n",
       "      <td>avg event</td>\n",
       "      <td>3.193795</td>\n",
       "      <td>2.942643</td>\n",
       "      <td>3.728400</td>\n",
       "      <td>2.743500</td>\n",
       "      <td>CNF</td>\n",
       "    </tr>\n",
       "    <tr>\n",
       "      <th>8</th>\n",
       "      <td>20230803_141047_1_merged.rec1.2</td>\n",
       "      <td>total time</td>\n",
       "      <td>124.558000</td>\n",
       "      <td>41.197000</td>\n",
       "      <td>55.926000</td>\n",
       "      <td>27.435000</td>\n",
       "      <td>CNF</td>\n",
       "    </tr>\n",
       "    <tr>\n",
       "      <th>15</th>\n",
       "      <td>20230817_100823_1_merged.rec1.1</td>\n",
       "      <td>no_events</td>\n",
       "      <td>74.000000</td>\n",
       "      <td>23.000000</td>\n",
       "      <td>23.000000</td>\n",
       "      <td>28.000000</td>\n",
       "      <td>CNF</td>\n",
       "    </tr>\n",
       "    <tr>\n",
       "      <th>16</th>\n",
       "      <td>20230817_100823_1_merged.rec1.1</td>\n",
       "      <td>avg event</td>\n",
       "      <td>3.332122</td>\n",
       "      <td>3.727174</td>\n",
       "      <td>2.247652</td>\n",
       "      <td>3.898429</td>\n",
       "      <td>CNF</td>\n",
       "    </tr>\n",
       "    <tr>\n",
       "      <th>17</th>\n",
       "      <td>20230817_100823_1_merged.rec1.1</td>\n",
       "      <td>total time</td>\n",
       "      <td>246.577000</td>\n",
       "      <td>85.725000</td>\n",
       "      <td>51.696000</td>\n",
       "      <td>109.156000</td>\n",
       "      <td>CNF</td>\n",
       "    </tr>\n",
       "    <tr>\n",
       "      <th>24</th>\n",
       "      <td>20230818_133620_1_merged.rec1.4</td>\n",
       "      <td>no_events</td>\n",
       "      <td>31.000000</td>\n",
       "      <td>12.000000</td>\n",
       "      <td>13.000000</td>\n",
       "      <td>6.000000</td>\n",
       "      <td>CNF</td>\n",
       "    </tr>\n",
       "    <tr>\n",
       "      <th>25</th>\n",
       "      <td>20230818_133620_1_merged.rec1.4</td>\n",
       "      <td>avg event</td>\n",
       "      <td>1.807613</td>\n",
       "      <td>2.230750</td>\n",
       "      <td>1.733308</td>\n",
       "      <td>1.122333</td>\n",
       "      <td>CNF</td>\n",
       "    </tr>\n",
       "    <tr>\n",
       "      <th>26</th>\n",
       "      <td>20230818_133620_1_merged.rec1.4</td>\n",
       "      <td>total time</td>\n",
       "      <td>56.036000</td>\n",
       "      <td>26.769000</td>\n",
       "      <td>22.533000</td>\n",
       "      <td>6.734000</td>\n",
       "      <td>CNF</td>\n",
       "    </tr>\n",
       "  </tbody>\n",
       "</table>\n",
       "</div>"
      ],
      "text/plain": [
       "                            level_0     level_1  acquisition     recall  \\\n",
       "6   20230803_141047_1_merged.rec1.2   no_events    39.000000  14.000000   \n",
       "7   20230803_141047_1_merged.rec1.2   avg event     3.193795   2.942643   \n",
       "8   20230803_141047_1_merged.rec1.2  total time   124.558000  41.197000   \n",
       "15  20230817_100823_1_merged.rec1.1   no_events    74.000000  23.000000   \n",
       "16  20230817_100823_1_merged.rec1.1   avg event     3.332122   3.727174   \n",
       "17  20230817_100823_1_merged.rec1.1  total time   246.577000  85.725000   \n",
       "24  20230818_133620_1_merged.rec1.4   no_events    31.000000  12.000000   \n",
       "25  20230818_133620_1_merged.rec1.4   avg event     1.807613   2.230750   \n",
       "26  20230818_133620_1_merged.rec1.4  total time    56.036000  26.769000   \n",
       "\n",
       "     cagemate       novel order  \n",
       "6   15.000000   10.000000   CNF  \n",
       "7    3.728400    2.743500   CNF  \n",
       "8   55.926000   27.435000   CNF  \n",
       "15  23.000000   28.000000   CNF  \n",
       "16   2.247652    3.898429   CNF  \n",
       "17  51.696000  109.156000   CNF  \n",
       "24  13.000000    6.000000   CNF  \n",
       "25   1.733308    1.122333   CNF  \n",
       "26  22.533000    6.734000   CNF  "
      ]
     },
     "execution_count": 26,
     "metadata": {},
     "output_type": "execute_result"
    }
   ],
   "source": [
    "CNF_df"
   ]
  },
  {
   "cell_type": "code",
   "execution_count": 27,
   "metadata": {},
   "outputs": [
    {
     "name": "stdout",
     "output_type": "stream",
     "text": [
      "No z-scored events saved.\n"
     ]
    }
   ],
   "source": [
    "phase2_analysis.export()"
   ]
  },
  {
   "cell_type": "code",
   "execution_count": 22,
   "metadata": {},
   "outputs": [],
   "source": [
    "phase2_analysis.wilcox_event_v_event_collection('recall', 'cagemate', 3, 2, plot = False, save =True )\n",
    "phase2_analysis.wilcox_event_v_event_collection('novel', 'recall', 3, 2, plot = False, save = True)\n",
    "phase2_analysis.wilcox_event_v_event_collection('novel', 'cagemate', 3, 2, plot = False, save = True)"
   ]
  },
  {
   "cell_type": "code",
   "execution_count": 21,
   "metadata": {},
   "outputs": [],
   "source": [
    "phase2_analysis.wilcox_event_v_event_collection('acquisition', 'novel', 3, 2, plot = False, save =True)\n",
    "phase2_analysis.wilcox_event_v_event_collection('acquisition', 'recall', 3, 2, plot = False, save =True)"
   ]
  },
  {
   "cell_type": "code",
   "execution_count": 23,
   "metadata": {},
   "outputs": [
    {
     "name": "stdout",
     "output_type": "stream",
     "text": [
      "No z-scored events saved.\n"
     ]
    },
    {
     "name": "stderr",
     "output_type": "stream",
     "text": [
      "c:\\Users\\megha\\Documents\\GitHub\\diff_fam_social_memory_ephys\\multirecording_spikeanalysis.py:1324: FutureWarning: Passing 'suffixes' which cause duplicate columns {'Wilcoxon Stat_x', 'event1 vs event2_x', 'Event_x', 'p value_x'} in the result is deprecated and will raise a MergeError in a future version.\n",
      "  master_df = master_df.merge(temp_df,\n"
     ]
    },
    {
     "name": "stdout",
     "output_type": "stream",
     "text": [
      "No fishers exact tests saved\n"
     ]
    }
   ],
   "source": [
    "phase2_analysis.export()"
   ]
  },
  {
   "cell_type": "code",
   "execution_count": 149,
   "metadata": {},
   "outputs": [],
   "source": [
    "wilcoxon_results = pd.read_excel(\"D:\\\\social_ephys_pilot2_cum\\\\proc\\\\Phase 2\\\\100sw_50msbin_wilcoxon.xlsx\")\n"
   ]
  },
  {
   "cell_type": "code",
   "execution_count": 150,
   "metadata": {},
   "outputs": [],
   "source": [
    "wilcoxon_results = wilcoxon_results[['original unit id',\n",
    " 'Event_x',\n",
    " 'event1 vs event2_x',\n",
    " 'Event_y',\n",
    " 'event1 vs event2_y',\n",
    " 'Event_x.1',\n",
    " 'event1 vs event2_x.1',\n",
    " 'Event_y.1',\n",
    " 'event1 vs event2_y.1',\n",
    " 'Event',\n",
    " 'event1 vs event2']]\n",
    "wilcoxon_results.columns = ['original unit id',\n",
    " 'Event_x',\n",
    " 'acquisition vs novel',\n",
    " 'Event_y',\n",
    " 'acquisition vs recall',\n",
    " 'Event_x.1',\n",
    " 'recall vs cagemate',\n",
    " 'Event_y.1',\n",
    " 'novel vs recall',\n",
    " 'Event',\n",
    " 'novel vs cagemate']\n",
    "wilcoxon_results = wilcoxon_results[['original unit id',\n",
    " 'acquisition vs novel',\n",
    " 'acquisition vs recall',\n",
    " 'recall vs cagemate',\n",
    " 'novel vs recall',\n",
    " 'novel vs cagemate']]"
   ]
  },
  {
   "cell_type": "code",
   "execution_count": 151,
   "metadata": {},
   "outputs": [],
   "source": [
    "\n",
    "\n",
    "def get_fam_score(acquisition_vs_novel, recall_vs_cagemate, novel_vs_recall, novel_vs_cagemate, acquisition_vs_recall, id_score):\n",
    "    fam_score = 0\n",
    "    if acquisition_vs_novel == 'not significant':\n",
    "        if recall_vs_cagemate != 'not significant':\n",
    "            fam_score +=1\n",
    "        if novel_vs_recall != 'not significant':\n",
    "            fam_score +=1\n",
    "        if novel_vs_cagemate != 'not significant':\n",
    "            fam_score +=2\n",
    "        if (id_score != 0):\n",
    "            if id_score == 'familiarity?':\n",
    "                fam_score = fam_score\n",
    "            else:\n",
    "                fam_score += (-2)\n",
    "        if acquisition_vs_recall != 'not significant':\n",
    "            fam_score += 1\n",
    "    return fam_score\n",
    "\n",
    "def get_id_score(acquisition_vs_novel, recall_vs_cagemate, novel_vs_recall, novel_vs_cagemate, acquisition_vs_recall):\n",
    "    id_score = 0\n",
    "    if acquisition_vs_recall == 'not significant':\n",
    "        if (recall_vs_cagemate != 'not significant') & (novel_vs_cagemate != 'not significant'):\n",
    "                id_score = 'cagemate'\n",
    "        if (novel_vs_recall != 'not significant') & (recall_vs_cagemate != 'not significant'):\n",
    "                id_score = 'familiar'\n",
    "        if (novel_vs_recall != 'not significant') & (novel_vs_cagemate != 'not significant'):\n",
    "                id_score = 'novel'\n",
    "        if (novel_vs_recall != 'not significant') & (novel_vs_cagemate != 'not significant') & (recall_vs_cagemate != 'not significant'):\n",
    "             id_score = 'familiarity?'\n",
    "    if acquisition_vs_recall != 'not significant':\n",
    "         if (novel_vs_recall != 'not significant') & (recall_vs_cagemate != 'not significant'):\n",
    "                id_score = 'recall'\n",
    "    return id_score\n",
    "\n"
   ]
  },
  {
   "cell_type": "code",
   "execution_count": 152,
   "metadata": {},
   "outputs": [],
   "source": [
    "wilcoxon_results['id score'] = wilcoxon_results.apply(lambda row: get_id_score(row['acquisition vs novel'], row['recall vs cagemate'], row['novel vs recall'], row['novel vs cagemate'], row['acquisition vs recall']), axis = 1) \n",
    "\n",
    "wilcoxon_results['fam score'] = wilcoxon_results.apply(lambda row: get_fam_score(row['acquisition vs novel'], row['recall vs cagemate'], row['novel vs recall'], row['novel vs cagemate'], row['acquisition vs recall'], row['id score']), axis = 1) \n"
   ]
  },
  {
   "cell_type": "code",
   "execution_count": 166,
   "metadata": {},
   "outputs": [
    {
     "data": {
      "text/plain": [
       "14"
      ]
     },
     "execution_count": 166,
     "metadata": {},
     "output_type": "execute_result"
    }
   ],
   "source": [
    "ID_score = wilcoxon_results[(wilcoxon_results['id score'] != 0) & (wilcoxon_results['id score'] != 'familiarity?')\n",
    "                            &  (wilcoxon_results['id score'] != 'recall')]\n",
    "ID_score\n",
    "cagemate_df = ID_score[ID_score['id score'] == 'cagemate']   \n",
    "len(cagemate_df)"
   ]
  },
  {
   "cell_type": "code",
   "execution_count": 161,
   "metadata": {},
   "outputs": [
    {
     "data": {
      "text/plain": [
       "27"
      ]
     },
     "execution_count": 161,
     "metadata": {},
     "output_type": "execute_result"
    }
   ],
   "source": [
    "fam_df = wilcoxon_results[(wilcoxon_results['fam score'] > 1)]\n",
    "len(fam_df)"
   ]
  },
  {
   "cell_type": "code",
   "execution_count": 167,
   "metadata": {},
   "outputs": [
    {
     "data": {
      "text/plain": [
       "25"
      ]
     },
     "execution_count": 167,
     "metadata": {},
     "output_type": "execute_result"
    }
   ],
   "source": [
    "len(ID_score)"
   ]
  },
  {
   "cell_type": "code",
   "execution_count": 270,
   "metadata": {},
   "outputs": [
    {
     "name": "stderr",
     "output_type": "stream",
     "text": [
      "C:\\Users\\megha\\AppData\\Local\\Temp\\ipykernel_22664\\3313645281.py:16: FutureWarning: Passing 'suffixes' which cause duplicate columns {'event1 vs event2_x', 'Event_x'} in the result is deprecated and will raise a MergeError in a future version.\n",
      "  master_df = master_df.merge(temp_df,  on=['Subject', 'Recording', 'original unit id'], how = 'left')\n"
     ]
    },
    {
     "data": {
      "text/html": [
       "<div>\n",
       "<style scoped>\n",
       "    .dataframe tbody tr th:only-of-type {\n",
       "        vertical-align: middle;\n",
       "    }\n",
       "\n",
       "    .dataframe tbody tr th {\n",
       "        vertical-align: top;\n",
       "    }\n",
       "\n",
       "    .dataframe thead th {\n",
       "        text-align: right;\n",
       "    }\n",
       "</style>\n",
       "<table border=\"1\" class=\"dataframe\">\n",
       "  <thead>\n",
       "    <tr style=\"text-align: right;\">\n",
       "      <th></th>\n",
       "      <th>Subject</th>\n",
       "      <th>Recording</th>\n",
       "      <th>original unit id</th>\n",
       "      <th>Event_x</th>\n",
       "      <th>event1 vs event2_x</th>\n",
       "      <th>Event_y</th>\n",
       "      <th>event1 vs event2_y</th>\n",
       "      <th>Event_x</th>\n",
       "      <th>event1 vs event2_x</th>\n",
       "      <th>Event_y</th>\n",
       "      <th>event1 vs event2_y</th>\n",
       "    </tr>\n",
       "  </thead>\n",
       "  <tbody>\n",
       "    <tr>\n",
       "      <th>0</th>\n",
       "      <td>1.1</td>\n",
       "      <td>20230803_101331_1_merged.rec</td>\n",
       "      <td>196</td>\n",
       "      <td>novel vs baseline (3s)</td>\n",
       "      <td>not significant</td>\n",
       "      <td>cagemate vs baseline (3s)</td>\n",
       "      <td>not significant</td>\n",
       "      <td>recall vs baseline (3s)</td>\n",
       "      <td>not significant</td>\n",
       "      <td>acquisition vs baseline (3s)</td>\n",
       "      <td>not significant</td>\n",
       "    </tr>\n",
       "    <tr>\n",
       "      <th>1</th>\n",
       "      <td>1.1</td>\n",
       "      <td>20230803_101331_1_merged.rec</td>\n",
       "      <td>91</td>\n",
       "      <td>novel vs baseline (3s)</td>\n",
       "      <td>not significant</td>\n",
       "      <td>cagemate vs baseline (3s)</td>\n",
       "      <td>not significant</td>\n",
       "      <td>recall vs baseline (3s)</td>\n",
       "      <td>not significant</td>\n",
       "      <td>acquisition vs baseline (3s)</td>\n",
       "      <td>not significant</td>\n",
       "    </tr>\n",
       "    <tr>\n",
       "      <th>2</th>\n",
       "      <td>1.1</td>\n",
       "      <td>20230803_101331_1_merged.rec</td>\n",
       "      <td>267</td>\n",
       "      <td>novel vs baseline (3s)</td>\n",
       "      <td>not significant</td>\n",
       "      <td>cagemate vs baseline (3s)</td>\n",
       "      <td>not significant</td>\n",
       "      <td>recall vs baseline (3s)</td>\n",
       "      <td>not significant</td>\n",
       "      <td>acquisition vs baseline (3s)</td>\n",
       "      <td>increases</td>\n",
       "    </tr>\n",
       "    <tr>\n",
       "      <th>3</th>\n",
       "      <td>1.1</td>\n",
       "      <td>20230803_101331_1_merged.rec</td>\n",
       "      <td>136</td>\n",
       "      <td>novel vs baseline (3s)</td>\n",
       "      <td>not significant</td>\n",
       "      <td>cagemate vs baseline (3s)</td>\n",
       "      <td>not significant</td>\n",
       "      <td>recall vs baseline (3s)</td>\n",
       "      <td>not significant</td>\n",
       "      <td>acquisition vs baseline (3s)</td>\n",
       "      <td>not significant</td>\n",
       "    </tr>\n",
       "    <tr>\n",
       "      <th>4</th>\n",
       "      <td>1.1</td>\n",
       "      <td>20230803_101331_1_merged.rec</td>\n",
       "      <td>79</td>\n",
       "      <td>novel vs baseline (3s)</td>\n",
       "      <td>not significant</td>\n",
       "      <td>cagemate vs baseline (3s)</td>\n",
       "      <td>not significant</td>\n",
       "      <td>recall vs baseline (3s)</td>\n",
       "      <td>not significant</td>\n",
       "      <td>acquisition vs baseline (3s)</td>\n",
       "      <td>not significant</td>\n",
       "    </tr>\n",
       "    <tr>\n",
       "      <th>...</th>\n",
       "      <td>...</td>\n",
       "      <td>...</td>\n",
       "      <td>...</td>\n",
       "      <td>...</td>\n",
       "      <td>...</td>\n",
       "      <td>...</td>\n",
       "      <td>...</td>\n",
       "      <td>...</td>\n",
       "      <td>...</td>\n",
       "      <td>...</td>\n",
       "      <td>...</td>\n",
       "    </tr>\n",
       "    <tr>\n",
       "      <th>210</th>\n",
       "      <td>1.4</td>\n",
       "      <td>20230818_133620_1_merged.rec</td>\n",
       "      <td>101</td>\n",
       "      <td>novel vs baseline (3s)</td>\n",
       "      <td>not significant</td>\n",
       "      <td>cagemate vs baseline (3s)</td>\n",
       "      <td>not significant</td>\n",
       "      <td>recall vs baseline (3s)</td>\n",
       "      <td>not significant</td>\n",
       "      <td>acquisition vs baseline (3s)</td>\n",
       "      <td>not significant</td>\n",
       "    </tr>\n",
       "    <tr>\n",
       "      <th>211</th>\n",
       "      <td>1.4</td>\n",
       "      <td>20230818_133620_1_merged.rec</td>\n",
       "      <td>50</td>\n",
       "      <td>novel vs baseline (3s)</td>\n",
       "      <td>increases</td>\n",
       "      <td>cagemate vs baseline (3s)</td>\n",
       "      <td>increases</td>\n",
       "      <td>recall vs baseline (3s)</td>\n",
       "      <td>increases</td>\n",
       "      <td>acquisition vs baseline (3s)</td>\n",
       "      <td>not significant</td>\n",
       "    </tr>\n",
       "    <tr>\n",
       "      <th>212</th>\n",
       "      <td>1.4</td>\n",
       "      <td>20230818_133620_1_merged.rec</td>\n",
       "      <td>74</td>\n",
       "      <td>novel vs baseline (3s)</td>\n",
       "      <td>not significant</td>\n",
       "      <td>cagemate vs baseline (3s)</td>\n",
       "      <td>not significant</td>\n",
       "      <td>recall vs baseline (3s)</td>\n",
       "      <td>decreases</td>\n",
       "      <td>acquisition vs baseline (3s)</td>\n",
       "      <td>not significant</td>\n",
       "    </tr>\n",
       "    <tr>\n",
       "      <th>213</th>\n",
       "      <td>1.4</td>\n",
       "      <td>20230818_133620_1_merged.rec</td>\n",
       "      <td>107</td>\n",
       "      <td>novel vs baseline (3s)</td>\n",
       "      <td>not significant</td>\n",
       "      <td>cagemate vs baseline (3s)</td>\n",
       "      <td>not significant</td>\n",
       "      <td>recall vs baseline (3s)</td>\n",
       "      <td>not significant</td>\n",
       "      <td>acquisition vs baseline (3s)</td>\n",
       "      <td>not significant</td>\n",
       "    </tr>\n",
       "    <tr>\n",
       "      <th>214</th>\n",
       "      <td>1.4</td>\n",
       "      <td>20230818_133620_1_merged.rec</td>\n",
       "      <td>53</td>\n",
       "      <td>novel vs baseline (3s)</td>\n",
       "      <td>not significant</td>\n",
       "      <td>cagemate vs baseline (3s)</td>\n",
       "      <td>increases</td>\n",
       "      <td>recall vs baseline (3s)</td>\n",
       "      <td>increases</td>\n",
       "      <td>acquisition vs baseline (3s)</td>\n",
       "      <td>not significant</td>\n",
       "    </tr>\n",
       "  </tbody>\n",
       "</table>\n",
       "<p>215 rows × 11 columns</p>\n",
       "</div>"
      ],
      "text/plain": [
       "    Subject                     Recording  original unit id  \\\n",
       "0       1.1  20230803_101331_1_merged.rec               196   \n",
       "1       1.1  20230803_101331_1_merged.rec                91   \n",
       "2       1.1  20230803_101331_1_merged.rec               267   \n",
       "3       1.1  20230803_101331_1_merged.rec               136   \n",
       "4       1.1  20230803_101331_1_merged.rec                79   \n",
       "..      ...                           ...               ...   \n",
       "210     1.4  20230818_133620_1_merged.rec               101   \n",
       "211     1.4  20230818_133620_1_merged.rec                50   \n",
       "212     1.4  20230818_133620_1_merged.rec                74   \n",
       "213     1.4  20230818_133620_1_merged.rec               107   \n",
       "214     1.4  20230818_133620_1_merged.rec                53   \n",
       "\n",
       "                    Event_x event1 vs event2_x                    Event_y  \\\n",
       "0    novel vs baseline (3s)    not significant  cagemate vs baseline (3s)   \n",
       "1    novel vs baseline (3s)    not significant  cagemate vs baseline (3s)   \n",
       "2    novel vs baseline (3s)    not significant  cagemate vs baseline (3s)   \n",
       "3    novel vs baseline (3s)    not significant  cagemate vs baseline (3s)   \n",
       "4    novel vs baseline (3s)    not significant  cagemate vs baseline (3s)   \n",
       "..                      ...                ...                        ...   \n",
       "210  novel vs baseline (3s)    not significant  cagemate vs baseline (3s)   \n",
       "211  novel vs baseline (3s)          increases  cagemate vs baseline (3s)   \n",
       "212  novel vs baseline (3s)    not significant  cagemate vs baseline (3s)   \n",
       "213  novel vs baseline (3s)    not significant  cagemate vs baseline (3s)   \n",
       "214  novel vs baseline (3s)    not significant  cagemate vs baseline (3s)   \n",
       "\n",
       "    event1 vs event2_y                  Event_x event1 vs event2_x  \\\n",
       "0      not significant  recall vs baseline (3s)    not significant   \n",
       "1      not significant  recall vs baseline (3s)    not significant   \n",
       "2      not significant  recall vs baseline (3s)    not significant   \n",
       "3      not significant  recall vs baseline (3s)    not significant   \n",
       "4      not significant  recall vs baseline (3s)    not significant   \n",
       "..                 ...                      ...                ...   \n",
       "210    not significant  recall vs baseline (3s)    not significant   \n",
       "211          increases  recall vs baseline (3s)          increases   \n",
       "212    not significant  recall vs baseline (3s)          decreases   \n",
       "213    not significant  recall vs baseline (3s)    not significant   \n",
       "214          increases  recall vs baseline (3s)          increases   \n",
       "\n",
       "                          Event_y event1 vs event2_y  \n",
       "0    acquisition vs baseline (3s)    not significant  \n",
       "1    acquisition vs baseline (3s)    not significant  \n",
       "2    acquisition vs baseline (3s)          increases  \n",
       "3    acquisition vs baseline (3s)    not significant  \n",
       "4    acquisition vs baseline (3s)    not significant  \n",
       "..                            ...                ...  \n",
       "210  acquisition vs baseline (3s)    not significant  \n",
       "211  acquisition vs baseline (3s)    not significant  \n",
       "212  acquisition vs baseline (3s)    not significant  \n",
       "213  acquisition vs baseline (3s)    not significant  \n",
       "214  acquisition vs baseline (3s)    not significant  \n",
       "\n",
       "[215 rows x 11 columns]"
      ]
     },
     "execution_count": 270,
     "metadata": {},
     "output_type": "execute_result"
    }
   ],
   "source": [
    "phase2_collection.wilcox_dfs\n",
    "df_list = []\n",
    "for comparison in ['novel vs baseline (3s)', 'cagemate vs baseline (3s)', 'recall vs baseline (3s)', 'acquisition vs baseline (3s)']:\n",
    "    df = phase2_collection.wilcox_dfs[comparison]\n",
    "    df_list.append(df)\n",
    "\n",
    "is_first = True \n",
    "for df in df_list:\n",
    "    if is_first:\n",
    "        master_df = df[['Subject', 'Recording', 'original unit id', \n",
    "                            'Event','event1 vs event2']]\n",
    "        is_first = False\n",
    "    else: \n",
    "        temp_df = df[['Subject', 'Recording', 'original unit id', \n",
    "                            'Event', 'event1 vs event2']]\n",
    "        master_df = master_df.merge(temp_df,  on=['Subject', 'Recording', 'original unit id'], how = 'left')\n",
    "    \n",
    "master_df "
   ]
  },
  {
   "cell_type": "code",
   "execution_count": 271,
   "metadata": {},
   "outputs": [
    {
     "data": {
      "text/html": [
       "<div>\n",
       "<style scoped>\n",
       "    .dataframe tbody tr th:only-of-type {\n",
       "        vertical-align: middle;\n",
       "    }\n",
       "\n",
       "    .dataframe tbody tr th {\n",
       "        vertical-align: top;\n",
       "    }\n",
       "\n",
       "    .dataframe thead th {\n",
       "        text-align: right;\n",
       "    }\n",
       "</style>\n",
       "<table border=\"1\" class=\"dataframe\">\n",
       "  <thead>\n",
       "    <tr style=\"text-align: right;\">\n",
       "      <th></th>\n",
       "      <th>original unit id</th>\n",
       "      <th>novel vs baseline (3s)</th>\n",
       "      <th>cagemate vs baseline (3s)</th>\n",
       "      <th>familiar vs baseline (3s)</th>\n",
       "      <th>acquisition vs baseline (3s)</th>\n",
       "    </tr>\n",
       "  </thead>\n",
       "  <tbody>\n",
       "    <tr>\n",
       "      <th>0</th>\n",
       "      <td>196</td>\n",
       "      <td>not significant</td>\n",
       "      <td>not significant</td>\n",
       "      <td>not significant</td>\n",
       "      <td>not significant</td>\n",
       "    </tr>\n",
       "    <tr>\n",
       "      <th>1</th>\n",
       "      <td>91</td>\n",
       "      <td>not significant</td>\n",
       "      <td>not significant</td>\n",
       "      <td>not significant</td>\n",
       "      <td>not significant</td>\n",
       "    </tr>\n",
       "    <tr>\n",
       "      <th>2</th>\n",
       "      <td>267</td>\n",
       "      <td>not significant</td>\n",
       "      <td>not significant</td>\n",
       "      <td>not significant</td>\n",
       "      <td>increases</td>\n",
       "    </tr>\n",
       "    <tr>\n",
       "      <th>3</th>\n",
       "      <td>136</td>\n",
       "      <td>not significant</td>\n",
       "      <td>not significant</td>\n",
       "      <td>not significant</td>\n",
       "      <td>not significant</td>\n",
       "    </tr>\n",
       "    <tr>\n",
       "      <th>4</th>\n",
       "      <td>79</td>\n",
       "      <td>not significant</td>\n",
       "      <td>not significant</td>\n",
       "      <td>not significant</td>\n",
       "      <td>not significant</td>\n",
       "    </tr>\n",
       "    <tr>\n",
       "      <th>...</th>\n",
       "      <td>...</td>\n",
       "      <td>...</td>\n",
       "      <td>...</td>\n",
       "      <td>...</td>\n",
       "      <td>...</td>\n",
       "    </tr>\n",
       "    <tr>\n",
       "      <th>210</th>\n",
       "      <td>101</td>\n",
       "      <td>not significant</td>\n",
       "      <td>not significant</td>\n",
       "      <td>not significant</td>\n",
       "      <td>not significant</td>\n",
       "    </tr>\n",
       "    <tr>\n",
       "      <th>211</th>\n",
       "      <td>50</td>\n",
       "      <td>increases</td>\n",
       "      <td>increases</td>\n",
       "      <td>increases</td>\n",
       "      <td>not significant</td>\n",
       "    </tr>\n",
       "    <tr>\n",
       "      <th>212</th>\n",
       "      <td>74</td>\n",
       "      <td>not significant</td>\n",
       "      <td>not significant</td>\n",
       "      <td>decreases</td>\n",
       "      <td>not significant</td>\n",
       "    </tr>\n",
       "    <tr>\n",
       "      <th>213</th>\n",
       "      <td>107</td>\n",
       "      <td>not significant</td>\n",
       "      <td>not significant</td>\n",
       "      <td>not significant</td>\n",
       "      <td>not significant</td>\n",
       "    </tr>\n",
       "    <tr>\n",
       "      <th>214</th>\n",
       "      <td>53</td>\n",
       "      <td>not significant</td>\n",
       "      <td>increases</td>\n",
       "      <td>increases</td>\n",
       "      <td>not significant</td>\n",
       "    </tr>\n",
       "  </tbody>\n",
       "</table>\n",
       "<p>215 rows × 5 columns</p>\n",
       "</div>"
      ],
      "text/plain": [
       "     original unit id novel vs baseline (3s) cagemate vs baseline (3s)  \\\n",
       "0                 196        not significant           not significant   \n",
       "1                  91        not significant           not significant   \n",
       "2                 267        not significant           not significant   \n",
       "3                 136        not significant           not significant   \n",
       "4                  79        not significant           not significant   \n",
       "..                ...                    ...                       ...   \n",
       "210               101        not significant           not significant   \n",
       "211                50              increases                 increases   \n",
       "212                74        not significant           not significant   \n",
       "213               107        not significant           not significant   \n",
       "214                53        not significant                 increases   \n",
       "\n",
       "    familiar vs baseline (3s) acquisition vs baseline (3s)  \n",
       "0             not significant              not significant  \n",
       "1             not significant              not significant  \n",
       "2             not significant                    increases  \n",
       "3             not significant              not significant  \n",
       "4             not significant              not significant  \n",
       "..                        ...                          ...  \n",
       "210           not significant              not significant  \n",
       "211                 increases              not significant  \n",
       "212                 decreases              not significant  \n",
       "213           not significant              not significant  \n",
       "214                 increases              not significant  \n",
       "\n",
       "[215 rows x 5 columns]"
      ]
     },
     "execution_count": 271,
     "metadata": {},
     "output_type": "execute_result"
    }
   ],
   "source": [
    "master_df.columns = ['Subject',\n",
    " 'Recording',\n",
    " 'original unit id',\n",
    " 'Event_x',\n",
    " 'novel vs baseline (3s)',\n",
    " 'Event_y',\n",
    " 'cagemate vs baseline (3s)',\n",
    " 'Event_x',\n",
    " 'familiar vs baseline (3s)',\n",
    " 'Event_y',\n",
    " 'acquisition vs baseline (3s)']\n",
    "master_df = master_df[['original unit id',\n",
    " 'novel vs baseline (3s)',\n",
    " 'cagemate vs baseline (3s)',\n",
    " 'familiar vs baseline (3s)',\n",
    " 'acquisition vs baseline (3s)']]\n",
    "master_df"
   ]
  },
  {
   "cell_type": "code",
   "execution_count": 272,
   "metadata": {},
   "outputs": [
    {
     "name": "stderr",
     "output_type": "stream",
     "text": [
      "C:\\Users\\megha\\AppData\\Local\\Temp\\ipykernel_22664\\1631250975.py:13: SettingWithCopyWarning: \n",
      "A value is trying to be set on a copy of a slice from a DataFrame.\n",
      "Try using .loc[row_indexer,col_indexer] = value instead\n",
      "\n",
      "See the caveats in the documentation: https://pandas.pydata.org/pandas-docs/stable/user_guide/indexing.html#returning-a-view-versus-a-copy\n",
      "  master_df['cell group'] = master_df.apply(lambda row: group_cells(row['novel vs baseline (3s)'],\n"
     ]
    },
    {
     "data": {
      "text/html": [
       "<div>\n",
       "<style scoped>\n",
       "    .dataframe tbody tr th:only-of-type {\n",
       "        vertical-align: middle;\n",
       "    }\n",
       "\n",
       "    .dataframe tbody tr th {\n",
       "        vertical-align: top;\n",
       "    }\n",
       "\n",
       "    .dataframe thead th {\n",
       "        text-align: right;\n",
       "    }\n",
       "</style>\n",
       "<table border=\"1\" class=\"dataframe\">\n",
       "  <thead>\n",
       "    <tr style=\"text-align: right;\">\n",
       "      <th></th>\n",
       "      <th>original unit id</th>\n",
       "      <th>novel vs baseline (3s)</th>\n",
       "      <th>cagemate vs baseline (3s)</th>\n",
       "      <th>familiar vs baseline (3s)</th>\n",
       "      <th>acquisition vs baseline (3s)</th>\n",
       "    </tr>\n",
       "    <tr>\n",
       "      <th>cell group</th>\n",
       "      <th></th>\n",
       "      <th></th>\n",
       "      <th></th>\n",
       "      <th></th>\n",
       "      <th></th>\n",
       "    </tr>\n",
       "  </thead>\n",
       "  <tbody>\n",
       "    <tr>\n",
       "      <th></th>\n",
       "      <td>69</td>\n",
       "      <td>69</td>\n",
       "      <td>69</td>\n",
       "      <td>69</td>\n",
       "      <td>69</td>\n",
       "    </tr>\n",
       "    <tr>\n",
       "      <th>acquisition</th>\n",
       "      <td>4</td>\n",
       "      <td>4</td>\n",
       "      <td>4</td>\n",
       "      <td>4</td>\n",
       "      <td>4</td>\n",
       "    </tr>\n",
       "    <tr>\n",
       "      <th>cagemate</th>\n",
       "      <td>18</td>\n",
       "      <td>18</td>\n",
       "      <td>18</td>\n",
       "      <td>18</td>\n",
       "      <td>18</td>\n",
       "    </tr>\n",
       "    <tr>\n",
       "      <th>cagemateacquisition</th>\n",
       "      <td>6</td>\n",
       "      <td>6</td>\n",
       "      <td>6</td>\n",
       "      <td>6</td>\n",
       "      <td>6</td>\n",
       "    </tr>\n",
       "    <tr>\n",
       "      <th>cagematefam</th>\n",
       "      <td>13</td>\n",
       "      <td>13</td>\n",
       "      <td>13</td>\n",
       "      <td>13</td>\n",
       "      <td>13</td>\n",
       "    </tr>\n",
       "    <tr>\n",
       "      <th>cagematefamacquisition</th>\n",
       "      <td>3</td>\n",
       "      <td>3</td>\n",
       "      <td>3</td>\n",
       "      <td>3</td>\n",
       "      <td>3</td>\n",
       "    </tr>\n",
       "    <tr>\n",
       "      <th>fam</th>\n",
       "      <td>15</td>\n",
       "      <td>15</td>\n",
       "      <td>15</td>\n",
       "      <td>15</td>\n",
       "      <td>15</td>\n",
       "    </tr>\n",
       "    <tr>\n",
       "      <th>famacquisition</th>\n",
       "      <td>3</td>\n",
       "      <td>3</td>\n",
       "      <td>3</td>\n",
       "      <td>3</td>\n",
       "      <td>3</td>\n",
       "    </tr>\n",
       "    <tr>\n",
       "      <th>novel</th>\n",
       "      <td>6</td>\n",
       "      <td>6</td>\n",
       "      <td>6</td>\n",
       "      <td>6</td>\n",
       "      <td>6</td>\n",
       "    </tr>\n",
       "    <tr>\n",
       "      <th>novelacquisition</th>\n",
       "      <td>3</td>\n",
       "      <td>3</td>\n",
       "      <td>3</td>\n",
       "      <td>3</td>\n",
       "      <td>3</td>\n",
       "    </tr>\n",
       "    <tr>\n",
       "      <th>novelcagemate</th>\n",
       "      <td>14</td>\n",
       "      <td>14</td>\n",
       "      <td>14</td>\n",
       "      <td>14</td>\n",
       "      <td>14</td>\n",
       "    </tr>\n",
       "    <tr>\n",
       "      <th>novelcagemateacquisition</th>\n",
       "      <td>3</td>\n",
       "      <td>3</td>\n",
       "      <td>3</td>\n",
       "      <td>3</td>\n",
       "      <td>3</td>\n",
       "    </tr>\n",
       "    <tr>\n",
       "      <th>novelcagematefam</th>\n",
       "      <td>35</td>\n",
       "      <td>35</td>\n",
       "      <td>35</td>\n",
       "      <td>35</td>\n",
       "      <td>35</td>\n",
       "    </tr>\n",
       "    <tr>\n",
       "      <th>novelcagematefamacquisition</th>\n",
       "      <td>10</td>\n",
       "      <td>10</td>\n",
       "      <td>10</td>\n",
       "      <td>10</td>\n",
       "      <td>10</td>\n",
       "    </tr>\n",
       "    <tr>\n",
       "      <th>novelfam</th>\n",
       "      <td>13</td>\n",
       "      <td>13</td>\n",
       "      <td>13</td>\n",
       "      <td>13</td>\n",
       "      <td>13</td>\n",
       "    </tr>\n",
       "  </tbody>\n",
       "</table>\n",
       "</div>"
      ],
      "text/plain": [
       "                             original unit id  novel vs baseline (3s)  \\\n",
       "cell group                                                              \n",
       "                                           69                      69   \n",
       "acquisition                                 4                       4   \n",
       "cagemate                                   18                      18   \n",
       "cagemateacquisition                         6                       6   \n",
       "cagematefam                                13                      13   \n",
       "cagematefamacquisition                      3                       3   \n",
       "fam                                        15                      15   \n",
       "famacquisition                              3                       3   \n",
       "novel                                       6                       6   \n",
       "novelacquisition                            3                       3   \n",
       "novelcagemate                              14                      14   \n",
       "novelcagemateacquisition                    3                       3   \n",
       "novelcagematefam                           35                      35   \n",
       "novelcagematefamacquisition                10                      10   \n",
       "novelfam                                   13                      13   \n",
       "\n",
       "                             cagemate vs baseline (3s)  \\\n",
       "cell group                                               \n",
       "                                                    69   \n",
       "acquisition                                          4   \n",
       "cagemate                                            18   \n",
       "cagemateacquisition                                  6   \n",
       "cagematefam                                         13   \n",
       "cagematefamacquisition                               3   \n",
       "fam                                                 15   \n",
       "famacquisition                                       3   \n",
       "novel                                                6   \n",
       "novelacquisition                                     3   \n",
       "novelcagemate                                       14   \n",
       "novelcagemateacquisition                             3   \n",
       "novelcagematefam                                    35   \n",
       "novelcagematefamacquisition                         10   \n",
       "novelfam                                            13   \n",
       "\n",
       "                             familiar vs baseline (3s)  \\\n",
       "cell group                                               \n",
       "                                                    69   \n",
       "acquisition                                          4   \n",
       "cagemate                                            18   \n",
       "cagemateacquisition                                  6   \n",
       "cagematefam                                         13   \n",
       "cagematefamacquisition                               3   \n",
       "fam                                                 15   \n",
       "famacquisition                                       3   \n",
       "novel                                                6   \n",
       "novelacquisition                                     3   \n",
       "novelcagemate                                       14   \n",
       "novelcagemateacquisition                             3   \n",
       "novelcagematefam                                    35   \n",
       "novelcagematefamacquisition                         10   \n",
       "novelfam                                            13   \n",
       "\n",
       "                             acquisition vs baseline (3s)  \n",
       "cell group                                                 \n",
       "                                                       69  \n",
       "acquisition                                             4  \n",
       "cagemate                                               18  \n",
       "cagemateacquisition                                     6  \n",
       "cagematefam                                            13  \n",
       "cagematefamacquisition                                  3  \n",
       "fam                                                    15  \n",
       "famacquisition                                          3  \n",
       "novel                                                   6  \n",
       "novelacquisition                                        3  \n",
       "novelcagemate                                          14  \n",
       "novelcagemateacquisition                                3  \n",
       "novelcagematefam                                       35  \n",
       "novelcagematefamacquisition                            10  \n",
       "novelfam                                               13  "
      ]
     },
     "execution_count": 272,
     "metadata": {},
     "output_type": "execute_result"
    }
   ],
   "source": [
    "def group_cells(novel, cagemate, fam, acquisition):\n",
    "    group = ''\n",
    "    if novel != 'not significant':\n",
    "        group = 'novel'\n",
    "    if cagemate != 'not significant':\n",
    "        group = group + 'cagemate' \n",
    "    if fam != 'not significant':\n",
    "        group = group + 'fam'\n",
    "    if acquisition != 'not significant':\n",
    "        group = group + 'acquisition'\n",
    "    return group\n",
    "\n",
    "master_df['cell group'] = master_df.apply(lambda row: group_cells(row['novel vs baseline (3s)'],\n",
    "                                                                  row['cagemate vs baseline (3s)'],\n",
    "                                                                  row['familiar vs baseline (3s)'],\n",
    "                                                                  row['acquisition vs baseline (3s)']), axis = 1)\n",
    "results = master_df.groupby('cell group').count()\n",
    "results"
   ]
  },
  {
   "cell_type": "code",
   "execution_count": 277,
   "metadata": {},
   "outputs": [
    {
     "data": {
      "text/html": [
       "<div>\n",
       "<style scoped>\n",
       "    .dataframe tbody tr th:only-of-type {\n",
       "        vertical-align: middle;\n",
       "    }\n",
       "\n",
       "    .dataframe tbody tr th {\n",
       "        vertical-align: top;\n",
       "    }\n",
       "\n",
       "    .dataframe thead th {\n",
       "        text-align: right;\n",
       "    }\n",
       "</style>\n",
       "<table border=\"1\" class=\"dataframe\">\n",
       "  <thead>\n",
       "    <tr style=\"text-align: right;\">\n",
       "      <th></th>\n",
       "      <th>original unit id</th>\n",
       "      <th>novel vs baseline (3s)</th>\n",
       "      <th>cagemate vs baseline (3s)</th>\n",
       "      <th>familiar vs baseline (3s)</th>\n",
       "      <th>acquisition vs baseline (3s)</th>\n",
       "      <th>cell group</th>\n",
       "    </tr>\n",
       "  </thead>\n",
       "  <tbody>\n",
       "    <tr>\n",
       "      <th>12</th>\n",
       "      <td>173</td>\n",
       "      <td>increases</td>\n",
       "      <td>increases</td>\n",
       "      <td>not significant</td>\n",
       "      <td>not significant</td>\n",
       "      <td>novelcagemate</td>\n",
       "    </tr>\n",
       "    <tr>\n",
       "      <th>45</th>\n",
       "      <td>35</td>\n",
       "      <td>decreases</td>\n",
       "      <td>decreases</td>\n",
       "      <td>not significant</td>\n",
       "      <td>not significant</td>\n",
       "      <td>novelcagemate</td>\n",
       "    </tr>\n",
       "    <tr>\n",
       "      <th>58</th>\n",
       "      <td>183</td>\n",
       "      <td>increases</td>\n",
       "      <td>increases</td>\n",
       "      <td>not significant</td>\n",
       "      <td>not significant</td>\n",
       "      <td>novelcagemate</td>\n",
       "    </tr>\n",
       "    <tr>\n",
       "      <th>70</th>\n",
       "      <td>34</td>\n",
       "      <td>decreases</td>\n",
       "      <td>decreases</td>\n",
       "      <td>not significant</td>\n",
       "      <td>not significant</td>\n",
       "      <td>novelcagemate</td>\n",
       "    </tr>\n",
       "    <tr>\n",
       "      <th>97</th>\n",
       "      <td>33</td>\n",
       "      <td>increases</td>\n",
       "      <td>decreases</td>\n",
       "      <td>not significant</td>\n",
       "      <td>not significant</td>\n",
       "      <td>novelcagemate</td>\n",
       "    </tr>\n",
       "    <tr>\n",
       "      <th>104</th>\n",
       "      <td>126</td>\n",
       "      <td>increases</td>\n",
       "      <td>decreases</td>\n",
       "      <td>not significant</td>\n",
       "      <td>not significant</td>\n",
       "      <td>novelcagemate</td>\n",
       "    </tr>\n",
       "    <tr>\n",
       "      <th>107</th>\n",
       "      <td>28</td>\n",
       "      <td>decreases</td>\n",
       "      <td>decreases</td>\n",
       "      <td>not significant</td>\n",
       "      <td>not significant</td>\n",
       "      <td>novelcagemate</td>\n",
       "    </tr>\n",
       "    <tr>\n",
       "      <th>136</th>\n",
       "      <td>20</td>\n",
       "      <td>increases</td>\n",
       "      <td>increases</td>\n",
       "      <td>not significant</td>\n",
       "      <td>not significant</td>\n",
       "      <td>novelcagemate</td>\n",
       "    </tr>\n",
       "    <tr>\n",
       "      <th>142</th>\n",
       "      <td>41</td>\n",
       "      <td>decreases</td>\n",
       "      <td>decreases</td>\n",
       "      <td>not significant</td>\n",
       "      <td>not significant</td>\n",
       "      <td>novelcagemate</td>\n",
       "    </tr>\n",
       "    <tr>\n",
       "      <th>151</th>\n",
       "      <td>113</td>\n",
       "      <td>decreases</td>\n",
       "      <td>decreases</td>\n",
       "      <td>not significant</td>\n",
       "      <td>not significant</td>\n",
       "      <td>novelcagemate</td>\n",
       "    </tr>\n",
       "    <tr>\n",
       "      <th>158</th>\n",
       "      <td>12</td>\n",
       "      <td>increases</td>\n",
       "      <td>increases</td>\n",
       "      <td>not significant</td>\n",
       "      <td>not significant</td>\n",
       "      <td>novelcagemate</td>\n",
       "    </tr>\n",
       "    <tr>\n",
       "      <th>164</th>\n",
       "      <td>80</td>\n",
       "      <td>decreases</td>\n",
       "      <td>decreases</td>\n",
       "      <td>not significant</td>\n",
       "      <td>not significant</td>\n",
       "      <td>novelcagemate</td>\n",
       "    </tr>\n",
       "    <tr>\n",
       "      <th>198</th>\n",
       "      <td>144</td>\n",
       "      <td>decreases</td>\n",
       "      <td>decreases</td>\n",
       "      <td>not significant</td>\n",
       "      <td>not significant</td>\n",
       "      <td>novelcagemate</td>\n",
       "    </tr>\n",
       "    <tr>\n",
       "      <th>206</th>\n",
       "      <td>139</td>\n",
       "      <td>decreases</td>\n",
       "      <td>decreases</td>\n",
       "      <td>not significant</td>\n",
       "      <td>not significant</td>\n",
       "      <td>novelcagemate</td>\n",
       "    </tr>\n",
       "  </tbody>\n",
       "</table>\n",
       "</div>"
      ],
      "text/plain": [
       "     original unit id novel vs baseline (3s) cagemate vs baseline (3s)  \\\n",
       "12                173              increases                 increases   \n",
       "45                 35              decreases                 decreases   \n",
       "58                183              increases                 increases   \n",
       "70                 34              decreases                 decreases   \n",
       "97                 33              increases                 decreases   \n",
       "104               126              increases                 decreases   \n",
       "107                28              decreases                 decreases   \n",
       "136                20              increases                 increases   \n",
       "142                41              decreases                 decreases   \n",
       "151               113              decreases                 decreases   \n",
       "158                12              increases                 increases   \n",
       "164                80              decreases                 decreases   \n",
       "198               144              decreases                 decreases   \n",
       "206               139              decreases                 decreases   \n",
       "\n",
       "    familiar vs baseline (3s) acquisition vs baseline (3s)     cell group  \n",
       "12            not significant              not significant  novelcagemate  \n",
       "45            not significant              not significant  novelcagemate  \n",
       "58            not significant              not significant  novelcagemate  \n",
       "70            not significant              not significant  novelcagemate  \n",
       "97            not significant              not significant  novelcagemate  \n",
       "104           not significant              not significant  novelcagemate  \n",
       "107           not significant              not significant  novelcagemate  \n",
       "136           not significant              not significant  novelcagemate  \n",
       "142           not significant              not significant  novelcagemate  \n",
       "151           not significant              not significant  novelcagemate  \n",
       "158           not significant              not significant  novelcagemate  \n",
       "164           not significant              not significant  novelcagemate  \n",
       "198           not significant              not significant  novelcagemate  \n",
       "206           not significant              not significant  novelcagemate  "
      ]
     },
     "execution_count": 277,
     "metadata": {},
     "output_type": "execute_result"
    }
   ],
   "source": [
    "master_df[master_df['cell group'] == 'novelcagemate']\n"
   ]
  },
  {
   "cell_type": "code",
   "execution_count": 222,
   "metadata": {},
   "outputs": [
    {
     "ename": "NameError",
     "evalue": "name 'plt' is not defined",
     "output_type": "error",
     "traceback": [
      "\u001b[1;31m---------------------------------------------------------------------------\u001b[0m",
      "\u001b[1;31mNameError\u001b[0m                                 Traceback (most recent call last)",
      "Cell \u001b[1;32mIn[222], line 18\u001b[0m\n\u001b[0;32m      5\u001b[0m venn3(subsets\u001b[39m=\u001b[39moverlap_counts, set_labels\u001b[39m=\u001b[39m(\u001b[39m'\u001b[39m\u001b[39mCagemate\u001b[39m\u001b[39m'\u001b[39m, \u001b[39m'\u001b[39m\u001b[39mFamiliar\u001b[39m\u001b[39m'\u001b[39m, \u001b[39m'\u001b[39m\u001b[39mNovel\u001b[39m\u001b[39m'\u001b[39m))\n\u001b[0;32m      7\u001b[0m \u001b[39m# Add labels\u001b[39;00m\n\u001b[0;32m      8\u001b[0m \u001b[39m# plt.text(0.35, 0.7, 'A', fontsize=12, va='center')\u001b[39;00m\n\u001b[0;32m      9\u001b[0m \u001b[39m# plt.text(0.7, 0.7, 'B', fontsize=12, va='center')\u001b[39;00m\n\u001b[1;32m   (...)\u001b[0m\n\u001b[0;32m     16\u001b[0m \n\u001b[0;32m     17\u001b[0m \u001b[39m# Display the Venn diagram\u001b[39;00m\n\u001b[1;32m---> 18\u001b[0m plt\u001b[39m.\u001b[39mtitle(\u001b[39m'\u001b[39m\u001b[39mThree-Set Venn Diagram\u001b[39m\u001b[39m'\u001b[39m)\n\u001b[0;32m     19\u001b[0m plt\u001b[39m.\u001b[39mshow()\n",
      "\u001b[1;31mNameError\u001b[0m: name 'plt' is not defined"
     ]
    },
    {
     "data": {
      "image/png": "[encoded data removed]",
      "text/plain": [
       "<Figure size 640x480 with 1 Axes>"
      ]
     },
     "metadata": {},
     "output_type": "display_data"
    }
   ],
   "source": [
    "# Define the sets (you can replace these with your own data)\n",
    "overlap_counts = (39, 35, 7, 27, 8, 6, 16)\n",
    "\n",
    "# Create the Venn diagram\n",
    "venn3(subsets=overlap_counts, set_labels=('Cagemate', 'Familiar', 'Novel'))\n",
    "\n",
    "# Add labels\n",
    "# plt.text(0.35, 0.7, 'A', fontsize=12, va='center')\n",
    "# plt.text(0.7, 0.7, 'B', fontsize=12, va='center')\n",
    "# plt.text(0.5, 0.3, 'C', fontsize=12, va='center')\n",
    "# plt.text(0.85, 0.3, 'E', fontsize=12, va='center')\n",
    "# plt.text(0.57, 0.45, 'D', fontsize=12, va='center')\n",
    "# plt.text(0.65, 0.15, 'F', fontsize=12, va='center')\n",
    "# plt.text(0.75, 0.6, 'G', fontsize=12, va='center')\n",
    "# plt.text(0.45, 0.15, 'H', fontsize=12, va='center')\n",
    "\n",
    "# Display the Venn diagram\n",
    "plt.title('Three-Set Venn Diagram')\n",
    "plt.show()"
   ]
  },
  {
   "cell_type": "code",
   "execution_count": null,
   "metadata": {},
   "outputs": [],
   "source": []
  }
 ],
 "metadata": {
  "kernelspec": {
   "display_name": "ephys_analysis",
   "language": "python",
   "name": "python3"
  },
  "language_info": {
   "codemirror_mode": {
    "name": "ipython",
    "version": 3
   },
   "file_extension": ".py",
   "mimetype": "text/x-python",
   "name": "python",
   "nbconvert_exporter": "python",
   "pygments_lexer": "ipython3",
   "version": "3.10.9"
  },
  "orig_nbformat": 4
 },
 "nbformat": 4,
 "nbformat_minor": 2
}
