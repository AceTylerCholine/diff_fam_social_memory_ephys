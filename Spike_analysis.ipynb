{
 "cells": [
  {
   "cell_type": "code",
   "execution_count": 1,
   "id": "64bc7736-5f17-4558-831d-cd609288bc5b",
   "metadata": {},
   "outputs": [],
   "source": [
    "import numpy as np\n",
    "import os\n",
    "import csv\n",
    "import matplotlib.pyplot as plt\n",
    "from scipy.signal import convolve\n",
    "from scipy.signal import savgol_filter\n",
    "import math\n",
    "import boris_extraction as boris\n",
    "import pandas as pd\n",
    "from scipy.stats import sem"
   ]
  },
  {
   "cell_type": "code",
   "execution_count": 46,
   "id": "fbcc79cf-0be4-4dea-9328-16dc2d45cdc8",
   "metadata": {},
   "outputs": [],
   "source": [
    "\n",
    "def get_spike_specs(path):\n",
    "    \n",
    "    \"\"\"\n",
    "    imports a spike_time and spike_unit from phy folder\n",
    "    deletes spikes from units labeled noise in unit and timestamp array\n",
    "    \n",
    "    Args (1):\n",
    "        path: path to phy folder\n",
    "        path format: './folder/folder/phy'\n",
    "    \n",
    "    Returns (2):\n",
    "        timestamps: numpy array of spike timestamps relative to sampling rate\n",
    "        unit_array: numpy array of unit ids relative to timestamp array \n",
    "    \"\"\"\n",
    "    \n",
    "    timestamps = 'spike_times.npy'\n",
    "    unit = 'spike_clusters.npy'\n",
    "    labels_dict = get_unit_labels(path)\n",
    "    \n",
    "    timestamps = np.load(os.path.join(path, timestamps))\n",
    "    unit_array = np.load(os.path.join(path, unit))\n",
    "   \n",
    "    spikes_to_delete = []\n",
    "   \n",
    "    for spike in range(len(timestamps)): \n",
    "        if labels_dict[unit_array[spike].astype(str)] == 'noise':\n",
    "                spikes_to_delete.append(spike)\n",
    "        if spike != 0:\n",
    "            if timestamps[spike - 1] == timestamps[spike]:\n",
    "                print('2 spikes in a sampling')\n",
    "                \n",
    "    timestamps = np.delete(timestamps, spikes_to_delete)\n",
    "    unit_array = np.delete(unit_array, spikes_to_delete)\n",
    "    \n",
    "    return timestamps, unit_array\n",
    "\n",
    "def get_unit_labels(path):\n",
    "    \"\"\"\n",
    "    creates a dictionary with unit id as key and label as value\n",
    "    labels: good, mua, noise \n",
    "    \n",
    "    Arg (1):\n",
    "        path: path to phy folder\n",
    "        \n",
    "    Return (1):\n",
    "        labels_dict: dict, unit ids (str): label (str)\n",
    "    \"\"\"\n",
    "    \n",
    "    labels = 'cluster_group.tsv'\n",
    "    with open(os.path.join(path, labels), 'r') as f:\n",
    "        reader = csv.DictReader(f, delimiter='\\t')\n",
    "        labels_dict = {row['cluster_id']: row['group'] for row in reader}\n",
    "        \n",
    "    return labels_dict\n",
    "\n",
    "def get_unit_timestamps(timestamp_array, unit_array):\n",
    "    \"\"\"\n",
    "    creates a dictionary of units to spikes\n",
    "    values are spike timestamp arrays associated with the unit as key\n",
    "    no noise units are included\n",
    "    \n",
    "    Arg(2):\n",
    "        timestamp_array: numpy array, spike timestamps\n",
    "        unit_array: numpy array, unit ids associated with spikes\n",
    "    \n",
    "    Return (1):\n",
    "        timestamp_dict: dict, unit id (int) as keys, spike timestamps (numpy array) as values \n",
    "    \"\"\"\n",
    "    \n",
    "    timestamp_dict = {}\n",
    "    for spike in range(len(timestamp_array)): \n",
    "        if unit_array[spike] in timestamp_dict.keys():\n",
    "            timestamp_list = timestamp_dict[unit_array[spike]] \n",
    "            timestamp_list = np.append(timestamp_list, timestamp_array[spike])\n",
    "            timestamp_dict[unit_array[spike]] = timestamp_list\n",
    "        else:\n",
    "            timestamp_dict[unit_array[spike]] = timestamp_array[spike]\n",
    "    \n",
    "    return timestamp_dict\n",
    "\n",
    "    \n",
    "def get_spiketrain(timestamp_array, recording_length, sampling_rate = 20000):\n",
    "    \"\"\"\n",
    "    creates a spiketrain of ms time bins \n",
    "    each array element is the number of spikes recorded per ms\n",
    "    if recording (timestamp_array) is longer than the recording_length given,\n",
    "    the amount of dropped data will be printed in a message\n",
    "    \n",
    "    \n",
    "    Args (3, 2 required):\n",
    "        timestamp_array: numpy array, spike timestamp array\n",
    "        recording_length: int, length of recording (min)\n",
    "        sampling_rate: int, default=20000, sampling rate of ephys recording\n",
    "        \n",
    "    Returns:\n",
    "        spiketrain_ms_timebins: a numpy array \n",
    "            array elements are number of spikes per ms \n",
    "    \"\"\"\n",
    "    \n",
    "    recording_length = recording_length * 60 * sampling_rate\n",
    "    hz_to_ms = int(sampling_rate*.001)\n",
    "    spiketrain = np.zeros(recording_length + 1)\n",
    "    for i in range(len(timestamp_array)):\n",
    "        try:\n",
    "            spiketrain[timestamp_array[i]] = 1\n",
    "        except IndexError:\n",
    "            dropped_recording = (timestamp_array[-1] - recording_length)/20000\n",
    "            if dropped_recording > 0: \n",
    "                print(f\"you are dropping {dropped_recording} seconds of recorded data\")\n",
    "            else:\n",
    "                print(\"recording length is shorter than specified\")\n",
    "            break\n",
    "        \n",
    "    spiketrain_ms_timebins = np.zeros(math.floor(len(spiketrain)/hz_to_ms)) \n",
    "    ms_bin = 0\n",
    "    \n",
    "    for i in range(0, len(spiketrain), hz_to_ms):\n",
    "        try:\n",
    "            spiketrain_ms_timebins[ms_bin] = sum(spiketrain[i:i+hz_to_ms])\n",
    "            ms_bin += 1\n",
    "        except IndexError:\n",
    "            #should i pad?\n",
    "            pass\n",
    "\n",
    "    return spiketrain_ms_timebins\n",
    "        \n",
    "def get_firing_rate(spiketrain, smoothing_window = 250, timebin = 1):\n",
    "    \"\"\"\n",
    "    calculates firing rate (spikes/second)\n",
    "    \n",
    "    Args (3, 1 required):\n",
    "        spiketrain: numpy array, in 1 ms time bin\n",
    "        recording_length: int, length of recording (min)\n",
    "        smoothing_window: int, default = 250, smoothing average window (ms)\n",
    "            min smoothing_window = 1\n",
    "        timebin: int, default = 1, window (ms) of firing rates returned\n",
    "\n",
    "    Return (1):\n",
    "        firing_rate: numpy array of firing rates in timebin sized windows\n",
    "        \n",
    "    \"\"\" \n",
    "    \n",
    "    if timebin != 1:\n",
    "        current_timebin = 0\n",
    "        temp_spiketrain = np.zeros(math.ceil(len(spiketrain)/timebin))\n",
    "        for i in range(0, len(spiketrain), timebin):\n",
    "            try:\n",
    "                temp_spiketrain[current_timebin] = sum(spiketrain[i:i+timebin])\n",
    "                current_timebin += 1\n",
    "            except IndexError:\n",
    "                #should i pad here or just drop it? \n",
    "                temp_spiketrain[current_timebin] = sum(spiketrain[i:])\n",
    "        spiketrain = temp_spiketrain\n",
    "    firing_rate = np.empty(len(spiketrain) - smoothing_window)\n",
    "    rolling_sum = sum(spiketrain[0:smoothing_window])\n",
    "    for i in range(len(firing_rate)):\n",
    "        firing_rate[i] = rolling_sum / (smoothing_window * .001 * timebin)\n",
    "        rolling_sum = rolling_sum - spiketrain[i] + spiketrain[i+smoothing_window]\n",
    "        \n",
    "    return firing_rate\n",
    "\n",
    "def get_unit_spiketrains(labels_dict, spike_dict, recording_length, sampling_rate = 20000):  \n",
    "    \"\"\"\n",
    "    Creates a dictionary of spiketrains per good unit \n",
    "    where unit id is key and unit spike train is value\n",
    "    does not create spiketrains for mua's\n",
    "    \n",
    "    Args (4, 3 required):\n",
    "        labels_dict: dict, unit id for keys and labels for values\n",
    "        spike_dict: dict, unit id for keys and spike timestamps for values\n",
    "        recording_length: int, recording length in min\n",
    "        sampling_rate: int, default=20000, sampling rate of ephys recording\n",
    "        \n",
    "    Reutrn (1):\n",
    "        unit_spiketrains: dict, unit ids as keys and unit spiketrains (in 1 ms timebins)\n",
    "        \n",
    "    \"\"\"\n",
    "    unit_spiketrains = {}\n",
    "    \n",
    "    for unit in spike_dict.keys():\n",
    "        if labels_dict[str(unit)] == 'good':\n",
    "            unit_spiketrains[unit] = get_spiketrain(spike_dict[unit], recording_length, sampling_rate)\n",
    "            \n",
    "    return unit_spiketrains\n",
    "\n",
    "def get_unit_firing_rates(labels_dict, spike_dict, recording_length, smoothing_window = 250, timebin = 1, sampling_rate = 20000):  \n",
    "    \"\"\"\n",
    "    Calculates firing rates per unit \n",
    "    \n",
    "    Args (6, 3 required):\n",
    "        labels_dict:dict, unit id for keys and labels for values\n",
    "        spike_dict: dict, unit id for keys and spike timestamps for values\n",
    "        recording_length: int, recording length in min\n",
    "        smoothing_window: int, default = 250, smoothing average window (ms)\n",
    "            min smoothing_window = 1\n",
    "        timebin: int, default = 1, window (ms) of firing rates returned\n",
    "        sampling_rate: int, default=20000, sampling rate of ephys recording\n",
    "        \n",
    "    Return (1):\n",
    "        unit_firing_rates: dict, unit ids as keys and unit firing rates as values\n",
    "    \"\"\"\n",
    "    unit_firing_rates = {}\n",
    "    for unit in spike_dict.keys():\n",
    "        if labels_dict[str(unit)] == 'good':\n",
    "            spiketrain = get_spiketrain(spike_dict[unit], recording_length, sampling_rate)\n",
    "            unit_firing_rates[unit] = get_firing_rate(spiketrain, smoothing_window, timebin)\n",
    "        \n",
    "    return unit_firing_rates\n",
    "\n",
    "def get_event_spiketrains(events, timestamp_array, pre_window, post_window, recording_length, sampling_rate):\n",
    "    event_spiketrains = []\n",
    "    spiketrain = get_spiketrain(timestamp_array, recording_length, sampling_rate)\n",
    "    pre_window_ms = pre_window*1000\n",
    "    post_window_ms = post_window*1000\n",
    "    longest_event = 0\n",
    "    event_lengths = []\n",
    "    for i in range(events.shape[0]):\n",
    "        event_length = int(events[i][1] - events[i][0])\n",
    "        event_lengths.append(event_length)\n",
    "        if event_length > longest_event:\n",
    "            longest_event = event_length\n",
    "    for i in range(events.shape[0]):\n",
    "        event_diff = int(longest_event - event_lengths[i])\n",
    "        pre_event = int(events[i][0] - pre_window_ms)\n",
    "        post_event = int(events[i][1] + post_window_ms + event_diff)\n",
    "        event_spiketrain = spiketrain[pre_event:post_event]\n",
    "        event_spiketrains.append(event_spiketrain)\n",
    "    return event_spiketrains\n",
    "\n",
    "def get_event_firing_rates(events, timestamp_array, recording_length, smoothing_window = 250, timebin = 1,\n",
    "                           sampling_rate = 20000, pre_window = 0, post_window = 0, equalize = False):\n",
    "    #to do: write doc string, edit this to have optional same length bouts, \n",
    "    #eventually you will want up to two sec of sniff, and two seconds prior to sniff\n",
    "    \"\"\"\n",
    "    calculates firing rates for events\n",
    "    \n",
    "    Args (9, 3 required):\n",
    "        events:numpy array of [[start (ms), stop (ms)] x n events]\n",
    "        timestamp_array: numpy array of spike timestamps in 1 ms windows \n",
    "        recording_length: int, length of recording (min)\n",
    "        smoothing_window: int, default = 250, smoothing average window (ms)\n",
    "            min smoothing_window = 1 \n",
    "        timebin: int, default 1, timebin in ms for firing rate array\n",
    "        sampling_rate: int, default=20000, sampling rate of ephys recording\n",
    "        pre_window: int, default = 0, seconds prior to start of event returned\n",
    "        post_window: int, default = 0, seconds after end of event returned\n",
    "        equalize: Boolean, default False, if True, equalizes lengths of each event to longest event\n",
    "        \n",
    "    Return (1):\n",
    "        event_firing_rates: lst of numpy arrays of firing rates \n",
    "    \"\"\"\n",
    "    event_firing_rates = []\n",
    "    spiketrain = get_spiketrain(timestamp_array, recording_length, sampling_rate)\n",
    "    pre_window_ms = pre_window*1000\n",
    "    post_window_ms = post_window*1000\n",
    "    if equalize:\n",
    "        longest_event = 0\n",
    "        event_lengths = []\n",
    "        for i in range(events.shape[0]):\n",
    "            event_length = int(events[i][1] - events[i][0])\n",
    "            event_lengths.append(event_length)\n",
    "            if event_length > longest_event:\n",
    "                longest_event = event_length\n",
    "    for i in range(events.shape[0]):\n",
    "        if equalize:\n",
    "            event_diff = int(longest_event - event_lengths[i])\n",
    "        else:\n",
    "            event_diff = 0\n",
    "        pre_event = int(events[i][0] - pre_window_ms)\n",
    "        post_event = int(events[i][1] + post_window_ms + event_diff)\n",
    "        event_spiketrain = spiketrain[pre_event:post_event]\n",
    "        event_firing_rate = get_firing_rate(event_spiketrain)\n",
    "        event_firing_rates.append(event_firing_rate)\n",
    "    return event_firing_rates\n"
   ]
  },
  {
   "cell_type": "code",
   "execution_count": 40,
   "id": "2d57200b-4e6c-4a7a-88f0-3436adcd81af",
   "metadata": {},
   "outputs": [],
   "source": [
    "fam_path = '.\\\\proc_old_backup\\\\20221219_114535_6_1_fam_merged.rec\\\\phy'\n",
    "boris_df = pd.read_excel('C:\\\\Users\\\\Padilla-Coreano\\\\Documents\\\\meg\\\\social_memory_ephys\\\\annotated_behavior_cagfamnov.xlsx')\n",
    "fam_df = boris_df[boris_df['Observation id'] == 'familiar_6_1_06282023']\n",
    "cagemate_df = boris_df[boris_df['Observation id'] == 'cagemate_6_1_06282023']\n",
    "novel_df = boris_df[boris_df['Observation id'] == 'novel_6_1_06282023']"
   ]
  },
  {
   "cell_type": "code",
   "execution_count": 41,
   "id": "bb4c32ee-475e-4d9b-b427-2b21e891a2b7",
   "metadata": {},
   "outputs": [
    {
     "name": "stdout",
     "output_type": "stream",
     "text": [
      "you are dropping 0.5546 seconds of recorded data\n",
      "you are dropping 0.5546 seconds of recorded data\n"
     ]
    }
   ],
   "source": [
    "\n",
    "fam_timestamps, fam_units = get_spike_specs(fam_path)\n",
    "fam_spiketrain = get_spiketrain(fam_timestamps, 20)\n",
    "unit_labels = get_unit_labels(fam_path)\n",
    "unit_dict = get_unit_timestamps(fam_timestamps, fam_units)\n",
    "sniffing_bouts = boris.get_behavior_bouts(fam_df, 'subject', ['anogential sniffing', 'face sniffing'], 2, .3)\n",
    "fam_event_firingrates = get_event_firing_rates(sniffing_bouts, fam_timestamps, 2, 1, 20, 20000)"
   ]
  },
  {
   "cell_type": "code",
   "execution_count": 42,
   "id": "75455987-f5cb-41ef-a295-4637cc7e9678",
   "metadata": {},
   "outputs": [
    {
     "name": "stdout",
     "output_type": "stream",
     "text": [
      "dict_keys(['1', '3', '4', '5', '8', '15', '16', '19', '20', '31', '33', '42', '44', '55', '62', '63', '64', '65', '66', '67', '68']) dict_keys([8, 19, 4, 5, 1, 15, 3, 55, 44, 33, 20, 66, 42, 68])\n",
      "mua\n"
     ]
    }
   ],
   "source": [
    "print(unit_labels.keys(), unit_dict.keys())\n",
    "unit = 8\n",
    "\n",
    "print(unit_labels[str(unit)])"
   ]
  },
  {
   "cell_type": "code",
   "execution_count": 43,
   "id": "0e070d7d-f40c-435d-b9e6-2b57b164d6e6",
   "metadata": {},
   "outputs": [],
   "source": [
    "fam_unit_spiketrains = get_unit_firing_rates(unit_labels, unit_dict, 20)\n",
    "for unit in unit_dict:\n",
    "    get_event_firing_rates(sniffing_bouts, unit_dict)"
   ]
  },
  {
   "cell_type": "code",
   "execution_count": 14,
   "id": "fc4e9920-05dd-41d8-9233-1ef6cf0d6e0e",
   "metadata": {},
   "outputs": [
    {
     "data": {
      "image/png": "[encoded data removed]",
      "text/plain": [
       "<Figure size 640x480 with 1 Axes>"
      ]
     },
     "metadata": {},
     "output_type": "display_data"
    }
   ],
   "source": [
    "mean_arr = np.mean(fam_event_firingrates, axis=0)\n",
    "sem_arr = sem(fam_event_firingrates, axis=0)\n",
    "x = np.array(range(len(mean_arr)))\n",
    "plt.plot(.001*x, mean_arr)\n",
    "plt.axvline(x=2, color='r', linestyle='--')\n",
    "plt.xlim(0,5)\n",
    "plt.title('Fam sniffing triggered population firing rate average')\n",
    "#plt.fill_between(range(len(mean_arr)), mean_arr-sem_arr, mean_arr+sem_arr, alpha=0.2)\n",
    "plt.show()"
   ]
  },
  {
   "cell_type": "code",
   "execution_count": 88,
   "id": "5cf00692-17c0-45a2-a731-c72bdbb7064a",
   "metadata": {},
   "outputs": [
    {
     "name": "stdout",
     "output_type": "stream",
     "text": [
      "-0.69635 you are losing this many seconds of recording data\n",
      "-0.69635 you are losing this many seconds of recording data\n"
     ]
    }
   ],
   "source": [
    "cagemate_path ='.\\\\proc_old_backup\\\\20221219_141311_6_1_cagemate_merged.rec\\\\phy'\n",
    "    \n",
    "cagemate_timestamps, cagemate_clusters_array = get_spike_specs(cagemate_path)\n",
    "cagemate_spiketrain = get_spiketrain(cagemate_timestamps, 20)\n",
    "\n",
    "cagemate_sniffing_bouts = boris.get_behavior_bouts(cagemate_df, 'subject', ['anogential sniffing', 'face sniffing'], 2, .3)\n",
    "cagemateevent_firingrates = get_event_firing_rates(cagemate_sniffing_bouts, cagemate_timestamps, 2, 1, 20, 20000)\n"
   ]
  },
  {
   "cell_type": "code",
   "execution_count": 98,
   "id": "764bd192-fd91-49e2-a110-b2353c3b506d",
   "metadata": {},
   "outputs": [
    {
     "data": {
      "image/png": "[encoded data removed]",
      "text/plain": [
       "<Figure size 640x480 with 1 Axes>"
      ]
     },
     "metadata": {},
     "output_type": "display_data"
    }
   ],
   "source": [
    "mean_arr = np.mean(cagemateevent_firingrates, axis=0)\n",
    "sem_arr = sem(cagemateevent_firingrates, axis=0)\n",
    "x = np.array(range(len(mean_arr)))\n",
    "plt.plot(.001*x, mean_arr)\n",
    "plt.axvline(x=2, color='r', linestyle='--')\n",
    "plt.xlim(0,5)\n",
    "plt.title('Cagemate sniffing triggered population firing rate average')\n",
    "#plt.fill_between(range(len(mean_arr)), mean_arr-sem_arr, mean_arr+sem_arr, alpha=0.2)\n",
    "plt.show()"
   ]
  },
  {
   "cell_type": "code",
   "execution_count": 102,
   "id": "4f74e4cc-5463-42fd-a397-e00503f1a7dc",
   "metadata": {},
   "outputs": [
    {
     "name": "stdout",
     "output_type": "stream",
     "text": [
      "-0.55855 you are losing this many seconds of recording data\n",
      "-0.55855 you are losing this many seconds of recording data\n"
     ]
    },
    {
     "data": {
      "image/png": "[encoded data removed]",
      "text/plain": [
       "<Figure size 640x480 with 1 Axes>"
      ]
     },
     "metadata": {},
     "output_type": "display_data"
    }
   ],
   "source": [
    "novel_path ='.\\\\proc_old_backup\\\\20221219_124942_6_1_novel_merged.rec\\\\phy'\n",
    "    \n",
    "novel_timestamps, novel_clusters_array = get_spike_specs(novel_path)\n",
    "novel_spiketrain = get_spiketrain(novel_timestamps, 20)\n",
    "\n",
    "novel_sniffing_bouts = boris.get_behavior_bouts(novel_df, 'subject', ['anogential sniffing', 'face sniffing'], 2, .3)\n",
    "novelevent_firingrates = get_event_firing_rates(novel_sniffing_bouts, novel_timestamps, 2, 1, 20, 20000)    \n",
    "\n",
    "mean_arr = np.mean(novelevent_firingrates, axis=0)\n",
    "sem_arr = sem(novelevent_firingrates, axis=0)\n",
    "x = np.array(range(len(mean_arr)))\n",
    "plt.plot(.001*x, mean_arr)\n",
    "plt.axvline(x=2, color='r', linestyle='--')\n",
    "plt.xlim(0,10)\n",
    "plt.title('novel sniffing triggered population firing rate average')\n",
    "#plt.fill_between(range(len(mean_arr)), mean_arr-sem_arr, mean_arr+sem_arr, alpha=0.2)\n",
    "plt.show()"
   ]
  },
  {
   "cell_type": "code",
   "execution_count": 12,
   "id": "1e8c0463-31ba-4541-aad8-344958363113",
   "metadata": {},
   "outputs": [
    {
     "ename": "NameError",
     "evalue": "name 'fam_all_sniff' is not defined",
     "output_type": "error",
     "traceback": [
      "\u001b[1;31m---------------------------------------------------------------------------\u001b[0m",
      "\u001b[1;31mNameError\u001b[0m                                 Traceback (most recent call last)",
      "Cell \u001b[1;32mIn[12], line 1\u001b[0m\n\u001b[1;32m----> 1\u001b[0m x \u001b[38;5;241m=\u001b[39m np\u001b[38;5;241m.\u001b[39marray(\u001b[38;5;28mrange\u001b[39m(\u001b[38;5;28mlen\u001b[39m(\u001b[43mfam_all_sniff\u001b[49m)))\n\u001b[0;32m      2\u001b[0m plt\u001b[38;5;241m.\u001b[39mfigure(figsize \u001b[38;5;241m=\u001b[39m (\u001b[38;5;241m25\u001b[39m,\u001b[38;5;241m5\u001b[39m))\n\u001b[0;32m      3\u001b[0m plt\u001b[38;5;241m.\u001b[39mylim(\u001b[38;5;241m0\u001b[39m,\u001b[38;5;241m35\u001b[39m)\n",
      "\u001b[1;31mNameError\u001b[0m: name 'fam_all_sniff' is not defined"
     ]
    }
   ],
   "source": [
    "x = np.array(range(len(fam_all_sniff)))\n",
    "plt.figure(figsize = (25,5))\n",
    "plt.ylim(0,35)\n",
    "plt.plot(x, fam_all_sniff, c = 'r', linewidth = 2)\n",
    "plt.plot(x, fam_baseline_snippet, c = 'k', linewidth = .5)\n",
    "plt.title('FAM', fontsize = 40)\n",
    "\n",
    "x = np.array(range(len(novel_all_sniff)))\n",
    "plt.figure(figsize = (25,5))\n",
    "plt.plot(x, novel_all_sniff, c = 'r', linewidth = 2)\n",
    "plt.plot(x, novel_baseline_snippet, c = 'k', linewidth = .5)\n",
    "plt.title('Novel', fontsize = 40)\n",
    "\n",
    "x = np.array(range(len(cagemate_all_sniff)))\n",
    "plt.figure(figsize = (25,5))\n",
    "plt.plot(x, cagemate_all_sniff, c = 'r', linewidth = 2)\n",
    "plt.plot(x, cagemate_baseline_snippet, c = 'k', linewidth = .5)\n",
    "plt.title('Cagemate', fontsize = 40)"
   ]
  },
  {
   "cell_type": "code",
   "execution_count": 13,
   "id": "a1fcbd3e-3736-4890-b198-b9b1b28a7f0e",
   "metadata": {},
   "outputs": [
    {
     "ename": "NameError",
     "evalue": "name 'spiketrain_array' is not defined",
     "output_type": "error",
     "traceback": [
      "\u001b[1;31m---------------------------------------------------------------------------\u001b[0m",
      "\u001b[1;31mNameError\u001b[0m                                 Traceback (most recent call last)",
      "Cell \u001b[1;32mIn[13], line 3\u001b[0m\n\u001b[0;32m      1\u001b[0m \u001b[38;5;66;03m# Create the raster plot\u001b[39;00m\n\u001b[0;32m      2\u001b[0m plt\u001b[38;5;241m.\u001b[39mfigure(figsize \u001b[38;5;241m=\u001b[39m (\u001b[38;5;241m12\u001b[39m,\u001b[38;5;241m1\u001b[39m))\n\u001b[1;32m----> 3\u001b[0m plt\u001b[38;5;241m.\u001b[39meventplot(\u001b[43mspiketrain_array\u001b[49m)\n\u001b[0;32m      4\u001b[0m plt\u001b[38;5;241m.\u001b[39mxlabel(\u001b[38;5;124m'\u001b[39m\u001b[38;5;124mTime (ms)\u001b[39m\u001b[38;5;124m'\u001b[39m)\n\u001b[0;32m      5\u001b[0m plt\u001b[38;5;241m.\u001b[39mylabel(\u001b[38;5;124m'\u001b[39m\u001b[38;5;124mNeuron\u001b[39m\u001b[38;5;124m'\u001b[39m)\n",
      "\u001b[1;31mNameError\u001b[0m: name 'spiketrain_array' is not defined"
     ]
    },
    {
     "data": {
      "text/plain": [
       "<Figure size 1200x100 with 0 Axes>"
      ]
     },
     "metadata": {},
     "output_type": "display_data"
    }
   ],
   "source": [
    "# Create the raster plot\n",
    "plt.figure(figsize = (12,1))\n",
    "plt.eventplot(spiketrain_array)\n",
    "plt.xlabel('Time (ms)')\n",
    "plt.ylabel('Neuron')\n",
    "plt.title('Raster Plot')\n",
    "plt.show()"
   ]
  },
  {
   "cell_type": "code",
   "execution_count": 14,
   "id": "a4324553-918c-479a-874e-0e23ec8b0df9",
   "metadata": {},
   "outputs": [
    {
     "name": "stdout",
     "output_type": "stream",
     "text": [
      "[[1 4]\n",
      " [2 3]]\n",
      "[1 2 3 4]\n"
     ]
    }
   ],
   "source": [
    "fake_array = np.array([[1,4], [2,3]])\n",
    "new_array = np.sort(fake_array.flatten())\n",
    "print(fake_array)\n",
    "print(new_array)"
   ]
  },
  {
   "cell_type": "code",
   "execution_count": 15,
   "id": "b5922692-e7a7-4fa2-a369-45dce711a673",
   "metadata": {},
   "outputs": [],
   "source": [
    "reshaped_array = np.reshape(new_array*1000, (2,2))"
   ]
  },
  {
   "cell_type": "code",
   "execution_count": 16,
   "id": "48d83c4c-141b-4f88-9bec-218008540c77",
   "metadata": {},
   "outputs": [
    {
     "data": {
      "text/plain": [
       "array([[1000, 2000],\n",
       "       [3000, 4000]])"
      ]
     },
     "execution_count": 16,
     "metadata": {},
     "output_type": "execute_result"
    }
   ],
   "source": [
    "reshaped_array"
   ]
  },
  {
   "cell_type": "code",
   "execution_count": 17,
   "id": "0f261d36-f3af-4fc5-9002-3805860dd081",
   "metadata": {},
   "outputs": [
    {
     "data": {
      "text/plain": [
       "[1, 2, 3, 4, 5, 1, 2]"
      ]
     },
     "execution_count": 17,
     "metadata": {},
     "output_type": "execute_result"
    }
   ],
   "source": [
    "fake_data = [1,2,3,4,5]\n",
    "fake_data.extend([1,2])\n",
    "fake_data"
   ]
  },
  {
   "cell_type": "code",
   "execution_count": 18,
   "id": "0ff03477-0bea-4a81-b26a-997f9593ac1e",
   "metadata": {},
   "outputs": [
    {
     "data": {
      "text/plain": [
       "[[2, 3], [3, 3]]"
      ]
     },
     "execution_count": 18,
     "metadata": {},
     "output_type": "execute_result"
    }
   ],
   "source": [
    "nested_dict = {'a' : {'b' : [[2,3], [3,3]]}}\n",
    "nested_dict['a']['b']"
   ]
  },
  {
   "cell_type": "code",
   "execution_count": 19,
   "id": "199b8e62-b960-4ad7-a17b-56a61dc4167d",
   "metadata": {},
   "outputs": [],
   "source": [
    "empty_list = []\n",
    "snif_bouts = [[1,2], [8,10]]\n",
    "anogential_bouts = [[4,9]]\n",
    "empty_list.append(snif_bouts)\n",
    "empty_list.append(anogential_bouts)\n",
    "bouts = np.concatenate(empty_list)"
   ]
  },
  {
   "cell_type": "code",
   "execution_count": 20,
   "id": "2ac8d3a4-850c-4c3c-8f5e-c6471a0ca8a2",
   "metadata": {},
   "outputs": [],
   "source": [
    "organizer = np.argsort(bouts[:,0])"
   ]
  },
  {
   "cell_type": "code",
   "execution_count": 21,
   "id": "103f0afe-1ce2-494a-b242-afa15edba1e3",
   "metadata": {},
   "outputs": [],
   "source": [
    "bouts = bouts[organizer]"
   ]
  },
  {
   "cell_type": "code",
   "execution_count": 22,
   "id": "bca4f9c7-0d8d-4f02-9cd5-74b16ec37118",
   "metadata": {},
   "outputs": [
    {
     "data": {
      "text/plain": [
       "array([[ 1,  2],\n",
       "       [ 4,  9],\n",
       "       [ 8, 10]])"
      ]
     },
     "execution_count": 22,
     "metadata": {},
     "output_type": "execute_result"
    }
   ],
   "source": [
    "bouts"
   ]
  },
  {
   "cell_type": "code",
   "execution_count": 23,
   "id": "fe2cd5ae-ef76-4720-9b0b-359c8eb1bd6a",
   "metadata": {},
   "outputs": [
    {
     "data": {
      "text/plain": [
       "'mouse_mouse1'"
      ]
     },
     "execution_count": 23,
     "metadata": {},
     "output_type": "execute_result"
    }
   ],
   "source": [
    "subject = ['mouse', 'mouse1']\n",
    "'_'.join(subject)\n",
    "    "
   ]
  },
  {
   "cell_type": "code",
   "execution_count": 24,
   "id": "c2fd11a4-fb87-40e4-8d3b-1dd4baa3edc1",
   "metadata": {},
   "outputs": [
    {
     "name": "stdout",
     "output_type": "stream",
     "text": [
      "yes\n"
     ]
    }
   ],
   "source": [
    "if type(subject) == list:\n",
    "    print('yes')\n",
    "else:\n",
    "    print('no')"
   ]
  },
  {
   "cell_type": "code",
   "execution_count": 25,
   "id": "e2a8b8fb-672f-411d-ad51-debd48db54c2",
   "metadata": {},
   "outputs": [
    {
     "name": "stdout",
     "output_type": "stream",
     "text": [
      "subject_cagemate_facesniffing_anogenitalsniffing_bouts.npy\n"
     ]
    }
   ],
   "source": [
    "subject = ['subject', 'cage mate']\n",
    "behavior = ['face sniffing', 'anogenital sniffing']\n",
    "if type(subject) == list:\n",
    "    subject = '_'.join(subject)\n",
    "if type(behavior) == list:\n",
    "    behavior = '_'.join(behavior)\n",
    "subject = subject.replace(\" \", \"\")\n",
    "behavior = behavior.replace(\" \",\"\")\n",
    "filename = f\"{subject}_{behavior}_bouts.npy\"\n",
    "print(filename)"
   ]
  },
  {
   "cell_type": "code",
   "execution_count": 26,
   "id": "386e0d0e-a812-4ec5-a4ab-41cd13179eff",
   "metadata": {},
   "outputs": [
    {
     "data": {
      "text/plain": [
       "array([4, 5, 6, 7])"
      ]
     },
     "execution_count": 26,
     "metadata": {},
     "output_type": "execute_result"
    }
   ],
   "source": [
    "fake_array = np.array([1,2,3,4,5,6,7])\n",
    "i = 3\n",
    "\n",
    "fake_array = fake_array[i:]\n",
    "fake_array"
   ]
  },
  {
   "cell_type": "code",
   "execution_count": 27,
   "id": "95977474-a8f2-484e-a59a-8a44317aa48c",
   "metadata": {},
   "outputs": [],
   "source": [
    "subject = 'mouse'\n",
    "if type(subject) != list:\n",
    "    subject = [subject]\n"
   ]
  },
  {
   "cell_type": "code",
   "execution_count": 28,
   "id": "e50a7330-3951-43c7-9895-0009cc6a1dd9",
   "metadata": {},
   "outputs": [
    {
     "name": "stdout",
     "output_type": "stream",
     "text": [
      "['mouse']\n"
     ]
    }
   ],
   "source": [
    "print(subject)"
   ]
  },
  {
   "cell_type": "code",
   "execution_count": 29,
   "id": "afb352f2-42ab-40c0-94c9-0a8640ae076f",
   "metadata": {},
   "outputs": [],
   "source": [
    "arrays = []\n",
    "one_nparray = np.array([[1,2],[1,3]])\n",
    "#two_nparray = np.array([[1,2],[1,3]])\n",
    "arrays.append(one_nparray)\n",
    "#arrays.append(two_nparray)"
   ]
  },
  {
   "cell_type": "code",
   "execution_count": 30,
   "id": "bf2c6540-a2bf-4c85-8705-c20e9223deae",
   "metadata": {},
   "outputs": [
    {
     "data": {
      "text/plain": [
       "1"
      ]
     },
     "execution_count": 30,
     "metadata": {},
     "output_type": "execute_result"
    }
   ],
   "source": [
    "len(arrays)"
   ]
  },
  {
   "cell_type": "code",
   "execution_count": 31,
   "id": "e96754c7-6f24-49b4-bb57-f38a6b59ae6b",
   "metadata": {},
   "outputs": [
    {
     "data": {
      "text/plain": [
       "array([[1, 2],\n",
       "       [1, 3]])"
      ]
     },
     "execution_count": 31,
     "metadata": {},
     "output_type": "execute_result"
    }
   ],
   "source": [
    "long_nparray = np.concatenate(arrays)\n",
    "long_nparray"
   ]
  },
  {
   "cell_type": "code",
   "execution_count": 32,
   "id": "559992ee-ad41-4206-bb74-052bd7d2d8de",
   "metadata": {},
   "outputs": [
    {
     "data": {
      "text/plain": [
       "32"
      ]
     },
     "execution_count": 32,
     "metadata": {},
     "output_type": "execute_result"
    }
   ],
   "source": [
    "spiketrain = np.array([0,2,3,1,2,3,4,5,0,0,0,0,1,2,3,4,5,3,4,5,1,1,1,1,1,0,0,0,0,0,0,0])\n",
    "smoothing_window = 3\n",
    "timebin = 2\n",
    "\n",
    "len(spiketrain)\n"
   ]
  },
  {
   "cell_type": "code",
   "execution_count": 33,
   "id": "670269d2-aa55-4ce1-a8ac-07d95e1bcfce",
   "metadata": {},
   "outputs": [
    {
     "data": {
      "text/plain": [
       "array([2., 4., 5., 9., 0., 0., 3., 7., 8., 9., 2., 2., 1., 0., 0., 0.])"
      ]
     },
     "execution_count": 33,
     "metadata": {},
     "output_type": "execute_result"
    }
   ],
   "source": [
    "if timebin != 1:\n",
    "    current_timebin = 0\n",
    "    temp_spiketrain = np.zeros(math.ceil(len(spiketrain)/timebin))\n",
    "    for i in range(0, len(spiketrain), timebin):\n",
    "        try:\n",
    "            temp_spiketrain[current_timebin] = sum(spiketrain[i:i+timebin])\n",
    "            current_timebin += 1\n",
    "        except IndexError:\n",
    "            #should i pad here or just drop it? \n",
    "            temp_spiketrain[current_timebin] = sum(spiketrain[i:])\n",
    "    spiketrain = temp_spiketrain\n",
    "\n",
    "spiketrain\n"
   ]
  },
  {
   "cell_type": "code",
   "execution_count": 34,
   "id": "9cda963d-7f30-4294-bc85-5baf36a8c346",
   "metadata": {},
   "outputs": [
    {
     "data": {
      "text/plain": [
       "16"
      ]
     },
     "execution_count": 34,
     "metadata": {},
     "output_type": "execute_result"
    }
   ],
   "source": [
    "len(spiketrain)"
   ]
  },
  {
   "cell_type": "code",
   "execution_count": 35,
   "id": "e7fc9328-a7af-4a1a-b89a-5fa3ec55408e",
   "metadata": {},
   "outputs": [
    {
     "data": {
      "text/plain": [
       "array([1833.33333333, 3000.        , 2333.33333333, 1500.        ,\n",
       "        500.        , 1666.66666667, 3000.        , 4000.        ,\n",
       "       3166.66666667, 2166.66666667,  833.33333333,  500.        ,\n",
       "        166.66666667])"
      ]
     },
     "execution_count": 35,
     "metadata": {},
     "output_type": "execute_result"
    }
   ],
   "source": [
    "firing_rate = np.empty(len(spiketrain) - smoothing_window)\n",
    "rolling_sum = sum(spiketrain[0:smoothing_window])\n",
    "for i in range(len(firing_rate)):\n",
    "    firing_rate[i] = rolling_sum / (smoothing_window * .001 * timebin)\n",
    "    rolling_sum = rolling_sum - spiketrain[i] + spiketrain[i+smoothing_window]\n",
    "firing_rate"
   ]
  },
  {
   "cell_type": "code",
   "execution_count": 36,
   "id": "766ea227-73bd-4914-8031-4b9302ee9c7f",
   "metadata": {},
   "outputs": [
    {
     "name": "stdout",
     "output_type": "stream",
     "text": [
      "0 [2 4 5]\n",
      "1 [2 4 5]\n",
      "2 [2 4 5]\n",
      "0 [0 6 7]\n",
      "1 [0 6 7]\n",
      "2 [0 6 7]\n"
     ]
    }
   ],
   "source": [
    "labels_dict = {'1': 'good', '2': 'mua', '3':'good'}\n",
    "spike_dict = {'1': np.array([2,4,5]), '2': np.array([1,3]), '3': np.array([0,6,7])}\n",
    "recording_length = 10\n",
    "unit_spiketrains = {}\n",
    "for unit in spike_dict.keys():\n",
    "    if labels_dict[unit] == 'good':\n",
    "        unit_spiketrains[unit] = get_spiketrain(spike_dict[unit], recording_length, 1000)\n",
    "\n"
   ]
  },
  {
   "cell_type": "code",
   "execution_count": 37,
   "id": "6773c48a-022e-4221-9cec-cb1773058e44",
   "metadata": {},
   "outputs": [
    {
     "data": {
      "text/plain": [
       "{'1': array([0., 0., 1., 0., 1., 1., 0., 0., 0., 0., 0.]),\n",
       " '3': array([1., 0., 0., 0., 0., 0., 1., 1., 0., 0., 0.])}"
      ]
     },
     "execution_count": 37,
     "metadata": {},
     "output_type": "execute_result"
    }
   ],
   "source": [
    "unit_spiketrains"
   ]
  },
  {
   "cell_type": "code",
   "execution_count": 43,
   "id": "4be5e78d-8d90-4a1e-b180-89738de7711b",
   "metadata": {},
   "outputs": [
    {
     "name": "stdout",
     "output_type": "stream",
     "text": [
      "0 [2 4 5]\n",
      "1 [2 4 5]\n",
      "2 [2 4 5]\n",
      "0 [0 6 7]\n",
      "1 [0 6 7]\n",
      "2 [0 6 7]\n",
      "0 [2 4 5]\n",
      "1 [2 4 5]\n",
      "2 [2 4 5]\n",
      "0 [0 6 7]\n",
      "1 [0 6 7]\n",
      "2 [0 6 7]\n"
     ]
    }
   ],
   "source": [
    "unit_firing_rates = {}\n",
    "unit_spiketrains = get_unit_spiketrains(labels_dict, spike_dict, 10, 1000)\n",
    "for unit in unit_spiketrains.keys():\n",
    "    unit_firing_rates[unit] = get_firing_rate(spike_dict[unit], 10, 2, 2, 1000)"
   ]
  },
  {
   "cell_type": "code",
   "execution_count": 44,
   "id": "fefcd022-eb86-4dd1-97c2-6473707dafa2",
   "metadata": {},
   "outputs": [
    {
     "data": {
      "text/plain": [
       "{'1': array([250., 750., 500.,   0.]), '3': array([250.,   0., 500., 500.])}"
      ]
     },
     "execution_count": 44,
     "metadata": {},
     "output_type": "execute_result"
    }
   ],
   "source": [
    "unit_firing_rates"
   ]
  },
  {
   "cell_type": "code",
   "execution_count": null,
   "id": "e8cc7032-ad13-4b58-9623-b3dd10779daa",
   "metadata": {},
   "outputs": [],
   "source": []
  }
 ],
 "metadata": {
  "kernelspec": {
   "display_name": "Python 3 (ipykernel)",
   "language": "python",
   "name": "python3"
  },
  "language_info": {
   "codemirror_mode": {
    "name": "ipython",
    "version": 3
   },
   "file_extension": ".py",
   "mimetype": "text/x-python",
   "name": "python",
   "nbconvert_exporter": "python",
   "pygments_lexer": "ipython3",
   "version": "3.10.9"
  }
 },
 "nbformat": 4,
 "nbformat_minor": 5
}
